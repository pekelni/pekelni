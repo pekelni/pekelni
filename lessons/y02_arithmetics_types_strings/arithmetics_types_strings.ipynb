{
 "cells": [
  {
   "cell_type": "markdown",
   "id": "2ed0fbec",
   "metadata": {},
   "source": [
    "<img src=\"../logo.png\" style=\"float: left;\">"
   ]
  },
  {
   "cell_type": "markdown",
   "id": "ec2f1b53",
   "metadata": {},
   "source": [
    "# 2. Арифметика, типи, знайомство з рядками\n",
    "Дисклеймер: перші декілька уроків можуть здатися абстрактно-нуднуватими деяким людям хто не в захваті від математики і ребусів.\n",
    "\n",
    "Уявіть що ви ніколи не їздили на велосипеді, машині і виросли у Північній Кореї де комунізм досяг такого рівня розвитку що вони перемогли затори на дорогах. І тут ви приходите у мотошколу, де хочете навчитися їздити на мотоциклі по дорогах із інтенсивним трафіком і безпощадними українськими водіями. Таке навчання мало б бути дуже захоплюючим, чи не так?\n",
    "\n",
    "Натомість перші 99 хвилин заняття вам розповідають про коробку передач, як вмикати сигнал повороту і де ручка газу. Наступні 30+ хвилин ви вчитеся по пам'яті згадувати де кнопка газу, гальм, перемикання передач і зчеплення. Нудно.\n",
    "\n",
    "Аналогічними є і перші кілька уроків тут. Ми знайомимося з примітивами програмування і ще не пишемо жодних алгоритмів. Це необхідний старт який треба пережити. Тому тримайтеся, коли дійдемо до циклів вже почнуться цікавинки.\n",
    "\n",
    "## Функція print()"
   ]
  },
  {
   "cell_type": "markdown",
   "id": "f9568514",
   "metadata": {},
   "source": [
    "Функція `print()` друкує аргументи які їй були передані. У прикладі `print(1)` - це виклик функції print, а 1 це аргумент. Аргумент це значення що змінює поведінку функції: якщо передати 1 то буде надрукована одиниця, якщо передати 666 буде надруковано 666."
   ]
  },
  {
   "cell_type": "code",
   "execution_count": 1,
   "id": "790b6ca0",
   "metadata": {},
   "outputs": [
    {
     "name": "stdout",
     "output_type": "stream",
     "text": [
      "1\n"
     ]
    }
   ],
   "source": [
    "print(1)"
   ]
  },
  {
   "cell_type": "markdown",
   "id": "c3bf0943",
   "metadata": {},
   "source": [
    "Функція print може приймати багато аргументів розділених комою, усі з них будуть надруковані."
   ]
  },
  {
   "cell_type": "code",
   "execution_count": 2,
   "id": "6a5e68d8",
   "metadata": {},
   "outputs": [
    {
     "name": "stdout",
     "output_type": "stream",
     "text": [
      "1 2 -100500\n"
     ]
    }
   ],
   "source": [
    "print(1, 2, -100500)"
   ]
  },
  {
   "cell_type": "markdown",
   "id": "a9a99d0a",
   "metadata": {},
   "source": [
    "Значок решітки \"#\" означає початок коментаря у коді, тобто певного повідомлення від програміста собі у майбутнє або просто іншому програмісту який читатиме код. Коментарі ігноруються Пайтоном, вони існують просто для людей."
   ]
  },
  {
   "cell_type": "code",
   "execution_count": 3,
   "id": "2fa52067",
   "metadata": {},
   "outputs": [],
   "source": [
    "# print(100500)"
   ]
  },
  {
   "cell_type": "markdown",
   "id": "3953c329",
   "metadata": {},
   "source": [
    "У наступних прикладах я покажу приклади **неправильного використання функції print і помилки які виникають у тих випадках**."
   ]
  },
  {
   "cell_type": "code",
   "execution_count": 4,
   "id": "8b15e38c",
   "metadata": {},
   "outputs": [
    {
     "ename": "SyntaxError",
     "evalue": "Missing parentheses in call to 'print'. Did you mean print(1)? (2006075915.py, line 1)",
     "output_type": "error",
     "traceback": [
      "\u001b[0;36m  File \u001b[0;32m\"/tmp/ipykernel_25122/2006075915.py\"\u001b[0;36m, line \u001b[0;32m1\u001b[0m\n\u001b[0;31m    print 1\u001b[0m\n\u001b[0m          ^\u001b[0m\n\u001b[0;31mSyntaxError\u001b[0m\u001b[0;31m:\u001b[0m Missing parentheses in call to 'print'. Did you mean print(1)?\n"
     ]
    }
   ],
   "source": [
    "print 1"
   ]
  },
  {
   "cell_type": "code",
   "execution_count": 13,
   "id": "a81d92aa",
   "metadata": {},
   "outputs": [
    {
     "ename": "SyntaxError",
     "evalue": "invalid syntax (1066343520.py, line 1)",
     "output_type": "error",
     "traceback": [
      "\u001b[0;36m  File \u001b[0;32m\"/tmp/ipykernel_25122/1066343520.py\"\u001b[0;36m, line \u001b[0;32m1\u001b[0m\n\u001b[0;31m    print(1 2 -100500)\u001b[0m\n\u001b[0m            ^\u001b[0m\n\u001b[0;31mSyntaxError\u001b[0m\u001b[0;31m:\u001b[0m invalid syntax\n"
     ]
    }
   ],
   "source": [
    "print(1 2 -100500)"
   ]
  },
  {
   "cell_type": "code",
   "execution_count": 14,
   "id": "55114ea6",
   "metadata": {},
   "outputs": [
    {
     "ename": "SyntaxError",
     "evalue": "Missing parentheses in call to 'print'. Did you mean print(1 2 100500)? (1777364020.py, line 1)",
     "output_type": "error",
     "traceback": [
      "\u001b[0;36m  File \u001b[0;32m\"/tmp/ipykernel_25122/1777364020.py\"\u001b[0;36m, line \u001b[0;32m1\u001b[0m\n\u001b[0;31m    print 1 2 100500\u001b[0m\n\u001b[0m          ^\u001b[0m\n\u001b[0;31mSyntaxError\u001b[0m\u001b[0;31m:\u001b[0m Missing parentheses in call to 'print'. Did you mean print(1 2 100500)?\n"
     ]
    }
   ],
   "source": [
    "print 1 2 100500"
   ]
  },
  {
   "cell_type": "code",
   "execution_count": 15,
   "id": "ed350cee",
   "metadata": {},
   "outputs": [
    {
     "ename": "SyntaxError",
     "evalue": "invalid syntax (2782822439.py, line 1)",
     "output_type": "error",
     "traceback": [
      "\u001b[0;36m  File \u001b[0;32m\"/tmp/ipykernel_25122/2782822439.py\"\u001b[0;36m, line \u001b[0;32m1\u001b[0m\n\u001b[0;31m    print(1 2, 100500)\u001b[0m\n\u001b[0m            ^\u001b[0m\n\u001b[0;31mSyntaxError\u001b[0m\u001b[0;31m:\u001b[0m invalid syntax\n"
     ]
    }
   ],
   "source": [
    "print(1 2, 100500)"
   ]
  },
  {
   "cell_type": "code",
   "execution_count": 16,
   "id": "d295b83b",
   "metadata": {},
   "outputs": [
    {
     "data": {
      "text/plain": [
       "<function print>"
      ]
     },
     "execution_count": 16,
     "metadata": {},
     "output_type": "execute_result"
    }
   ],
   "source": [
    "print"
   ]
  },
  {
   "cell_type": "markdown",
   "id": "b539377c",
   "metadata": {},
   "source": [
    "З вікіпедії: Синтаксис комп'ютерної мови — це сукупність правил, що визначають комбінації символів, які вважаються правильно структурованим документом або фрагментом цієї мови.\n",
    "\n",
    "Помилка синтаксису означає що ви неправильно зкомбінували (забули вжити або додали зайві) символи у коді програми, зазвичай коми, дужки, двокрапки і тд."
   ]
  },
  {
   "cell_type": "markdown",
   "id": "d166f19e",
   "metadata": {},
   "source": [
    "## Цілі числа і числа з рухомою комою (дійсні числа)"
   ]
  },
  {
   "cell_type": "markdown",
   "id": "40126de3",
   "metadata": {},
   "source": [
    "У Пайтоні є два основних типи чисел: цілі і з рухомою комою (дійсні) числа. Зверніть увагу що хоча традиційно такі числа називаються саме з рухомою **комою** в українській мові, у Пайтоні вони записуються з **крапкою**, бо в англомовному світі прийнято використовувати саме крапку, до того ж кома у Пайтоні це роздільник, наприклад роздільник коли ви передаєте кілька аргументів у функцію `print()` - `print(1, 2, 3)`, і, як ви пам'ятаєте, без цього роздільника ми отримаємо помилку синтаксису."
   ]
  },
  {
   "cell_type": "code",
   "execution_count": 17,
   "id": "8ecb0380",
   "metadata": {
    "scrolled": true
   },
   "outputs": [
    {
     "name": "stdout",
     "output_type": "stream",
     "text": [
      "0\n",
      "-1\n",
      "1.0\n",
      "-1.66\n"
     ]
    }
   ],
   "source": [
    "print(0)\n",
    "print(-1)\n",
    "print(1.0)\n",
    "print(-1.66)"
   ]
  },
  {
   "cell_type": "markdown",
   "id": "f33a6b1e",
   "metadata": {},
   "source": [
    "Функція `type()` визначає тип аргументу що їй переданий.  \n",
    "У програмуванні загалом і у Пайтоні теж важливо розуміти з яким типом даних ви працюєте, бо від того залежить які операції можуть виконуватися.\n",
    "\n",
    "Наприклад, у фізичному світі ви зазвичай не будете забивати цвяхи телефоном (окрім Nokia 3310), бо розумієте що об'єкти **типу** \"телефон\" не пристосовані для забивання об'єктів **типу** \"цвях\". Пізніше я детальніше поясню яким чином телефон і цвяхи релевантні у Пайтоні."
   ]
  },
  {
   "cell_type": "code",
   "execution_count": 18,
   "id": "fc97733e",
   "metadata": {},
   "outputs": [
    {
     "name": "stdout",
     "output_type": "stream",
     "text": [
      "<class 'int'>\n"
     ]
    }
   ],
   "source": [
    "print(type(0))"
   ]
  },
  {
   "cell_type": "markdown",
   "id": "0a5a98ac",
   "metadata": {},
   "source": [
    "Ми викликаємо функцію `print()` і передаємо їй результат роботи виклику функції `type()`.\n",
    "\n",
    "Ми поки не будемо детально зупинятись на тому що таке class. Проте варто знати що:  \n",
    "- `int` то є скорочення від integer, integer перекладається як \"ціле\" (число)\n",
    "- `float` то скорочення від floating-point, перекладається як (числа з) \"плаваючою точкою\" або більш загальноприйнято - числа з рухомою комою"
   ]
  },
  {
   "cell_type": "code",
   "execution_count": 19,
   "id": "0c183891",
   "metadata": {
    "scrolled": true
   },
   "outputs": [
    {
     "name": "stdout",
     "output_type": "stream",
     "text": [
      "<class 'int'>\n",
      "<class 'int'>\n",
      "<class 'float'>\n",
      "<class 'float'>\n"
     ]
    }
   ],
   "source": [
    "print(type(0))\n",
    "print(type(-1))\n",
    "print(type(1.0))\n",
    "print(type(-1.66))"
   ]
  },
  {
   "cell_type": "markdown",
   "id": "fb9c8fd1",
   "metadata": {},
   "source": [
    "## Проста арифметика\n",
    "Додавання, віднімання, множення, ділення, дужки."
   ]
  },
  {
   "cell_type": "markdown",
   "id": "68b83ba6",
   "metadata": {},
   "source": [
    "Зверніть увагу як обирається тип результату (int чи float) коли операція відбувається на числах різних типів."
   ]
  },
  {
   "cell_type": "code",
   "execution_count": 20,
   "id": "0e6505f4",
   "metadata": {},
   "outputs": [
    {
     "name": "stdout",
     "output_type": "stream",
     "text": [
      "2\n",
      "2.0\n",
      "2.2\n"
     ]
    }
   ],
   "source": [
    "print(1 + 1)\n",
    "print(1 + 1.)\n",
    "print(1.2 + 1.)"
   ]
  },
  {
   "cell_type": "code",
   "execution_count": 21,
   "id": "74071ee3",
   "metadata": {},
   "outputs": [
    {
     "name": "stdout",
     "output_type": "stream",
     "text": [
      "-1\n",
      "-7.0\n",
      "24.8766\n",
      "24.8766\n"
     ]
    }
   ],
   "source": [
    "print(1 - 2)\n",
    "print(1 - 8.)\n",
    "print(13 - 7.1234 + 19)\n",
    "print(13 + 19 - 7.1234)"
   ]
  },
  {
   "cell_type": "code",
   "execution_count": 22,
   "id": "13cbc13c",
   "metadata": {},
   "outputs": [
    {
     "name": "stdout",
     "output_type": "stream",
     "text": [
      "7.0\n",
      "7.0\n",
      "6.666666666666667\n",
      "7961.290322580645\n"
     ]
    }
   ],
   "source": [
    "print(21 / 3)\n",
    "print(21. / 3)\n",
    "print(20 / 3)\n",
    "print(20 / 3.1 * 1234)"
   ]
  },
  {
   "cell_type": "code",
   "execution_count": 23,
   "id": "4f5d42b9",
   "metadata": {},
   "outputs": [
    {
     "name": "stdout",
     "output_type": "stream",
     "text": [
      "4\n",
      "4.0\n",
      "5182.8\n"
     ]
    }
   ],
   "source": [
    "print(2 * 2)\n",
    "print(2 * 2.)\n",
    "print(2.0 * 2.1 * 1234)"
   ]
  },
  {
   "cell_type": "markdown",
   "id": "f48502bf",
   "metadata": {},
   "source": [
    "Множення пріоритетніше за додавання. За допомогою дужок це можна обійти."
   ]
  },
  {
   "cell_type": "code",
   "execution_count": 24,
   "id": "e16aade0",
   "metadata": {},
   "outputs": [
    {
     "name": "stdout",
     "output_type": "stream",
     "text": [
      "4\n",
      "4\n",
      "6\n"
     ]
    }
   ],
   "source": [
    "print(1 + 1 * 3)\n",
    "print(1 + (1 * 3))\n",
    "print((1 + 1) * 3)"
   ]
  },
  {
   "cell_type": "markdown",
   "id": "e6b96b03",
   "metadata": {},
   "source": [
    "У Пайтоні можна писати довгі математичні вирази, з дужками чи без, дужки можна нескінченно вкладати арифметичні вирази."
   ]
  },
  {
   "cell_type": "code",
   "execution_count": 25,
   "id": "fbc20b15",
   "metadata": {},
   "outputs": [
    {
     "name": "stdout",
     "output_type": "stream",
     "text": [
      "866.0\n"
     ]
    }
   ],
   "source": [
    "print(((3 + 99.) * 5 - 6 * (88 - 10)) * 50 - 1234)"
   ]
  },
  {
   "cell_type": "markdown",
   "id": "581d4e8c",
   "metadata": {},
   "source": [
    "## Цікавіша арифметика\n",
    "Степінь, цілочисельне ділення, остача від ділення."
   ]
  },
  {
   "cell_type": "code",
   "execution_count": 26,
   "id": "4d0a0b16",
   "metadata": {},
   "outputs": [
    {
     "name": "stdout",
     "output_type": "stream",
     "text": [
      "8\n",
      "16\n",
      "2318785835536\n"
     ]
    }
   ],
   "source": [
    "print(2 ** 3)  # те саме що 2 * 2 * 2\n",
    "print(2 ** 4)  # те саме що 2 * 2 * 2 * 2\n",
    "print(1234 ** 4)  # те саме що 1234 * 1234 * 1234 * 1234"
   ]
  },
  {
   "cell_type": "code",
   "execution_count": 27,
   "id": "25ffa252",
   "metadata": {},
   "outputs": [
    {
     "name": "stdout",
     "output_type": "stream",
     "text": [
      "26\n",
      "26\n",
      "26\n"
     ]
    }
   ],
   "source": [
    "print(2 ** 3 + 3 ** 2 * 2)\n",
    "print(8 + 9 * 2)\n",
    "print(8 + 18)"
   ]
  },
  {
   "cell_type": "code",
   "execution_count": 28,
   "id": "97fb9659",
   "metadata": {},
   "outputs": [
    {
     "name": "stdout",
     "output_type": "stream",
     "text": [
      "5.0\n",
      "25.0\n"
     ]
    }
   ],
   "source": [
    "print(25 ** 0.5)\n",
    "print((25 ** 0.5) ** 2)"
   ]
  },
  {
   "cell_type": "markdown",
   "id": "8692b67c",
   "metadata": {},
   "source": [
    "Степінь 0.5 означає квадратний корінь."
   ]
  },
  {
   "cell_type": "code",
   "execution_count": 29,
   "id": "9b5b89bb",
   "metadata": {},
   "outputs": [
    {
     "name": "stdout",
     "output_type": "stream",
     "text": [
      "2.3333333333333335\n",
      "2\n",
      "2.6\n",
      "2\n"
     ]
    }
   ],
   "source": [
    "print(7 / 3)\n",
    "print(7 // 3)  # // означає цілочисельне ділення\n",
    "print(13 / 5)\n",
    "print(13 // 5)  # // означає цілочисельне ділення"
   ]
  },
  {
   "cell_type": "code",
   "execution_count": 30,
   "id": "0037b9ff",
   "metadata": {},
   "outputs": [
    {
     "name": "stdout",
     "output_type": "stream",
     "text": [
      "2\n",
      "1\n",
      "1\n",
      "3\n"
     ]
    }
   ],
   "source": [
    "print(2 % 3)  # % означає остачу від ділення\n",
    "print(4 % 3)\n",
    "print(7 % 3)\n",
    "print(13 % 5)"
   ]
  },
  {
   "cell_type": "code",
   "execution_count": 31,
   "id": "08be7b0b",
   "metadata": {},
   "outputs": [
    {
     "name": "stdout",
     "output_type": "stream",
     "text": [
      "2\n",
      "4\n",
      "7\n",
      "13\n"
     ]
    }
   ],
   "source": [
    "print(2 // 3 * 3 + 2 % 3)  # % означає остачу від ділення\n",
    "print(4 // 3 * 3 + 4 % 3)\n",
    "print(7 // 3 * 3 + 7 % 3)\n",
    "print(13 // 5 * 5 + 13 % 5)"
   ]
  },
  {
   "cell_type": "code",
   "execution_count": 32,
   "id": "d24fa18a",
   "metadata": {},
   "outputs": [
    {
     "name": "stdout",
     "output_type": "stream",
     "text": [
      "-1\n",
      "5\n"
     ]
    }
   ],
   "source": [
    "print(5 % -2)\n",
    "print(5 // -2 * -2 + 5 % -2)"
   ]
  },
  {
   "cell_type": "markdown",
   "id": "aef701c5",
   "metadata": {},
   "source": [
    "Я не пропроную запам'ятовувати і розуміти як працюють від'ємні остачі, просто знайте що такий езотеричний функціонал існує і мабуть десь використовується. Мені за 7 років у програмуванні не пощастило жодного разу ним скористатися."
   ]
  },
  {
   "cell_type": "markdown",
   "id": "00aaddc2",
   "metadata": {},
   "source": [
    "## Основи рядків, їх множення і додавання\n",
    "Рядок (str, string) - фундаментальна і базова структура даних у багатьох мовах програмування. Рядок (тексту) містить в собі нуль або більше символів, серед яких можуть бути літери українського чи англійського алфавіту, цифри, знаки пунктуації, ієрогліфи і не тільки.\n",
    "\n",
    "Коли ви взаємодієте з програмами ви багато де бачити написи, наприклад у пунктах меню чи кнопках які ви натискаєте пальцем на телефоні чи курсором на екрані комп'ютера. Всередині програм такі шматочки тексту представлені саме типом даних \"рядок\" (str, string).\n",
    "\n",
    "Найпростіше що можна розбити із рядками це виводити їх на екран за допомогою `print()`:"
   ]
  },
  {
   "cell_type": "code",
   "execution_count": 33,
   "id": "2a8a5667",
   "metadata": {},
   "outputs": [
    {
     "name": "stdout",
     "output_type": "stream",
     "text": [
      "привіт світ, або hello world\n",
      "знов привіт, цей раз використовуючи подвійні лапки\n"
     ]
    }
   ],
   "source": [
    "print('привіт світ, або hello world')\n",
    "print(\"знов привіт, цей раз використовуючи подвійні лапки\")"
   ]
  },
  {
   "cell_type": "markdown",
   "id": "9ab714dc",
   "metadata": {},
   "source": [
    "Часто рядки виділяються окремим кольором у редакторі де ми пишемо код, у даному випадку червоним. Це полегшує сприйняття коду.\n",
    "\n",
    "Рядки необхідно брати у лапки, одинарні чи двійні. Зараз запам'ятайте це як правило, пізніше ми розберемся чому таке правило існує."
   ]
  },
  {
   "cell_type": "code",
   "execution_count": 34,
   "id": "a93542f3",
   "metadata": {},
   "outputs": [
    {
     "ename": "SyntaxError",
     "evalue": "invalid syntax (4123755417.py, line 1)",
     "output_type": "error",
     "traceback": [
      "\u001b[0;36m  File \u001b[0;32m\"/tmp/ipykernel_25122/4123755417.py\"\u001b[0;36m, line \u001b[0;32m1\u001b[0m\n\u001b[0;31m    print(привіт світ, або hello world)\u001b[0m\n\u001b[0m                 ^\u001b[0m\n\u001b[0;31mSyntaxError\u001b[0m\u001b[0;31m:\u001b[0m invalid syntax\n"
     ]
    }
   ],
   "source": [
    "print(привіт світ, або hello world)"
   ]
  },
  {
   "cell_type": "markdown",
   "id": "13c835aa",
   "metadata": {},
   "source": [
    "Рядки можна додавати. Додавання працює просто \"дописуючи\" доданий рядок праворуч. Додавання рядків ще називають конкатенацією (concatenation), щоб підкреслити що результат операції відрізняється від додавання чисел. Але слово трохи дивне, так.\n",
    "\n",
    "Те, що всередині рядку є цифри і певні арифметичні значки не змінює того, що це рядок і що додавання працює у \"рядковому\" стилі."
   ]
  },
  {
   "cell_type": "code",
   "execution_count": 35,
   "id": "6df6c788",
   "metadata": {},
   "outputs": [
    {
     "name": "stdout",
     "output_type": "stream",
     "text": [
      "Слава Україні!\n",
      "Комуняку на гілляку\n",
      "11+234-8\n"
     ]
    }
   ],
   "source": [
    "print('Слава' + ' ' + 'Україні!')\n",
    "print('Кому' + 'няку на г' + 'ілля' + 'ку')\n",
    "print('11+' + '2' + '34' + '-8') "
   ]
  },
  {
   "cell_type": "markdown",
   "id": "74e14e70",
   "metadata": {},
   "source": [
    "Це наочний приклад чому необхідно розуміти з якими типами даних ви працюєте. Здавалося б одна і та ж операція - додавання, але результати можуть буть неочевидними для початківця."
   ]
  },
  {
   "cell_type": "code",
   "execution_count": 36,
   "id": "0d09c05f",
   "metadata": {},
   "outputs": [
    {
     "name": "stdout",
     "output_type": "stream",
     "text": [
      "4\n",
      "22\n"
     ]
    }
   ],
   "source": [
    "print(2 + 2)\n",
    "print('2' + '2')"
   ]
  },
  {
   "cell_type": "markdown",
   "id": "52769c52",
   "metadata": {},
   "source": [
    "Деякі операції не мають смислу на певних типах даних. Віднімання не працює на рядках, тому що незрозуміло що б мало бути результатом такого віднімання.\n",
    "\n",
    "Можна придумати, що \"привіт\" - \"при\" буде дорівнювати \"віт\". Але придумати, чому буде дорівнювати \"привіт\" - \"Степан\" так щоб це мало сенс вже значно гірше. Тому ніхто цим не заморочувався у Пайтоні, бо це була б дивна операція, а головне мало де корисна."
   ]
  },
  {
   "cell_type": "code",
   "execution_count": 37,
   "id": "70467257",
   "metadata": {},
   "outputs": [
    {
     "name": "stdout",
     "output_type": "stream",
     "text": [
      "3\n"
     ]
    },
    {
     "ename": "TypeError",
     "evalue": "unsupported operand type(s) for -: 'str' and 'str'",
     "output_type": "error",
     "traceback": [
      "\u001b[0;31m---------------------------------------------------------------------------\u001b[0m",
      "\u001b[0;31mTypeError\u001b[0m                                 Traceback (most recent call last)",
      "\u001b[0;32m/tmp/ipykernel_25122/1101010901.py\u001b[0m in \u001b[0;36m<module>\u001b[0;34m\u001b[0m\n\u001b[1;32m      1\u001b[0m \u001b[0mprint\u001b[0m\u001b[0;34m(\u001b[0m\u001b[0;36m5\u001b[0m \u001b[0;34m-\u001b[0m \u001b[0;36m2\u001b[0m\u001b[0;34m)\u001b[0m\u001b[0;34m\u001b[0m\u001b[0;34m\u001b[0m\u001b[0m\n\u001b[0;32m----> 2\u001b[0;31m \u001b[0mprint\u001b[0m\u001b[0;34m(\u001b[0m\u001b[0;34m'5'\u001b[0m \u001b[0;34m-\u001b[0m \u001b[0;34m'2'\u001b[0m\u001b[0;34m)\u001b[0m\u001b[0;34m\u001b[0m\u001b[0;34m\u001b[0m\u001b[0m\n\u001b[0m",
      "\u001b[0;31mTypeError\u001b[0m: unsupported operand type(s) for -: 'str' and 'str'"
     ]
    }
   ],
   "source": [
    "print(5 - 2)\n",
    "print('5' - '2')"
   ]
  },
  {
   "cell_type": "markdown",
   "id": "69effd70",
   "metadata": {},
   "source": [
    "TypeError перекладається як \"помилка типу\". Не можна віднімати від рядку число і навпаки, не можна додавати рядок до числа і навпаки, тому що результати таких операцій були б або безглузді, або надумані, або двозначні, або все до купи.\n",
    "\n",
    "Уявімо що 2 + \"2\" не було б помилкою типу. Який мав би бути результат? 22 чи 4? Це і є двозначність про яку я кажу.\n",
    "\n",
    "Аналіз причин тих чи інших рішень у дизайні мови, програми, механізму є досить корисним. Такий аналіз формує інтуіції у програмі і дозволяє, наприклад, \"вгадувати\" те як поведе себе програма написана іншим хорошим програмістом. Погані ж програмісти непередбачувані."
   ]
  },
  {
   "cell_type": "code",
   "execution_count": 38,
   "id": "7b90af59",
   "metadata": {},
   "outputs": [
    {
     "ename": "TypeError",
     "evalue": "unsupported operand type(s) for -: 'int' and 'str'",
     "output_type": "error",
     "traceback": [
      "\u001b[0;31m---------------------------------------------------------------------------\u001b[0m",
      "\u001b[0;31mTypeError\u001b[0m                                 Traceback (most recent call last)",
      "\u001b[0;32m/tmp/ipykernel_25122/3495002556.py\u001b[0m in \u001b[0;36m<module>\u001b[0;34m\u001b[0m\n\u001b[0;32m----> 1\u001b[0;31m \u001b[0mprint\u001b[0m\u001b[0;34m(\u001b[0m\u001b[0;36m2\u001b[0m \u001b[0;34m-\u001b[0m \u001b[0;34m'2'\u001b[0m\u001b[0;34m)\u001b[0m\u001b[0;34m\u001b[0m\u001b[0;34m\u001b[0m\u001b[0m\n\u001b[0m",
      "\u001b[0;31mTypeError\u001b[0m: unsupported operand type(s) for -: 'int' and 'str'"
     ]
    }
   ],
   "source": [
    "print(2 - '2')"
   ]
  },
  {
   "cell_type": "code",
   "execution_count": 39,
   "id": "13d80e46",
   "metadata": {},
   "outputs": [
    {
     "ename": "TypeError",
     "evalue": "unsupported operand type(s) for -: 'str' and 'int'",
     "output_type": "error",
     "traceback": [
      "\u001b[0;31m---------------------------------------------------------------------------\u001b[0m",
      "\u001b[0;31mTypeError\u001b[0m                                 Traceback (most recent call last)",
      "\u001b[0;32m/tmp/ipykernel_25122/661795337.py\u001b[0m in \u001b[0;36m<module>\u001b[0;34m\u001b[0m\n\u001b[0;32m----> 1\u001b[0;31m \u001b[0mprint\u001b[0m\u001b[0;34m(\u001b[0m\u001b[0;34m'2'\u001b[0m \u001b[0;34m-\u001b[0m \u001b[0;36m2\u001b[0m\u001b[0;34m)\u001b[0m\u001b[0;34m\u001b[0m\u001b[0;34m\u001b[0m\u001b[0m\n\u001b[0m",
      "\u001b[0;31mTypeError\u001b[0m: unsupported operand type(s) for -: 'str' and 'int'"
     ]
    }
   ],
   "source": [
    "print('2' - 2)"
   ]
  },
  {
   "cell_type": "code",
   "execution_count": 40,
   "id": "7d6e180f",
   "metadata": {},
   "outputs": [
    {
     "ename": "TypeError",
     "evalue": "can only concatenate str (not \"int\") to str",
     "output_type": "error",
     "traceback": [
      "\u001b[0;31m---------------------------------------------------------------------------\u001b[0m",
      "\u001b[0;31mTypeError\u001b[0m                                 Traceback (most recent call last)",
      "\u001b[0;32m/tmp/ipykernel_25122/1773586646.py\u001b[0m in \u001b[0;36m<module>\u001b[0;34m\u001b[0m\n\u001b[0;32m----> 1\u001b[0;31m \u001b[0mprint\u001b[0m\u001b[0;34m(\u001b[0m\u001b[0;34m'2'\u001b[0m \u001b[0;34m+\u001b[0m \u001b[0;36m2\u001b[0m\u001b[0;34m)\u001b[0m\u001b[0;34m\u001b[0m\u001b[0;34m\u001b[0m\u001b[0m\n\u001b[0m",
      "\u001b[0;31mTypeError\u001b[0m: can only concatenate str (not \"int\") to str"
     ]
    }
   ],
   "source": [
    "print('2' + 2)"
   ]
  },
  {
   "cell_type": "code",
   "execution_count": 41,
   "id": "edcaa2cb",
   "metadata": {},
   "outputs": [
    {
     "ename": "TypeError",
     "evalue": "unsupported operand type(s) for +: 'int' and 'str'",
     "output_type": "error",
     "traceback": [
      "\u001b[0;31m---------------------------------------------------------------------------\u001b[0m",
      "\u001b[0;31mTypeError\u001b[0m                                 Traceback (most recent call last)",
      "\u001b[0;32m/tmp/ipykernel_25122/2158778917.py\u001b[0m in \u001b[0;36m<module>\u001b[0;34m\u001b[0m\n\u001b[0;32m----> 1\u001b[0;31m \u001b[0mprint\u001b[0m\u001b[0;34m(\u001b[0m\u001b[0;36m2\u001b[0m \u001b[0;34m+\u001b[0m \u001b[0;34m'2'\u001b[0m\u001b[0;34m)\u001b[0m\u001b[0;34m\u001b[0m\u001b[0;34m\u001b[0m\u001b[0m\n\u001b[0m",
      "\u001b[0;31mTypeError\u001b[0m: unsupported operand type(s) for +: 'int' and 'str'"
     ]
    }
   ],
   "source": [
    "print(2 + '2')"
   ]
  },
  {
   "cell_type": "markdown",
   "id": "2d54aeac",
   "metadata": {},
   "source": [
    "Рядки можна множити на числа."
   ]
  },
  {
   "cell_type": "code",
   "execution_count": 42,
   "id": "f39e16de",
   "metadata": {},
   "outputs": [
    {
     "name": "stdout",
     "output_type": "stream",
     "text": [
      "привіт привіт привіт привіт привіт \n",
      "222\n"
     ]
    }
   ],
   "source": [
    "print('привіт ' * 5)\n",
    "print('2' * 3)"
   ]
  },
  {
   "cell_type": "markdown",
   "id": "ba4beae3",
   "metadata": {},
   "source": [
    "Цікаво що це працює і навпаки."
   ]
  },
  {
   "cell_type": "code",
   "execution_count": 43,
   "id": "35e16a6d",
   "metadata": {},
   "outputs": [
    {
     "name": "stdout",
     "output_type": "stream",
     "text": [
      "привіт привіт привіт привіт привіт \n",
      "222\n"
     ]
    }
   ],
   "source": [
    "print(5 * 'привіт ')\n",
    "print(3 * '2')"
   ]
  },
  {
   "cell_type": "markdown",
   "id": "94a06059",
   "metadata": {},
   "source": [
    "Черговий приклад чому важливо знати і розуміти тип даних. Ділення має сенс на числах, але жодного смислу на рядках, тому тут ми отримуємо помилки типів."
   ]
  },
  {
   "cell_type": "code",
   "execution_count": 44,
   "id": "a165599e",
   "metadata": {},
   "outputs": [
    {
     "ename": "TypeError",
     "evalue": "unsupported operand type(s) for /: 'str' and 'int'",
     "output_type": "error",
     "traceback": [
      "\u001b[0;31m---------------------------------------------------------------------------\u001b[0m",
      "\u001b[0;31mTypeError\u001b[0m                                 Traceback (most recent call last)",
      "\u001b[0;32m/tmp/ipykernel_25122/4191525702.py\u001b[0m in \u001b[0;36m<module>\u001b[0;34m\u001b[0m\n\u001b[0;32m----> 1\u001b[0;31m \u001b[0mprint\u001b[0m\u001b[0;34m(\u001b[0m\u001b[0;34m'привіт '\u001b[0m \u001b[0;34m/\u001b[0m \u001b[0;36m7\u001b[0m\u001b[0;34m)\u001b[0m\u001b[0;34m\u001b[0m\u001b[0;34m\u001b[0m\u001b[0m\n\u001b[0m",
      "\u001b[0;31mTypeError\u001b[0m: unsupported operand type(s) for /: 'str' and 'int'"
     ]
    }
   ],
   "source": [
    "print('привіт ' / 7)"
   ]
  },
  {
   "cell_type": "code",
   "execution_count": 45,
   "id": "d40ec76a",
   "metadata": {},
   "outputs": [
    {
     "ename": "TypeError",
     "evalue": "unsupported operand type(s) for /: 'str' and 'str'",
     "output_type": "error",
     "traceback": [
      "\u001b[0;31m---------------------------------------------------------------------------\u001b[0m",
      "\u001b[0;31mTypeError\u001b[0m                                 Traceback (most recent call last)",
      "\u001b[0;32m/tmp/ipykernel_25122/539179550.py\u001b[0m in \u001b[0;36m<module>\u001b[0;34m\u001b[0m\n\u001b[0;32m----> 1\u001b[0;31m \u001b[0mprint\u001b[0m\u001b[0;34m(\u001b[0m\u001b[0;34m'слава '\u001b[0m \u001b[0;34m/\u001b[0m \u001b[0;34m'Україні'\u001b[0m\u001b[0;34m)\u001b[0m\u001b[0;34m\u001b[0m\u001b[0;34m\u001b[0m\u001b[0m\n\u001b[0m",
      "\u001b[0;31mTypeError\u001b[0m: unsupported operand type(s) for /: 'str' and 'str'"
     ]
    }
   ],
   "source": [
    "print('слава ' / 'Україні')"
   ]
  },
  {
   "cell_type": "markdown",
   "id": "d2c7912a",
   "metadata": {},
   "source": [
    "Функція `type()` визначає тип будь-якого аргументу, у тому числі рядку."
   ]
  },
  {
   "cell_type": "code",
   "execution_count": 46,
   "id": "93c96936",
   "metadata": {},
   "outputs": [
    {
     "name": "stdout",
     "output_type": "stream",
     "text": [
      "<class 'str'>\n",
      "<class 'str'>\n",
      "<class 'str'>\n"
     ]
    }
   ],
   "source": [
    "print(type('привіт'))\n",
    "print(type('2'))\n",
    "print(type('2 абв'))"
   ]
  },
  {
   "cell_type": "markdown",
   "id": "efee9eed",
   "metadata": {},
   "source": [
    "Рядки можуть бути пустими, містити у собі виключно пробіли, починатися чи закінчуватися з будь-якої кількості пробілів. Тобто всередені рядку усі символи рівні між собою у тому сенсі що їх можна переставляти як завгодно і то все одно буде легальний рядок."
   ]
  },
  {
   "cell_type": "code",
   "execution_count": 47,
   "id": "30071b1b",
   "metadata": {},
   "outputs": [
    {
     "name": "stdout",
     "output_type": "stream",
     "text": [
      "<class 'str'> \n",
      "<class 'str'>  \n",
      "<class 'str'>         \n",
      "<class 'str'>     привіт    \n"
     ]
    }
   ],
   "source": [
    "print(type(''), '')\n",
    "print(type(' '), ' ')\n",
    "print(type('        '), '        ')\n",
    "print(type('    привіт    '), '    привіт    ')"
   ]
  },
  {
   "cell_type": "markdown",
   "id": "389c68a4",
   "metadata": {},
   "source": [
    "Додавання пустого рядку не змінює рядок. Додавання пробілів просто додає пробіли.\n",
    "\n",
    "Якщо згадати мою метафору про забивання цвяхів телефоном, то тепер можна сказати що рядки у Пайтоні не призначені для ділення чи віднімання так само як телефони не призначені для забивання цвяхів."
   ]
  },
  {
   "cell_type": "code",
   "execution_count": 48,
   "id": "e8bf0354",
   "metadata": {},
   "outputs": [
    {
     "name": "stdout",
     "output_type": "stream",
     "text": [
      "привіт наступний рядок\n",
      "привіт    наступний рядок\n"
     ]
    }
   ],
   "source": [
    "print('привіт' + '', \"наступний рядок\")\n",
    "print('привіт' + '   ', \"наступний рядок\")"
   ]
  },
  {
   "cell_type": "markdown",
   "id": "a2f73583",
   "metadata": {},
   "source": [
    "### Конвертація між числами і рядками\n",
    "Пам'ятаєте функцію `type()`, так?"
   ]
  },
  {
   "cell_type": "code",
   "execution_count": 49,
   "id": "f0424ff0",
   "metadata": {},
   "outputs": [
    {
     "name": "stdout",
     "output_type": "stream",
     "text": [
      "<class 'int'>\n",
      "<class 'float'>\n",
      "<class 'str'>\n"
     ]
    }
   ],
   "source": [
    "print(type(1))\n",
    "print(type(1.1))\n",
    "print(type('1.1'))"
   ]
  },
  {
   "cell_type": "markdown",
   "id": "5800f326",
   "metadata": {},
   "source": [
    "Окрім того що `int`, `float` і `str` є типами даних, ці назви можна використовувати як функції для конвертації одних типів даних в інші.\n",
    "\n",
    "Можна конвертувати між різними типами чисел:"
   ]
  },
  {
   "cell_type": "code",
   "execution_count": 50,
   "id": "57a9270c",
   "metadata": {},
   "outputs": [
    {
     "name": "stdout",
     "output_type": "stream",
     "text": [
      "1 1\n",
      "1 1.0\n",
      "1.2 1\n",
      "1.2 1.2\n"
     ]
    }
   ],
   "source": [
    "print(1, int(1))\n",
    "print(1, float(1))\n",
    "print(1.2, int(1.2))\n",
    "print(1.2, float(1.2))"
   ]
  },
  {
   "cell_type": "markdown",
   "id": "531d75eb",
   "metadata": {},
   "source": [
    "Можна конвертувати рядки у числа і навпаки, правда через особливості роботи функції `print()` не очевидно що відбувається під капотом."
   ]
  },
  {
   "cell_type": "code",
   "execution_count": 51,
   "id": "0cc3955f",
   "metadata": {},
   "outputs": [
    {
     "name": "stdout",
     "output_type": "stream",
     "text": [
      "1 1\n",
      "1.1 1.1\n",
      "1 1\n",
      "1.1 1.1\n"
     ]
    }
   ],
   "source": [
    "print(1, str(1))\n",
    "print(1.1, str(1.1))\n",
    "print('1', int('1'))\n",
    "print('1.1', float('1.1'))"
   ]
  },
  {
   "cell_type": "markdown",
   "id": "71cf6d7c",
   "metadata": {},
   "source": [
    "Якщо ми почнемо використовувати арифметичні операції то конвертація стане наочнішою:"
   ]
  },
  {
   "cell_type": "code",
   "execution_count": 52,
   "id": "f47174c1",
   "metadata": {},
   "outputs": [
    {
     "name": "stdout",
     "output_type": "stream",
     "text": [
      "11\n"
     ]
    }
   ],
   "source": [
    "print('1' + str(1))"
   ]
  },
  {
   "cell_type": "markdown",
   "id": "acc7592b",
   "metadata": {},
   "source": [
    "Як ви маєте пам'ятати, якщо ми тут видалимо конвертацію то отримаємо помилку типу, бо не можна додавати рядок і число:"
   ]
  },
  {
   "cell_type": "code",
   "execution_count": 53,
   "id": "810a8d17",
   "metadata": {},
   "outputs": [
    {
     "ename": "TypeError",
     "evalue": "can only concatenate str (not \"int\") to str",
     "output_type": "error",
     "traceback": [
      "\u001b[0;31m---------------------------------------------------------------------------\u001b[0m",
      "\u001b[0;31mTypeError\u001b[0m                                 Traceback (most recent call last)",
      "\u001b[0;32m/tmp/ipykernel_25122/3560325956.py\u001b[0m in \u001b[0;36m<module>\u001b[0;34m\u001b[0m\n\u001b[0;32m----> 1\u001b[0;31m \u001b[0mprint\u001b[0m\u001b[0;34m(\u001b[0m\u001b[0;34m'1'\u001b[0m \u001b[0;34m+\u001b[0m \u001b[0;36m1\u001b[0m\u001b[0;34m)\u001b[0m\u001b[0;34m\u001b[0m\u001b[0;34m\u001b[0m\u001b[0m\n\u001b[0m",
      "\u001b[0;31mTypeError\u001b[0m: can only concatenate str (not \"int\") to str"
     ]
    }
   ],
   "source": [
    "print('1' + 1)"
   ]
  },
  {
   "cell_type": "markdown",
   "id": "a07c435c",
   "metadata": {},
   "source": [
    "Більше прикладів, кожен з них буде падати по помилці типу (`TypeError`) якщо ви видалите конвертацію."
   ]
  },
  {
   "cell_type": "code",
   "execution_count": 54,
   "id": "0b808eca",
   "metadata": {},
   "outputs": [
    {
     "name": "stdout",
     "output_type": "stream",
     "text": [
      "11.1\n",
      "привіт 1234\n",
      "-10666.666\n"
     ]
    }
   ],
   "source": [
    "print('1' + str(1.1))\n",
    "print('привіт ' + str(1234))\n",
    "print('-10' + str(666.666))"
   ]
  },
  {
   "cell_type": "code",
   "execution_count": 55,
   "id": "2d5aea06",
   "metadata": {},
   "outputs": [
    {
     "name": "stdout",
     "output_type": "stream",
     "text": [
      "667\n",
      "667.0\n",
      "667.666\n"
     ]
    }
   ],
   "source": [
    "print(1 + int('666'))\n",
    "print(1 + float('666'))\n",
    "print(1 + float('666.666'))"
   ]
  },
  {
   "cell_type": "code",
   "execution_count": 56,
   "id": "4f54d4ec",
   "metadata": {},
   "outputs": [
    {
     "name": "stdout",
     "output_type": "stream",
     "text": [
      "-665\n",
      "-665.0\n",
      "667.666\n"
     ]
    }
   ],
   "source": [
    "print(1 + int('-666'))\n",
    "print(1 + float('-666'))\n",
    "print(1 + float('+666.666'))"
   ]
  },
  {
   "cell_type": "markdown",
   "id": "ddde6663",
   "metadata": {},
   "source": [
    "Не всі конвертації мають смисл, тому деякі з них будуть падати з помилкою значення (ValueError).\n",
    "\n",
    "Не всі рядки можна зконвертувати у числа, але усі числа можна зконвертувати рядки. Чому так?\n",
    "\n",
    "Тому що числа можуть містити лише цифри, крапку і деякі додаткові символи які нам зараз менш цікаві, а рядки можуть містити будь-які символи, включно з буквами, пробілами і так далі."
   ]
  },
  {
   "cell_type": "code",
   "execution_count": 57,
   "id": "dbb114cc",
   "metadata": {},
   "outputs": [
    {
     "ename": "ValueError",
     "evalue": "could not convert string to float: 'привіт'",
     "output_type": "error",
     "traceback": [
      "\u001b[0;31m---------------------------------------------------------------------------\u001b[0m",
      "\u001b[0;31mValueError\u001b[0m                                Traceback (most recent call last)",
      "\u001b[0;32m/tmp/ipykernel_25122/1443478564.py\u001b[0m in \u001b[0;36m<module>\u001b[0;34m\u001b[0m\n\u001b[0;32m----> 1\u001b[0;31m \u001b[0mprint\u001b[0m\u001b[0;34m(\u001b[0m\u001b[0mfloat\u001b[0m\u001b[0;34m(\u001b[0m\u001b[0;34m'привіт'\u001b[0m\u001b[0;34m)\u001b[0m\u001b[0;34m)\u001b[0m\u001b[0;34m\u001b[0m\u001b[0;34m\u001b[0m\u001b[0m\n\u001b[0m",
      "\u001b[0;31mValueError\u001b[0m: could not convert string to float: 'привіт'"
     ]
    }
   ],
   "source": [
    "print(float('привіт'))"
   ]
  },
  {
   "cell_type": "code",
   "execution_count": 58,
   "id": "7fc42910",
   "metadata": {},
   "outputs": [
    {
     "ename": "ValueError",
     "evalue": "invalid literal for int() with base 10: '666.666'",
     "output_type": "error",
     "traceback": [
      "\u001b[0;31m---------------------------------------------------------------------------\u001b[0m",
      "\u001b[0;31mValueError\u001b[0m                                Traceback (most recent call last)",
      "\u001b[0;32m/tmp/ipykernel_25122/2326595483.py\u001b[0m in \u001b[0;36m<module>\u001b[0;34m\u001b[0m\n\u001b[0;32m----> 1\u001b[0;31m \u001b[0mprint\u001b[0m\u001b[0;34m(\u001b[0m\u001b[0mint\u001b[0m\u001b[0;34m(\u001b[0m\u001b[0;34m'666.666'\u001b[0m\u001b[0;34m)\u001b[0m\u001b[0;34m)\u001b[0m\u001b[0;34m\u001b[0m\u001b[0;34m\u001b[0m\u001b[0m\n\u001b[0m",
      "\u001b[0;31mValueError\u001b[0m: invalid literal for int() with base 10: '666.666'"
     ]
    }
   ],
   "source": [
    "print(int('666.666'))"
   ]
  },
  {
   "cell_type": "code",
   "execution_count": 59,
   "id": "63cefab5",
   "metadata": {},
   "outputs": [
    {
     "ename": "ValueError",
     "evalue": "invalid literal for int() with base 10: ''",
     "output_type": "error",
     "traceback": [
      "\u001b[0;31m---------------------------------------------------------------------------\u001b[0m",
      "\u001b[0;31mValueError\u001b[0m                                Traceback (most recent call last)",
      "\u001b[0;32m/tmp/ipykernel_25122/3934000929.py\u001b[0m in \u001b[0;36m<module>\u001b[0;34m\u001b[0m\n\u001b[0;32m----> 1\u001b[0;31m \u001b[0mprint\u001b[0m\u001b[0;34m(\u001b[0m\u001b[0mint\u001b[0m\u001b[0;34m(\u001b[0m\u001b[0;34m''\u001b[0m\u001b[0;34m)\u001b[0m\u001b[0;34m)\u001b[0m\u001b[0;34m\u001b[0m\u001b[0;34m\u001b[0m\u001b[0m\n\u001b[0m",
      "\u001b[0;31mValueError\u001b[0m: invalid literal for int() with base 10: ''"
     ]
    }
   ],
   "source": [
    "print(int(''))"
   ]
  },
  {
   "cell_type": "code",
   "execution_count": 60,
   "id": "85c56aca",
   "metadata": {},
   "outputs": [
    {
     "ename": "ValueError",
     "evalue": "could not convert string to float: ''",
     "output_type": "error",
     "traceback": [
      "\u001b[0;31m---------------------------------------------------------------------------\u001b[0m",
      "\u001b[0;31mValueError\u001b[0m                                Traceback (most recent call last)",
      "\u001b[0;32m/tmp/ipykernel_25122/2487985086.py\u001b[0m in \u001b[0;36m<module>\u001b[0;34m\u001b[0m\n\u001b[0;32m----> 1\u001b[0;31m \u001b[0mprint\u001b[0m\u001b[0;34m(\u001b[0m\u001b[0mfloat\u001b[0m\u001b[0;34m(\u001b[0m\u001b[0;34m'   '\u001b[0m\u001b[0;34m)\u001b[0m\u001b[0;34m)\u001b[0m\u001b[0;34m\u001b[0m\u001b[0;34m\u001b[0m\u001b[0m\n\u001b[0m",
      "\u001b[0;31mValueError\u001b[0m: could not convert string to float: ''"
     ]
    }
   ],
   "source": [
    "print(float('   '))"
   ]
  },
  {
   "cell_type": "markdown",
   "id": "a8b8e736",
   "metadata": {},
   "source": [
    "Будь-яке число можна зконвертувати у рядок, тому я наведу лише один приклад."
   ]
  },
  {
   "cell_type": "code",
   "execution_count": 61,
   "id": "fa89ed17",
   "metadata": {},
   "outputs": [
    {
     "name": "stdout",
     "output_type": "stream",
     "text": [
      "12\n"
     ]
    }
   ],
   "source": [
    "print(str(12))"
   ]
  },
  {
   "cell_type": "markdown",
   "id": "4cb120c6",
   "metadata": {},
   "source": [
    "Зверніть увагу, що виклик `int('666.666')` видасть помилку значення:"
   ]
  },
  {
   "cell_type": "code",
   "execution_count": 62,
   "id": "00cb85ce",
   "metadata": {},
   "outputs": [
    {
     "ename": "ValueError",
     "evalue": "invalid literal for int() with base 10: '666.666'",
     "output_type": "error",
     "traceback": [
      "\u001b[0;31m---------------------------------------------------------------------------\u001b[0m",
      "\u001b[0;31mValueError\u001b[0m                                Traceback (most recent call last)",
      "\u001b[0;32m/tmp/ipykernel_25122/2326595483.py\u001b[0m in \u001b[0;36m<module>\u001b[0;34m\u001b[0m\n\u001b[0;32m----> 1\u001b[0;31m \u001b[0mprint\u001b[0m\u001b[0;34m(\u001b[0m\u001b[0mint\u001b[0m\u001b[0;34m(\u001b[0m\u001b[0;34m'666.666'\u001b[0m\u001b[0;34m)\u001b[0m\u001b[0;34m)\u001b[0m\u001b[0;34m\u001b[0m\u001b[0;34m\u001b[0m\u001b[0m\n\u001b[0m",
      "\u001b[0;31mValueError\u001b[0m: invalid literal for int() with base 10: '666.666'"
     ]
    }
   ],
   "source": [
    "print(int('666.666'))"
   ]
  },
  {
   "cell_type": "markdown",
   "id": "f780273a",
   "metadata": {},
   "source": [
    "А наступні конвертації спрацюють нормально:"
   ]
  },
  {
   "cell_type": "code",
   "execution_count": 63,
   "id": "c58b2857",
   "metadata": {},
   "outputs": [
    {
     "name": "stdout",
     "output_type": "stream",
     "text": [
      "666.666\n",
      "666\n",
      "666\n"
     ]
    }
   ],
   "source": [
    "print(float('666.666'))\n",
    "print(int(666.666))\n",
    "print(int(float('666.666')))"
   ]
  },
  {
   "cell_type": "markdown",
   "id": "59fb49bf",
   "metadata": {},
   "source": [
    "## Несамовиті конвертації\n",
    "Конвертації то є виклик функції. Результат виклику однії функції можна передати як аргумент до виклику наступної.\n",
    "\n",
    "Наступні приклади коду ви ніколи не побачите написаними тверезим розробником, бо вони є ускладненнями без необхідності. Проте такі езотеричні приклади є корисними для розуміння того як працють виклики функцій."
   ]
  },
  {
   "cell_type": "code",
   "execution_count": 64,
   "id": "884de00c",
   "metadata": {},
   "outputs": [
    {
     "name": "stdout",
     "output_type": "stream",
     "text": [
      "100\n",
      "100\n"
     ]
    }
   ],
   "source": [
    "print(int(100))\n",
    "print(int(int(int(int(100)))))"
   ]
  },
  {
   "cell_type": "code",
   "execution_count": 65,
   "id": "3fe7f998",
   "metadata": {},
   "outputs": [
    {
     "name": "stdout",
     "output_type": "stream",
     "text": [
      "100\n",
      "100\n"
     ]
    }
   ],
   "source": [
    "print(str(100))\n",
    "print(str(str(str(str(100)))))"
   ]
  },
  {
   "cell_type": "markdown",
   "id": "12a70a60",
   "metadata": {},
   "source": [
    "Якщо ви помилитесь з кількістю дужок:"
   ]
  },
  {
   "cell_type": "code",
   "execution_count": 66,
   "id": "63f3d02c",
   "metadata": {},
   "outputs": [
    {
     "ename": "SyntaxError",
     "evalue": "unmatched ')' (3886176883.py, line 1)",
     "output_type": "error",
     "traceback": [
      "\u001b[0;36m  File \u001b[0;32m\"/tmp/ipykernel_25122/3886176883.py\"\u001b[0;36m, line \u001b[0;32m1\u001b[0m\n\u001b[0;31m    print(str(str(str(str(100))))))))))))))))))))))))))))))))))))))))))))))))))))))))))))))))))))\u001b[0m\n\u001b[0m                                  ^\u001b[0m\n\u001b[0;31mSyntaxError\u001b[0m\u001b[0;31m:\u001b[0m unmatched ')'\n"
     ]
    }
   ],
   "source": [
    "print(str(str(str(str(100))))))))))))))))))))))))))))))))))))))))))))))))))))))))))))))))))))"
   ]
  },
  {
   "cell_type": "code",
   "execution_count": 67,
   "id": "d79f00e1",
   "metadata": {},
   "outputs": [
    {
     "ename": "SyntaxError",
     "evalue": "unexpected EOF while parsing (184714954.py, line 1)",
     "output_type": "error",
     "traceback": [
      "\u001b[0;36m  File \u001b[0;32m\"/tmp/ipykernel_25122/184714954.py\"\u001b[0;36m, line \u001b[0;32m1\u001b[0m\n\u001b[0;31m    print(str(str(str(str(100)\u001b[0m\n\u001b[0m                              ^\u001b[0m\n\u001b[0;31mSyntaxError\u001b[0m\u001b[0;31m:\u001b[0m unexpected EOF while parsing\n"
     ]
    }
   ],
   "source": [
    "print(str(str(str(str(100)"
   ]
  },
  {
   "cell_type": "markdown",
   "id": "65dfd8d9",
   "metadata": {},
   "source": [
    "Також можливо конвертувати туди-сюди з рядку в число і з числа у рядок:"
   ]
  },
  {
   "cell_type": "code",
   "execution_count": 68,
   "id": "7e231333",
   "metadata": {},
   "outputs": [
    {
     "name": "stdout",
     "output_type": "stream",
     "text": [
      "22\n"
     ]
    }
   ],
   "source": [
    "print(int(str(int(str(int('10'))))) + 12)"
   ]
  },
  {
   "cell_type": "markdown",
   "id": "0bdc9a47",
   "metadata": {},
   "source": [
    "## Наукова нотація (експоненціальний запис)\n",
    "Наступні позначення еквівалентні, але наукова нотація накоротша."
   ]
  },
  {
   "cell_type": "code",
   "execution_count": 69,
   "id": "347b4ed0",
   "metadata": {},
   "outputs": [
    {
     "name": "stdout",
     "output_type": "stream",
     "text": [
      "5.972e+24\n",
      "5.972e+24\n",
      "5.972e+24\n"
     ]
    }
   ],
   "source": [
    "print(5972000000000000000000000.)\n",
    "print(5.972 * 10**24)  # використовуємо степінь\n",
    "print(5.972e24)  # наукова нотація"
   ]
  },
  {
   "cell_type": "markdown",
   "id": "701025a1",
   "metadata": {},
   "source": [
    "Якщо ви будете проводити операції із великими числами то часто будете бачити наукову нотацію:"
   ]
  },
  {
   "cell_type": "code",
   "execution_count": 70,
   "id": "e0c158b7",
   "metadata": {},
   "outputs": [
    {
     "name": "stdout",
     "output_type": "stream",
     "text": [
      "1.0870986324892041e+74\n",
      "7.613592628788492e+205\n"
     ]
    }
   ],
   "source": [
    "print(5.5 ** 100)\n",
    "print(1234 ** 66.6)"
   ]
  },
  {
   "cell_type": "markdown",
   "id": "46e5ea2f",
   "metadata": {},
   "source": [
    "Ця нотація корисна і для дуже маленьких чисел:"
   ]
  },
  {
   "cell_type": "code",
   "execution_count": 71,
   "id": "66a64cca",
   "metadata": {},
   "outputs": [
    {
     "name": "stdout",
     "output_type": "stream",
     "text": [
      "2.1331335426608414e-41\n",
      "2.81e-71\n"
     ]
    }
   ],
   "source": [
    "print(100 / 342134123 ** 5)\n",
    "print(0.0000000000000000000000000000000000000000000000000000000000000000000000281)"
   ]
  },
  {
   "cell_type": "markdown",
   "id": "26ab5079",
   "metadata": {},
   "source": [
    "Вставка значка підкреслення не є прикладом наукової нотації, але вона теж робить числа більш читабельними:"
   ]
  },
  {
   "cell_type": "code",
   "execution_count": 72,
   "id": "cbbdac60",
   "metadata": {},
   "outputs": [
    {
     "name": "stdout",
     "output_type": "stream",
     "text": [
      "1e-09\n",
      "1e-09\n",
      "1000000000\n",
      "1000000000\n",
      "1000000000\n"
     ]
    }
   ],
   "source": [
    "print(0.000000001)\n",
    "print(0.000_000_001)\n",
    "print(1000000000)\n",
    "print(1_000_000_000)\n",
    "print(1_0_0_0_0_0_0_0_0_0)"
   ]
  },
  {
   "cell_type": "markdown",
   "id": "b16ad0da",
   "metadata": {},
   "source": [
    "Для цілих чисел Пайтон не використовує наукової нотації.\n",
    "\n",
    "Також зверніть увагу на неточність множення."
   ]
  },
  {
   "cell_type": "code",
   "execution_count": 73,
   "id": "fa93386a",
   "metadata": {},
   "outputs": [
    {
     "name": "stdout",
     "output_type": "stream",
     "text": [
      "3.1415926535900004e+30\n",
      "3141592653590000381996562382848\n",
      "\n",
      "271541759288712855826087455170021786027838521065016987178223004696578367534784603688013417861287317081040369394618136925376390776734814142359269954981438585309058005792575777286547766974032030622709400636076630337695472357344193883258618859601636747029392705682480231361672383305593666601292142319787714400226324514478109346054646257736974663071867802948304106037331337648245560659985653200111117423345076820028856039271697478224170953365430292002540313209626985629026842226720098365723596644589192169647865964771608482657447815673166354263425761875056075351412658924918167675222004537186685221728745459415025183608088786527610184833513790116757654287910149888366373032818151480800952809005528561125366155648578375191671516389923637068612545908928591509856524061271778433035659907099937099027157651275866007333020305683709128393004786162164158503634595479326165593895852888778701548580946457862112993933286295883107151254097505408450243425177831253342079786634358573748818965808816613570280697021834844832652027344442640175038787842736503395375213097324598270999348133857903750526167553966478796074667482527451958013385703152678559571864116226566032365908052857936209172690002387460244899885396862691793991738773357078062613492707085820369352745180327438422889555512909451485998615969501470146470402649889349212006778573387292851099036349527469520676832881968856724904460084994793476708042987577163193492415961223417659787157202545333783334777830218014905077675699766649698676892834587204825046787698439067298022983708693783338395078457245428904542657506873425865596233432542160135568886423752229229562648133533088569487318295430287726946641649809356760113688980954104973336888392785547924780056268147894207107543052594542403021659363655062233931413319416693234844064515946449947016545969427094539246444208735559647539174640853111520180776757872042024272504000286839563050880598016\n"
     ]
    }
   ],
   "source": [
    "print(3.14159265359 * 10**30)\n",
    "print(int(3.14159265359 * 10**30))\n",
    "print()\n",
    "print(666 ** 666)"
   ]
  },
  {
   "cell_type": "markdown",
   "id": "4d437bec",
   "metadata": {},
   "source": [
    "До речі у Джаві чи Сі не можна просто так узяти і обчислити `666 ** 666`. Але навіть у Пайтоні є обмеження які можуть бути неінтуітивними для новачка."
   ]
  },
  {
   "cell_type": "code",
   "execution_count": 74,
   "id": "208d8187",
   "metadata": {
    "scrolled": true
   },
   "outputs": [
    {
     "ename": "OverflowError",
     "evalue": "(34, 'Numerical result out of range')",
     "output_type": "error",
     "traceback": [
      "\u001b[0;31m---------------------------------------------------------------------------\u001b[0m",
      "\u001b[0;31mOverflowError\u001b[0m                             Traceback (most recent call last)",
      "\u001b[0;32m/tmp/ipykernel_25122/2838640394.py\u001b[0m in \u001b[0;36m<module>\u001b[0;34m\u001b[0m\n\u001b[0;32m----> 1\u001b[0;31m \u001b[0mprint\u001b[0m\u001b[0;34m(\u001b[0m\u001b[0;36m666.\u001b[0m \u001b[0;34m**\u001b[0m \u001b[0;36m666\u001b[0m\u001b[0;34m)\u001b[0m\u001b[0;34m\u001b[0m\u001b[0;34m\u001b[0m\u001b[0m\n\u001b[0m",
      "\u001b[0;31mOverflowError\u001b[0m: (34, 'Numerical result out of range')"
     ]
    }
   ],
   "source": [
    "print(666. ** 666)"
   ]
  },
  {
   "cell_type": "markdown",
   "id": "43ea0f51",
   "metadata": {},
   "source": [
    "## Двійкові і шістнадцяткові числа\n",
    "Ніт. Ми не будемо їх тут вчити. А всі хто включають такі теми у курси для початківців є або дивні або просто нехороші люди =). Така зайва технічна інформація лише демотивує початківців у кого немає нестримної тяги до математики та глибоких надр програмування. \n",
    "\n",
    "Я не користувався цими числами під час вивчення програмування і у перші два роки роботи.\n",
    "\n",
    "Якщо дуже коротко, то в десяткових числах використовуємо 10 цифр (від 0 до 9), у двійкових лише дві - 0 і 1, а у шістрадцяткових - 16: від 0 до 9, а також a, b, c, d, e, f."
   ]
  },
  {
   "cell_type": "code",
   "execution_count": 75,
   "id": "64aae5bf",
   "metadata": {},
   "outputs": [
    {
     "name": "stdout",
     "output_type": "stream",
     "text": [
      "11\n",
      "69888\n",
      "11712082864367850988\n"
     ]
    }
   ],
   "source": [
    "print(0b111 + 0b100)\n",
    "print(0x111 * 0x100)\n",
    "print(0xDeadCafe * 0xBad_C0C0A)"
   ]
  },
  {
   "cell_type": "markdown",
   "id": "bce5d386",
   "metadata": {},
   "source": [
    "## Підсумок\n",
    "- функція `print()` друкує передані аргумент, наприклад `print(1)` або `print(1, 2, 'привіт')`\n",
    "- є 2 основних типа чисел у Пайтоні: цілі і з (рухомою) крапкою\n",
    "- числа можна додавати, віднімати, множити, ділити, підносити до степеню, ділити націло, визначати останок від ділення націло\n",
    "- рядки - один із фундаментальних типів даних, підтримує додавання і множення (і багато інших операцій, які ми розглянемо окремо), але не підтримує ділення і віднімання\n",
    "- виклик `type()` повертає тип аргументу, типи даних є важливими бо вони задають які операції працюватимуть, а які - ні\n",
    "- можна викликати `str()`, `int()`, `float()` для конвертації\n",
    "- кожне число можна конвертувати у рядок, але не кожен рядок можна конвертувати у число\n",
    "- виклики функцій, наприклад конвертацій, можна нескінченно вкладувати один в одний\n",
    "- якщо написати код неправильно отримаємо `SyntaxError`\n",
    "- якщо виконувати операцію на типу (або типах) що не підтримуються (наприклад ділити рядки) отримаємо TypeError\n",
    "- якщо конвертувати те що не конвертується отримаємо `ValueError`"
   ]
  },
  {
   "cell_type": "markdown",
   "id": "50d3e20a",
   "metadata": {},
   "source": [
    "## Словник англійської термінології\n",
    "- int - скорочення від integer\n",
    "- integer - цілий, ціле (число)\n",
    "- float - скорочення від floating-point \n",
    "- floating-point - з рухомою комою (дослівно: плаваюча точка)\n",
    "- str - скоречення від string\n",
    "- string - рядок\n",
    "- type - тип\n",
    "- print - друкувати, вивести на екран\n",
    "- concatenate - додати рядки\n",
    "- concatenation - додавання рядків\n",
    "- EOF - скорочення від end of file\n",
    "- end of file - кінець файлу\n",
    "\n",
    "`SyntaxError: Missing parentheses in call to 'print'. Did you mean print(1)?` - Помилка синтаксису: Відсутні дужки у виклику до 'print'. Ви мали на увазі print(1)?\n",
    "\n",
    "\n",
    "`SyntaxError: invalid syntax` - Помилка синтаксису: неправильний синтаксис\n",
    "\n",
    "`TypeError: unsupported operand type(s) for -: 'str' and 'str'` - Помилка типу: непідтримувані типи операндів для - (мінусу): 'str' та 'str'\n",
    "\n",
    "`TypeError: can only concatenate str (not \"int\") to str` - Помилка типу: можливо конкатенувати лише str (не int) до str\n",
    "\n",
    "`ValueError: could not convert string to float: 'привіт'` - Помилка значення: не можу зконвертувати string в float: 'привіт'\n",
    "\n",
    "`ValueError: invalid literal for int() with base 10: '666.666'` - Помилка значення: неправильний літерал для int() з базою 10: '666.666'. **Ми пізніше розберемо що таке літерал**. \"База 10\" означає десяткове число, а не, наприклад, двійкове чи шістнадцяткове.\n",
    "\n",
    "`SyntaxError: unmatched ')'` - Помилка синтаксису: без пари/відповідника: ')'\n",
    "\n",
    "`SyntaxError: unexpected EOF while parsing` - Помилка синтаксису: раптовий кінець файлу під час парсингу"
   ]
  }
 ],
 "metadata": {
  "kernelspec": {
   "display_name": "Python 3 (ipykernel)",
   "language": "python",
   "name": "python3"
  },
  "language_info": {
   "codemirror_mode": {
    "name": "ipython",
    "version": 3
   },
   "file_extension": ".py",
   "mimetype": "text/x-python",
   "name": "python",
   "nbconvert_exporter": "python",
   "pygments_lexer": "ipython3",
   "version": "3.9.7"
  }
 },
 "nbformat": 4,
 "nbformat_minor": 5
}
