{
 "cells": [
  {
   "cell_type": "markdown",
   "id": "527b3686",
   "metadata": {},
   "source": [
    "<img src=\"../logo.png\" style=\"float: left;\">"
   ]
  },
  {
   "cell_type": "markdown",
   "id": "c830ea20",
   "metadata": {},
   "source": [
    "# 2. Арифметика, типи, знайомство з рядками - Тести\n",
    "Переконайтеся що ви розумієте і знаєте що буде надруковано у кожному фрагменті коду. Перевірте свою відповідь запускаючи ці фрагменти."
   ]
  },
  {
   "cell_type": "code",
   "execution_count": null,
   "id": "b8656f24",
   "metadata": {},
   "outputs": [],
   "source": [
    "print(1)"
   ]
  },
  {
   "cell_type": "code",
   "execution_count": null,
   "id": "06dca6ec",
   "metadata": {},
   "outputs": [],
   "source": [
    "print(1 2)"
   ]
  },
  {
   "cell_type": "code",
   "execution_count": null,
   "id": "90872a25",
   "metadata": {},
   "outputs": [],
   "source": [
    "print(type(0), type(1), type(1.))"
   ]
  },
  {
   "cell_type": "code",
   "execution_count": null,
   "id": "d4b0a0f6",
   "metadata": {},
   "outputs": [],
   "source": [
    "print(type(0), type(0), type(.0))"
   ]
  },
  {
   "cell_type": "code",
   "execution_count": null,
   "id": "2c9196d1",
   "metadata": {},
   "outputs": [],
   "source": [
    "print(type(0), type(0), type(1e9))"
   ]
  },
  {
   "cell_type": "code",
   "execution_count": null,
   "id": "da25a0f6",
   "metadata": {},
   "outputs": [],
   "source": [
    "print(type(2**2), type(2.**2), type(2.**2.0))"
   ]
  },
  {
   "cell_type": "code",
   "execution_count": null,
   "id": "e9bca92b",
   "metadata": {},
   "outputs": [],
   "source": [
    "print(type(1 + 1), type(1 + 1.), type(56 % 7))"
   ]
  },
  {
   "cell_type": "code",
   "execution_count": null,
   "id": "ee1129f1",
   "metadata": {},
   "outputs": [],
   "source": [
    "print(5 % 3, 8 % 3, 7 // 3)"
   ]
  },
  {
   "cell_type": "code",
   "execution_count": null,
   "id": "6b7afd7c",
   "metadata": {},
   "outputs": [],
   "source": [
    "print('Привіт')"
   ]
  },
  {
   "cell_type": "code",
   "execution_count": null,
   "id": "73041785",
   "metadata": {},
   "outputs": [],
   "source": [
    "print('Привіт' + 7)"
   ]
  },
  {
   "cell_type": "code",
   "execution_count": null,
   "id": "252e868c",
   "metadata": {},
   "outputs": [],
   "source": [
    "print('Привіт' + '7')"
   ]
  },
  {
   "cell_type": "code",
   "execution_count": null,
   "id": "68c6a930",
   "metadata": {},
   "outputs": [],
   "source": [
    "print(Привіт + 7)"
   ]
  },
  {
   "cell_type": "code",
   "execution_count": null,
   "id": "5db9e26f",
   "metadata": {},
   "outputs": [],
   "source": [
    "print(8 + 7)"
   ]
  },
  {
   "cell_type": "code",
   "execution_count": null,
   "id": "f8d81ea3",
   "metadata": {},
   "outputs": [],
   "source": [
    "print(8 + '7' + 1 / 2)"
   ]
  },
  {
   "cell_type": "code",
   "execution_count": null,
   "id": "f6999cc0",
   "metadata": {},
   "outputs": [],
   "source": [
    "print(8 + 7 + 1 / 2)"
   ]
  },
  {
   "cell_type": "code",
   "execution_count": null,
   "id": "1eb2c7c4",
   "metadata": {},
   "outputs": [],
   "source": [
    "print(7 - 2 + '2')"
   ]
  },
  {
   "cell_type": "code",
   "execution_count": null,
   "id": "48ec7e6c",
   "metadata": {},
   "outputs": [],
   "source": [
    "print('a' * 3, 2 * 'b', 3 * 2)"
   ]
  },
  {
   "cell_type": "code",
   "execution_count": null,
   "id": "d1e9d5eb",
   "metadata": {},
   "outputs": [],
   "source": [
    "print('a' * 'b')"
   ]
  },
  {
   "cell_type": "code",
   "execution_count": null,
   "id": "c01bd388",
   "metadata": {},
   "outputs": [],
   "source": [
    "print('aa' * 3)"
   ]
  },
  {
   "cell_type": "code",
   "execution_count": null,
   "id": "12885a66",
   "metadata": {},
   "outputs": [],
   "source": [
    "print(7 / 3)"
   ]
  },
  {
   "cell_type": "code",
   "execution_count": null,
   "id": "95d3dc09",
   "metadata": {},
   "outputs": [],
   "source": [
    "print(7 / '3')"
   ]
  },
  {
   "cell_type": "code",
   "execution_count": null,
   "id": "40d926c8",
   "metadata": {},
   "outputs": [],
   "source": [
    "print('aa' + '   ')"
   ]
  },
  {
   "cell_type": "code",
   "execution_count": null,
   "id": "cdabdbab",
   "metadata": {},
   "outputs": [],
   "source": [
    "print('aa' +    ')"
   ]
  },
  {
   "cell_type": "code",
   "execution_count": null,
   "id": "35c8a912",
   "metadata": {},
   "outputs": [],
   "source": [
    "print('aa' + '   ' + 'bb')"
   ]
  },
  {
   "cell_type": "code",
   "execution_count": null,
   "id": "df33cd49",
   "metadata": {},
   "outputs": [],
   "source": [
    "print('aa' + '   ' + 'bb' + 18)"
   ]
  },
  {
   "cell_type": "code",
   "execution_count": null,
   "id": "1d40d1c2",
   "metadata": {},
   "outputs": [],
   "source": [
    "print(str(1), 1)"
   ]
  },
  {
   "cell_type": "code",
   "execution_count": null,
   "id": "d5b0ed0a",
   "metadata": {},
   "outputs": [],
   "source": [
    "print(str(1) + 1)"
   ]
  },
  {
   "cell_type": "code",
   "execution_count": null,
   "id": "c840e897",
   "metadata": {},
   "outputs": [],
   "source": [
    "print(1 + str(1))"
   ]
  },
  {
   "cell_type": "code",
   "execution_count": null,
   "id": "c98bf84e",
   "metadata": {},
   "outputs": [],
   "source": [
    "print(str(2) + str('bbb') + int('18'))"
   ]
  },
  {
   "cell_type": "code",
   "execution_count": null,
   "id": "90a30d5c",
   "metadata": {},
   "outputs": [],
   "source": [
    "print(str(2) + str('bbb')"
   ]
  },
  {
   "cell_type": "code",
   "execution_count": null,
   "id": "72389561",
   "metadata": {},
   "outputs": [],
   "source": [
    "print(str(2) + str('48') + '13')"
   ]
  },
  {
   "cell_type": "code",
   "execution_count": null,
   "id": "35109953",
   "metadata": {},
   "outputs": [],
   "source": [
    "print(int('666.666'))"
   ]
  },
  {
   "cell_type": "code",
   "execution_count": null,
   "id": "85b5e17d",
   "metadata": {},
   "outputs": [],
   "source": [
    "print(int(666.666))"
   ]
  },
  {
   "cell_type": "code",
   "execution_count": null,
   "id": "eb9402ef",
   "metadata": {},
   "outputs": [],
   "source": [
    "print(int(''))"
   ]
  },
  {
   "cell_type": "code",
   "execution_count": null,
   "id": "1cae1f9b",
   "metadata": {},
   "outputs": [],
   "source": [
    "print(int('  '))"
   ]
  },
  {
   "cell_type": "code",
   "execution_count": null,
   "id": "d350fe1f",
   "metadata": {},
   "outputs": [],
   "source": [
    "print(float('   '))"
   ]
  },
  {
   "cell_type": "code",
   "execution_count": null,
   "id": "fa0eeeca",
   "metadata": {},
   "outputs": [],
   "source": [
    "print(int(str(int(str(int('666'))))) + 10)"
   ]
  },
  {
   "cell_type": "code",
   "execution_count": null,
   "id": "f8b5928c",
   "metadata": {},
   "outputs": [],
   "source": [
    "print(1e9 / 1e6)  # бажано розуміти, але не принципово"
   ]
  },
  {
   "cell_type": "code",
   "execution_count": null,
   "id": "d9e47cff",
   "metadata": {},
   "outputs": [],
   "source": [
    "print(1e9 / 1000)  # бажано розуміти, але не принципово"
   ]
  },
  {
   "cell_type": "code",
   "execution_count": null,
   "id": "fa66fc5d",
   "metadata": {},
   "outputs": [],
   "source": [
    "print(1e9 / 10 ** 3)  # бажано розуміти, але не принципово"
   ]
  },
  {
   "cell_type": "code",
   "execution_count": null,
   "id": "d962b0d6",
   "metadata": {},
   "outputs": [],
   "source": [
    "print(1e9 / 10 ** 3.0)  # бажано розуміти, але не принципово"
   ]
  },
  {
   "cell_type": "code",
   "execution_count": null,
   "id": "02e8836e",
   "metadata": {},
   "outputs": [],
   "source": [
    "print(1e9 / 1e10)  # бажано розуміти, але не принципово"
   ]
  }
 ],
 "metadata": {
  "kernelspec": {
   "display_name": "Python 3",
   "language": "python",
   "name": "python3"
  },
  "language_info": {
   "codemirror_mode": {
    "name": "ipython",
    "version": 3
   },
   "file_extension": ".py",
   "mimetype": "text/x-python",
   "name": "python",
   "nbconvert_exporter": "python",
   "pygments_lexer": "ipython3",
   "version": "3.8.11"
  }
 },
 "nbformat": 4,
 "nbformat_minor": 5
}
