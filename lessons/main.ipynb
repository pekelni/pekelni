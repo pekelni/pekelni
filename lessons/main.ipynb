{
 "cells": [
  {
   "cell_type": "markdown",
   "id": "bcfbc625",
   "metadata": {},
   "source": [
    "<img src=\"logo.png\" style=\"float: left;\">"
   ]
  },
  {
   "cell_type": "markdown",
   "id": "be03d886",
   "metadata": {},
   "source": [
    "1. [Вступ](y01_intro/intro.ipynb)  \n",
    "2. [Арифметика, трохи типів, знайомство з рядками](y02_arithmetics_types_strings/arithmetics_types_strings.ipynb). [Тести](y02_arithmetics_types_strings/tests_arithmetics_types_strings.ipynb)\n",
    "3. [Змінні, присвоєння, деякі функції](y03_variables_assignments_some_functions/variables_assignments_some_functions.ipynb). [Задачі](y03_variables_assignments_some_functions/exercises_variables_assignments_some_functions.ipynb)\n",
    "3. [Логічний тип, умовні переходи](у04_booleans_conditionals/booleans_conditionals.ipynb). [Задачі](у04_booleans_conditionals/exercises_booleans_conditionals.ipynb)\n",
    "4. [Цикли](у05_loops/loops.ipynb). [Задачі](у05_loops/exercises_loops.ipynb)\n",
    "5. [Списки, кортежі](у06_lists/list.ipynb). [Задачі](у06_lists/exercises_lists.ipynb)"
   ]
  }
 ],
 "metadata": {
  "kernelspec": {
   "display_name": "Python 3 (ipykernel)",
   "language": "python",
   "name": "python3"
  },
  "language_info": {
   "codemirror_mode": {
    "name": "ipython",
    "version": 3
   },
   "file_extension": ".py",
   "mimetype": "text/x-python",
   "name": "python",
   "nbconvert_exporter": "python",
   "pygments_lexer": "ipython3",
   "version": "3.9.7"
  }
 },
 "nbformat": 4,
 "nbformat_minor": 5
}
