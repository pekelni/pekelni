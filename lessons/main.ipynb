{
 "cells": [
  {
   "cell_type": "markdown",
   "id": "bcfbc625",
   "metadata": {},
   "source": [
    "<img src=\"logo.png\" style=\"float: left;\">"
   ]
  },
  {
   "cell_type": "markdown",
   "id": "be03d886",
   "metadata": {},
   "source": [
    "[YouTube Плейліст](https://www.youtube.com/watch?v=-VWKRQWEhbs&list=PLCY5T7rb3FI7P_Yh8XaRhlVzXahYhI-hp&ab_channel=PekelniProgramist)  \n",
    "\n",
    "# Перший етап\n",
    "0. Особливості курсу і інфраструктура\n",
    "1. [Вступ](y01_intro/intro.ipynb)  \n",
    "\n",
    "## 2. Арифметика, трохи типів, знайомство з рядками\n",
    "[Конспект - Colab](y02_arithmetics_types_strings/arithmetics_types_strings.ipynb)  \n",
    "[Лекція #1 - YouTube](https://youtu.be/-VWKRQWEhbs)  \n",
    "[Лекція #2 - YouTube](https://youtu.be/RN6MdQPpSpE)  \n",
    "[Лекція #3 - YouTube](https://youtu.be/-30X-uYZxek)  \n",
    "\n",
    "\n",
    "[Практика - Colab](y02_arithmetics_types_strings/tests_arithmetics_types_strings.ipynb)   \n",
    "[Практика - YouTube](https://youtu.be/_kDHTCkjI9s)   \n",
    "\n",
    "    \n",
    "## 3. Змінні, присвоєння, деякі функції    \n",
    "[Конспект - Colab](y03_variables_assignments_some_functions/variables_assignments_some_functions.ipynb)  \n",
    "[Лекція #1 - YouTube](https://youtu.be/GwXPTlYCwSY)  \n",
    "[Лекція #2 - YouTube](https://youtu.be/aNDpROm4N1I)  \n",
    "[Лекція #3 - YouTube](https://youtu.be/A2jVWkUQ8dw)  \n",
    "[Лекція #4 - YouTube](https://youtu.be/bSpcn0H8bnY)  \n",
    "\n",
    "[Практика - Colab](y03_variables_assignments_some_functions/exercises_variables_assignments_some_functions.ipynb)  \n",
    "[Практика #1 - YouTube](https://youtu.be/CctsRiGoJOE)  \n",
    "[Практика #2 3 4 5 - YouTube](https://youtu.be/qQRj7FDtMlg)  \n",
    "[Практика #6 7 8 - YouTube](https://youtu.be/zRhBvPQ4OSU)  \n",
    "[Практика #9 10 - YouTube](https://youtu.be/x7XPlWF8lFM)  \n",
    "[Практика #11 - YouTube](https://youtu.be/UExeNJzJMvw)  \n",
    "\n",
    "\n",
    "\n",
    "\n",
    "\n",
    "## Далі буде\n",
    "3. [Логічний тип, умовні переходи](у04_booleans_conditionals/booleans_conditionals.ipynb). [Задачі](у04_booleans_conditionals/exercises_booleans_conditionals.ipynb)\n",
    "4. [Цикли](у05_loops/loops.ipynb). [Задачі](у05_loops/exercises_loops.ipynb)\n",
    "5. [Списки, кортежі](у06_lists/list.ipynb). [Задачі](у06_lists/exercises_lists.ipynb)\n",
    "\n",
    "# Другий етап\n",
    "6. Функції\n",
    "7. Множини і словники\n",
    "8. Рядки\n",
    "9. Обробка помилок\n",
    "10. Класи і об'єкти\n",
    "11. Відмінності між об'єктами і словниками\n",
    "12. Робота з файлами, pickle\n",
    "13. Робота у Пайчармі, імпорти\n",
    "13. Робота "
   ]
  }
 ],
 "metadata": {
  "kernelspec": {
   "display_name": "Python 3 (ipykernel)",
   "language": "python",
   "name": "python3"
  },
  "language_info": {
   "codemirror_mode": {
    "name": "ipython",
    "version": 3
   },
   "file_extension": ".py",
   "mimetype": "text/x-python",
   "name": "python",
   "nbconvert_exporter": "python",
   "pygments_lexer": "ipython3",
   "version": "3.9.7"
  }
 },
 "nbformat": 4,
 "nbformat_minor": 5
}
