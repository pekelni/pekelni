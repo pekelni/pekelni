{
 "cells": [
  {
   "cell_type": "markdown",
   "id": "d79e13d2",
   "metadata": {},
   "source": [
    "<img src=\"../logo.png\" style=\"float: left;\">"
   ]
  },
  {
   "cell_type": "markdown",
   "id": "90ff075f",
   "metadata": {},
   "source": [
    "# 3. Задачі\n",
    "## Необхідна теорія\n",
    "1) Змінні, присвоєння, додавання (конкатенація) рядків.  \n",
    "2) Арифметичні операції (`*`, `/`, `//`, `%`, `+`, `-`, `**`), вкладені виклики функцій.  \n",
    "3) Модифікуюче присвоєння: `+=`, `-=`, `*=`, `/=`, `//=`, `%=`         \n",
    "4) Використання функцій: `input()`, `print()`, `round()`, `import time`, `time.time()`, `len()`, `import random`, `random.randint()`       \n",
    "5) Конвертації - `str()`, `float()`, `int()`"
   ]
  },
  {
   "cell_type": "markdown",
   "id": "c5ad293c",
   "metadata": {},
   "source": [
    "## 1. Привітання\n",
    "Напишіть програму, яка запитує у користувача як його звуть і виводить персоналізоване привітання."
   ]
  },
  {
   "cell_type": "code",
   "execution_count": 1,
   "id": "50f2b029",
   "metadata": {},
   "outputs": [
    {
     "name": "stdout",
     "output_type": "stream",
     "text": [
      "Введіть ім'я: Степан\n",
      "Привіт, Степан!\n"
     ]
    }
   ],
   "source": [
    "%run solutions/привітання.py"
   ]
  },
  {
   "cell_type": "markdown",
   "id": "a4159578",
   "metadata": {},
   "source": [
    "[Рішення](solution_notebooks/привітання.ipynb) (≈2 рядків коду)"
   ]
  },
  {
   "cell_type": "markdown",
   "id": "260961a5",
   "metadata": {},
   "source": [
    "## 2. Хвилини у роки (формула)\n",
    "Напишіть програму яка (приблизно) конвертує введену кількість хвилин у кількість років і днів. Приблизно тому що навіть якщо кількість років буде складати більше 4 ми не рахуватимемо високосні роки."
   ]
  },
  {
   "cell_type": "code",
   "execution_count": 2,
   "id": "0d95dc3d",
   "metadata": {},
   "outputs": [
    {
     "name": "stdout",
     "output_type": "stream",
     "text": [
      "Введіть кількість хвилин: 1_000_000\n",
      "1000000.0 хвилин це приблизно 1.903 років.\n"
     ]
    }
   ],
   "source": [
    "%run solutions/хвилини_у_роки.py"
   ]
  },
  {
   "cell_type": "code",
   "execution_count": 1,
   "id": "8c772724",
   "metadata": {},
   "outputs": [
    {
     "name": "stdout",
     "output_type": "stream",
     "text": [
      "Введіть кількість хвилин: 1e6\n",
      "1000000.0 хвилин це приблизно 1.903 років.\n"
     ]
    }
   ],
   "source": [
    "%run solutions/хвилини_у_роки.py"
   ]
  },
  {
   "cell_type": "code",
   "execution_count": 2,
   "id": "b9c8d58e",
   "metadata": {},
   "outputs": [
    {
     "name": "stdout",
     "output_type": "stream",
     "text": [
      "Введіть кількість хвилин: 1e9\n",
      "1000000000.0 хвилин це приблизно 1902.588 років.\n"
     ]
    }
   ],
   "source": [
    "%run solutions/хвилини_у_роки.py"
   ]
  },
  {
   "cell_type": "code",
   "execution_count": 3,
   "id": "0eefec69",
   "metadata": {},
   "outputs": [
    {
     "name": "stdout",
     "output_type": "stream",
     "text": [
      "Введіть кількість хвилин: 1234\n",
      "1234.0 хвилин це приблизно 0.009 років.\n"
     ]
    }
   ],
   "source": [
    "%run solutions/хвилини_у_роки.py"
   ]
  },
  {
   "cell_type": "code",
   "execution_count": 4,
   "id": "e7be255d",
   "metadata": {},
   "outputs": [
    {
     "name": "stdout",
     "output_type": "stream",
     "text": [
      "Введіть кількість хвилин: 1\n",
      "1.0 хвилин це приблизно 0.0 років.\n"
     ]
    }
   ],
   "source": [
    "%run solutions/хвилини_у_роки.py"
   ]
  },
  {
   "cell_type": "code",
   "execution_count": 6,
   "id": "4ea2688d",
   "metadata": {},
   "outputs": [
    {
     "name": "stdout",
     "output_type": "stream",
     "text": [
      "Введіть кількість хвилин: 666666.666666\n",
      "666666.666666 хвилин це приблизно 1.268 років.\n"
     ]
    }
   ],
   "source": [
    "%run solutions/хвилини_у_роки.py"
   ]
  },
  {
   "cell_type": "markdown",
   "id": "a87b5389",
   "metadata": {},
   "source": [
    "[Рішення](solution_notebooks/хвилини_у_роки.ipynb) (≈7 рядків коду) "
   ]
  },
  {
   "cell_type": "markdown",
   "id": "4ed1c3cf",
   "metadata": {},
   "source": [
    "## 3. Периметр, площа (формула)\n",
    "Напишіть програму що приймає на вхід ширину і довжину прямокутника, обчислює і виводить на екран площу і периметр цього прямокутника."
   ]
  },
  {
   "cell_type": "code",
   "execution_count": 3,
   "id": "bf92a867",
   "metadata": {},
   "outputs": [
    {
     "name": "stdout",
     "output_type": "stream",
     "text": [
      "Введіть ширину: 2\n",
      "Введіть довжину: 8\n",
      "Периметр: 20\n",
      "Площа: 16\n"
     ]
    }
   ],
   "source": [
    "%run solutions/периметр_і_площа.py"
   ]
  },
  {
   "cell_type": "code",
   "execution_count": 5,
   "id": "bc915ce6",
   "metadata": {},
   "outputs": [
    {
     "name": "stdout",
     "output_type": "stream",
     "text": [
      "Введіть ширину: 19.1\n",
      "Введіть довжину: 8.555\n",
      "Периметр: 55.31\n",
      "Площа: 163.4005\n"
     ]
    }
   ],
   "source": [
    "%run solutions/периметр_і_площа.py"
   ]
  },
  {
   "cell_type": "markdown",
   "id": "d0b5aeaa",
   "metadata": {},
   "source": [
    "Поки що ми працюємо зі спрощеною версією програми. Ми ще не вчили обробку помилок, тому якщо ввести текст замість числа, то програма просто впаде і виведе приблизно `ValueError: could not convert string to float: ...`"
   ]
  },
  {
   "cell_type": "markdown",
   "id": "8abf223f",
   "metadata": {},
   "source": [
    "Якщо ввести від'ємні числа програма спрацює ніби все так і має бути. Ми це виправимо пізніше."
   ]
  },
  {
   "cell_type": "code",
   "execution_count": 7,
   "id": "2ba2b0c5",
   "metadata": {},
   "outputs": [
    {
     "name": "stdout",
     "output_type": "stream",
     "text": [
      "Введіть ширину: -8\n",
      "Введіть довжину: 10\n",
      "Периметр: 4.0\n",
      "Площа: -80.0\n"
     ]
    }
   ],
   "source": [
    "%run solutions/периметр_і_площа.py"
   ]
  },
  {
   "cell_type": "markdown",
   "id": "e5ef2e51",
   "metadata": {},
   "source": [
    "[Рішення](solution_notebooks/периметр_і_площа.ipynb) (≈6 рядків коду)"
   ]
  },
  {
   "cell_type": "markdown",
   "id": "29844837",
   "metadata": {},
   "source": [
    "## 4. Тривалість обчислення\n",
    "Заміряйте як довго у Пайтоні рахується 777_777 у степені 777_777. Виведіть красиве повідомлення з результатами заміру, результати заміру округліть до трьох знаків після коми.\n",
    "\n",
    "Якщо у вас старенький комп'ютер, це обчислення може зайняти досить тривалий час, у такому разі можете замінити його на якесь простіше, наприклад 77_777 у степені 77_777.\n",
    "\n",
    "Опціональне ускладнення: пишіть програму таким чином, щоб якщо виникла необхідність поміняти обчислення, наприклад замінити 777_777 на 123_456, то щоб цю зміну можна було зробити в одному місці, а не у декількох."
   ]
  },
  {
   "cell_type": "code",
   "execution_count": 15,
   "id": "505cf803",
   "metadata": {},
   "outputs": [
    {
     "name": "stdout",
     "output_type": "stream",
     "text": [
      "Розрахунок (777777 ** 777777) зайняв 2.328 секунд\n"
     ]
    }
   ],
   "source": [
    "%run solutions/тривалість.py"
   ]
  },
  {
   "cell_type": "markdown",
   "id": "deeab753",
   "metadata": {},
   "source": [
    "[Рішення](solution_notebooks/тривалість.ipynb) (≈7 рядків коду) "
   ]
  },
  {
   "cell_type": "markdown",
   "id": "2e88c7b8",
   "metadata": {},
   "source": [
    "## 5. Швидкість набору\n",
    "Напишіть програму, яка перевірятиме як швидко користувач набирає текст."
   ]
  },
  {
   "cell_type": "code",
   "execution_count": 22,
   "id": "95664d97",
   "metadata": {},
   "outputs": [
    {
     "name": "stdout",
     "output_type": "stream",
     "text": [
      "Приклад тексту: \"А завзяття, праця щира свого ще докаже\"\n",
      "Коли будете готові, натисніть Enter, введіть текст, і тоді знов натисніть Enter\n",
      "ПОЧИНАЙТЕ: А завзяття, праця щира свого ще докаже\n",
      "Швидкість вашого набору складає 314.03 знаків на хвилину\n"
     ]
    }
   ],
   "source": [
    "%run solutions/швидкість_набору.py"
   ]
  },
  {
   "cell_type": "code",
   "execution_count": 4,
   "id": "3eee467f",
   "metadata": {},
   "outputs": [
    {
     "name": "stdout",
     "output_type": "stream",
     "text": [
      "Приклад тексту: \"А завзяття, праця щира свого ще докаже\"\n",
      "Коли будете готові, натисніть Enter, введіть текст, і тоді знов натисніть Enter\n",
      "ПОЧИНАЙТЕ: афівоафівафівафівафівафі\n",
      "Швидкість вашого набору складає 1011.78 знаків на хвилину\n"
     ]
    }
   ],
   "source": [
    "%run solutions/швидкість_набору.py"
   ]
  },
  {
   "cell_type": "code",
   "execution_count": 6,
   "id": "be4ccbdf",
   "metadata": {},
   "outputs": [
    {
     "name": "stdout",
     "output_type": "stream",
     "text": [
      "Приклад тексту: \"А завзяття, праця щира свого ще докаже\"\n",
      "Коли будете готові, натисніть Enter, введіть текст, і тоді знов натисніть Enter\n",
      "ПОЧИНАЙТЕ: а\n",
      "Швидкість вашого набору складає 314.04 знаків на хвилину\n"
     ]
    }
   ],
   "source": [
    "%run solutions/швидкість_набору.py"
   ]
  },
  {
   "cell_type": "markdown",
   "id": "a52c690e",
   "metadata": {},
   "source": [
    "[Підказка](hints_notebooks/швидкість_набору_1.ipynb)  \n",
    "[Рішення](solution_notebooks/швидкість_набору.ipynb) (≈9 рядків коду) "
   ]
  },
  {
   "cell_type": "markdown",
   "id": "ec3b73ce",
   "metadata": {},
   "source": [
    "## 6. Чайові (формула)\n",
    "Напишіть програму яка зчитує суму і відсоток для чайових, а виводить повну суму яку необхідно заплатити."
   ]
  },
  {
   "cell_type": "code",
   "execution_count": 27,
   "id": "e3474033",
   "metadata": {},
   "outputs": [
    {
     "name": "stdout",
     "output_type": "stream",
     "text": [
      "Введіть суму: 100\n",
      "Введіть відсоток (від 0 до 100): 5\n",
      "Загальна сума разом із чайовими: 105.0\n"
     ]
    }
   ],
   "source": [
    "%run solutions/чайові.py"
   ]
  },
  {
   "cell_type": "code",
   "execution_count": 26,
   "id": "7904b5fa",
   "metadata": {},
   "outputs": [
    {
     "name": "stdout",
     "output_type": "stream",
     "text": [
      "Введіть суму: 200\n",
      "Введіть відсоток (від 0 до 100): 5\n",
      "Загальна сума разом із чайовими: 210.0\n"
     ]
    }
   ],
   "source": [
    "%run solutions/чайові.py"
   ]
  },
  {
   "cell_type": "code",
   "execution_count": 25,
   "id": "072cb179",
   "metadata": {},
   "outputs": [
    {
     "name": "stdout",
     "output_type": "stream",
     "text": [
      "Введіть суму: 1234\n",
      "Введіть відсоток (від 0 до 100): 17.3111111119\n",
      "Загальна сума разом із чайовими: 5700.15\n"
     ]
    }
   ],
   "source": [
    "%run solutions/чайові.py"
   ]
  },
  {
   "cell_type": "code",
   "execution_count": 7,
   "id": "fbf954cd",
   "metadata": {},
   "outputs": [
    {
     "name": "stdout",
     "output_type": "stream",
     "text": [
      "Введіть суму: 100\n",
      "Введіть відсоток (від 0 до 100): -5\n",
      "Загальна сума разом із чайовими: 95.0\n"
     ]
    }
   ],
   "source": [
    "%run solutions/чайові.py"
   ]
  },
  {
   "cell_type": "code",
   "execution_count": 8,
   "id": "a05129b9",
   "metadata": {},
   "outputs": [
    {
     "name": "stdout",
     "output_type": "stream",
     "text": [
      "Введіть суму: -100\n",
      "Введіть відсоток (від 0 до 100): -110\n",
      "Загальна сума разом із чайовими: 10.0\n"
     ]
    }
   ],
   "source": [
    "%run solutions/чайові.py"
   ]
  },
  {
   "cell_type": "markdown",
   "id": "f4b229b7",
   "metadata": {},
   "source": [
    "[Рішення](solution_notebooks/чайові.ipynb) (≈5 рядків коду)"
   ]
  },
  {
   "cell_type": "markdown",
   "id": "2d182635",
   "metadata": {},
   "source": [
    "## 7. Обмін валют (формула)\n",
    "Напишіть програму яка зчитує кількість гривень і конвертує їх у долари, євро і біткоїни.\n",
    "\n",
    "Вважайте, що курс долара 27, курс євро - 33, курс біткоїна 895000.\n",
    "\n",
    "Ускладнена задача: врахуйте що біткоїн може у будь-який момент впасти або вирости у 3 рази чи менше випадковим чином."
   ]
  },
  {
   "cell_type": "code",
   "execution_count": 33,
   "id": "6277e916",
   "metadata": {},
   "outputs": [
    {
     "name": "stdout",
     "output_type": "stream",
     "text": [
      "Введіть кількість гривень для конвертації: 400\n",
      "Долари: 14.81\n",
      "Євро: 12.12\n",
      "Біткоїни: 0.000331\n"
     ]
    }
   ],
   "source": [
    "%run solutions/обмін_валют.py"
   ]
  },
  {
   "cell_type": "code",
   "execution_count": 31,
   "id": "842b4bca",
   "metadata": {},
   "outputs": [
    {
     "name": "stdout",
     "output_type": "stream",
     "text": [
      "Введіть кількість гривень для конвертації: 1000000\n",
      "Долари: 37037.04\n",
      "Євро: 30303.03\n",
      "Біткоїни: 0.487912\n"
     ]
    }
   ],
   "source": [
    "%run solutions/обмін_валют.py"
   ]
  },
  {
   "cell_type": "code",
   "execution_count": 32,
   "id": "d86676e0",
   "metadata": {},
   "outputs": [
    {
     "name": "stdout",
     "output_type": "stream",
     "text": [
      "Введіть кількість гривень для конвертації: 6666\n",
      "Долари: 246.89\n",
      "Євро: 202.0\n",
      "Біткоїни: 0.002491\n"
     ]
    }
   ],
   "source": [
    "%run solutions/обмін_валют.py"
   ]
  },
  {
   "cell_type": "markdown",
   "id": "b72f8099",
   "metadata": {},
   "source": [
    "[Підказка про волатильність Біткоїна](hints_notebooks/обмін_валют_1.ipynb)  \n",
    "[Рішення](solution_notebooks/обмін_валют.ipynb) (≈12 рядків коду) "
   ]
  },
  {
   "cell_type": "markdown",
   "id": "320f35e2",
   "metadata": {},
   "source": [
    "## 8. Спрощений тренер арифметики\n",
    "Напишіть спрощений тренер арифметики, який генерує арифметичний приклад на додавання випадковим чином, питає у користувача відповідь, і незалежно від правильності відповіді виводить і відповідь користувача, і правильно відповідь.\n",
    "\n",
    "Я називаю цей тренер спрощеним тому що він генерує лише один приклад, лише на додавання, і не видає конкретного відгуку у вигляді \"правильно\" чи \"неправильно, спробуй ще\".\n",
    "\n",
    "Генеруйте доданки випадковим чином від 1 до 50."
   ]
  },
  {
   "cell_type": "code",
   "execution_count": 36,
   "id": "5e45354e",
   "metadata": {},
   "outputs": [
    {
     "name": "stdout",
     "output_type": "stream",
     "text": [
      "18 + 9 = 22\n",
      "Ваша відповідь: 22, правильна відповідь: 27\n"
     ]
    }
   ],
   "source": [
    "%run solutions/спрощений_тренер_арифметики.py"
   ]
  },
  {
   "cell_type": "markdown",
   "id": "4f2201a7",
   "metadata": {},
   "source": [
    "[Рішення](solution_notebooks/спрощений_тренер_арифметики.ipynb) (≈7 рядків коду) "
   ]
  },
  {
   "cell_type": "markdown",
   "id": "3f2c4ffa",
   "metadata": {},
   "source": [
    "## 9. Часовий пояс\n",
    "Напишіть програму яка приймає часову зону і виводить поточний час у цій зоні."
   ]
  },
  {
   "cell_type": "code",
   "execution_count": 34,
   "id": "548e52eb",
   "metadata": {},
   "outputs": [
    {
     "name": "stdout",
     "output_type": "stream",
     "text": [
      "Введіть зміщення часового поясу у годинах: 3\n",
      "7 годин, 9 хвилин\n"
     ]
    }
   ],
   "source": [
    "%run solutions/часовий_пояс.py"
   ]
  },
  {
   "cell_type": "code",
   "execution_count": 35,
   "id": "a41db8f9",
   "metadata": {},
   "outputs": [
    {
     "name": "stdout",
     "output_type": "stream",
     "text": [
      "Введіть зміщення часового поясу у годинах: -7\n",
      "21 годин, 9 хвилин\n"
     ]
    }
   ],
   "source": [
    "%run solutions/часовий_пояс.py"
   ]
  },
  {
   "cell_type": "markdown",
   "id": "c29178e0",
   "metadata": {},
   "source": [
    "[Підказка #1](hints_notebooks/часовий_пояс_1.ipynb)   \n",
    "[Підказка #2](hints_notebooks/часовий_пояс_2.ipynb)   \n",
    "[Підказка #3](hints_notebooks/часовий_пояс_3.ipynb)   \n",
    "[Рішення](solution_notebooks/часовий_пояс.ipynb) (≈11 рядків коду) "
   ]
  },
  {
   "cell_type": "markdown",
   "id": "80810cb8",
   "metadata": {},
   "source": [
    "## 10. Cума цифр числа\n",
    "Напишіть програму яка зчитує число від 0 до 9999 і рахує суму цифр числа.\n",
    "\n",
    "Опціонально друкуйте проміжні суми, це дещо полегшує розуміння роботи програми.\n",
    "\n",
    "У коді цієї програми буде певна кількість дублювання бо ми ще не знаємо циклів. Пізніше ми оптимізуємо цю програму використовуючи цикли."
   ]
  },
  {
   "cell_type": "code",
   "execution_count": 1,
   "id": "fee98b5f",
   "metadata": {},
   "outputs": [
    {
     "name": "stdout",
     "output_type": "stream",
     "text": [
      "Введіть число: 111\n",
      "Перша цифра: 1\n",
      "Сума перших 2 цифр: 2\n",
      "Сума перших 3 цифр: 3\n",
      "Сума перших 4 цифр (фінальна): 3\n"
     ]
    }
   ],
   "source": [
    "%run solutions/сума_цифр_числа.py"
   ]
  },
  {
   "cell_type": "code",
   "execution_count": 2,
   "id": "e8900c81",
   "metadata": {},
   "outputs": [
    {
     "name": "stdout",
     "output_type": "stream",
     "text": [
      "Введіть число: 1111\n",
      "Перша цифра: 1\n",
      "Сума перших 2 цифр: 2\n",
      "Сума перших 3 цифр: 3\n",
      "Сума перших 4 цифр (фінальна): 4\n"
     ]
    }
   ],
   "source": [
    "%run solutions/сума_цифр_числа.py"
   ]
  },
  {
   "cell_type": "code",
   "execution_count": 3,
   "id": "d5c9adf4",
   "metadata": {},
   "outputs": [
    {
     "name": "stdout",
     "output_type": "stream",
     "text": [
      "Введіть число: 1234\n",
      "Перша цифра: 9\n",
      "Сума перших 2 цифр: 14\n",
      "Сума перших 3 цифр: 22\n",
      "Сума перших 4 цифр (фінальна): 26\n"
     ]
    }
   ],
   "source": [
    "%run solutions/сума_цифр_числа.py"
   ]
  },
  {
   "cell_type": "markdown",
   "id": "031653ee",
   "metadata": {},
   "source": [
    "Якщо ввести завелике число, то програма опрацює лише останні 4 цифри, у наступному прикладі це чотири одинички:"
   ]
  },
  {
   "cell_type": "code",
   "execution_count": 4,
   "id": "eaaf1866",
   "metadata": {},
   "outputs": [
    {
     "name": "stdout",
     "output_type": "stream",
     "text": [
      "Введіть число: 9999999999999999991111\n",
      "Перша цифра: 1\n",
      "Сума перших 2 цифр: 2\n",
      "Сума перших 3 цифр: 3\n",
      "Сума перших 4 цифр (фінальна): 4\n"
     ]
    }
   ],
   "source": [
    "%run solutions/сума_цифр_числа.py"
   ]
  },
  {
   "cell_type": "markdown",
   "id": "55de0dba",
   "metadata": {},
   "source": [
    "Повноцінної обробки помилок ми поки що не робимо, тому якщо ввести букви то отримаємо помилку `ValueError: invalid literal for int() with base 10: ...`"
   ]
  },
  {
   "cell_type": "markdown",
   "id": "bfc6f34e",
   "metadata": {},
   "source": [
    "[Підказка #1](hints_notebooks/сума_цифр_числа_1.ipynb)    \n",
    "[Підказка #2](hints_notebooks/сума_цифр_числа_2.ipynb)    \n",
    "[Рішення](solution_notebooks/сума_цифр_числа.ipynb) (≈17 рядків коду) "
   ]
  },
  {
   "cell_type": "markdown",
   "id": "a22c8379",
   "metadata": {},
   "source": [
    "## 11. Монети\n",
    "Напишіть програму яка приймає від користувача певну суму у копійках і\n",
    "виводить як розбити цю суму на найменшу кількість монет. Для цієї задачі\n",
    "вважатимемо що існують монети у 50, 25, 10, 5 копійок і 1 копійка."
   ]
  },
  {
   "cell_type": "code",
   "execution_count": 7,
   "id": "df0d6eba",
   "metadata": {},
   "outputs": [
    {
     "name": "stdout",
     "output_type": "stream",
     "text": [
      "Введіть суму: 99\n",
      "Монет по 50 копійок: 1\n",
      "Монет по 25 копійок: 1\n",
      "Монет по 10 копійок: 2\n",
      "Монет по 5 копійок: 0\n",
      "Монет по 1 копійці: 4\n"
     ]
    }
   ],
   "source": [
    "%run solutions/монети.py"
   ]
  },
  {
   "cell_type": "code",
   "execution_count": 8,
   "id": "8550e4c4",
   "metadata": {},
   "outputs": [
    {
     "name": "stdout",
     "output_type": "stream",
     "text": [
      "Введіть суму: 131\n",
      "Монет по 50 копійок: 2\n",
      "Монет по 25 копійок: 1\n",
      "Монет по 10 копійок: 0\n",
      "Монет по 5 копійок: 1\n",
      "Монет по 1 копійці: 1\n"
     ]
    }
   ],
   "source": [
    "%run solutions/монети.py"
   ]
  },
  {
   "cell_type": "code",
   "execution_count": 9,
   "id": "f315fb02",
   "metadata": {},
   "outputs": [
    {
     "name": "stdout",
     "output_type": "stream",
     "text": [
      "Введіть суму: 8\n",
      "Монет по 50 копійок: 0\n",
      "Монет по 25 копійок: 0\n",
      "Монет по 10 копійок: 0\n",
      "Монет по 5 копійок: 1\n",
      "Монет по 1 копійці: 3\n"
     ]
    }
   ],
   "source": [
    "%run solutions/монети.py"
   ]
  },
  {
   "cell_type": "code",
   "execution_count": 10,
   "id": "48e7f85b",
   "metadata": {},
   "outputs": [
    {
     "name": "stdout",
     "output_type": "stream",
     "text": [
      "Введіть суму: -7\n",
      "Монет по 50 копійок: -1\n",
      "Монет по 25 копійок: 1\n",
      "Монет по 10 копійок: 1\n",
      "Монет по 5 копійок: 1\n",
      "Монет по 1 копійці: 3\n"
     ]
    }
   ],
   "source": [
    "%run solutions/монети.py"
   ]
  },
  {
   "cell_type": "code",
   "execution_count": 12,
   "id": "7a550359",
   "metadata": {},
   "outputs": [
    {
     "name": "stdout",
     "output_type": "stream",
     "text": [
      "Введіть суму: -1\n",
      "Монет по 50 копійок: -1\n",
      "Монет по 25 копійок: 1\n",
      "Монет по 10 копійок: 2\n",
      "Монет по 5 копійок: 0\n",
      "Монет по 1 копійці: 4\n"
     ]
    }
   ],
   "source": [
    "%run solutions/монети.py"
   ]
  },
  {
   "cell_type": "code",
   "execution_count": 11,
   "id": "d9b11241",
   "metadata": {},
   "outputs": [
    {
     "name": "stdout",
     "output_type": "stream",
     "text": [
      "Введіть суму: 0\n",
      "Монет по 50 копійок: 0\n",
      "Монет по 25 копійок: 0\n",
      "Монет по 10 копійок: 0\n",
      "Монет по 5 копійок: 0\n",
      "Монет по 1 копійці: 0\n"
     ]
    }
   ],
   "source": [
    "%run solutions/монети.py"
   ]
  },
  {
   "cell_type": "markdown",
   "id": "83098557",
   "metadata": {},
   "source": [
    "[Підказка](hints_notebooks/монети_1.ipynb)    \n",
    "[Рішення](solution_notebooks/монети.ipynb) (≈14 рядків коду) "
   ]
  }
 ],
 "metadata": {
  "kernelspec": {
   "display_name": "Python 3 (ipykernel)",
   "language": "python",
   "name": "python3"
  },
  "language_info": {
   "codemirror_mode": {
    "name": "ipython",
    "version": 3
   },
   "file_extension": ".py",
   "mimetype": "text/x-python",
   "name": "python",
   "nbconvert_exporter": "python",
   "pygments_lexer": "ipython3",
   "version": "3.9.7"
  }
 },
 "nbformat": 4,
 "nbformat_minor": 5
}
