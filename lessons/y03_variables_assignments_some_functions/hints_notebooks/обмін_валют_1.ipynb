{
 "cells": [
  {
   "cell_type": "markdown",
   "id": "1de12efd",
   "metadata": {},
   "source": [
    "Збережіть поточну ціну біткоїна у константу. Далі сгенеруйте випадковим чинном `множник_волатильності` значення якого буде коливатися від `1/3` до `3` і помножте поточну ціну на цей множник щоб врахувати випадкову волатильність.  \n",
    "Це можна зробити кількома способами:"
   ]
  },
  {
   "cell_type": "code",
   "execution_count": 1,
   "id": "d8c1f6ee",
   "metadata": {},
   "outputs": [
    {
     "name": "stdout",
     "output_type": "stream",
     "text": [
      "0.57\n"
     ]
    }
   ],
   "source": [
    "import random\n",
    "множник_волатильності = random.randint(33, 300) / 100\n",
    "print(множник_волатильності)"
   ]
  },
  {
   "cell_type": "code",
   "execution_count": 2,
   "id": "c5807412",
   "metadata": {},
   "outputs": [
    {
     "name": "stdout",
     "output_type": "stream",
     "text": [
      "0.36\n"
     ]
    }
   ],
   "source": [
    "import random\n",
    "множник_волатильності = random.randint(33, 300) / 100\n",
    "print(множник_волатильності)"
   ]
  },
  {
   "cell_type": "code",
   "execution_count": 3,
   "id": "6e800d11",
   "metadata": {},
   "outputs": [
    {
     "name": "stdout",
     "output_type": "stream",
     "text": [
      "2.1\n"
     ]
    }
   ],
   "source": [
    "import random\n",
    "множник_волатильності = random.randint(33, 300) / 100\n",
    "print(множник_волатильності)"
   ]
  },
  {
   "cell_type": "code",
   "execution_count": 4,
   "id": "27f1bb88",
   "metadata": {},
   "outputs": [
    {
     "name": "stdout",
     "output_type": "stream",
     "text": [
      "1.71\n"
     ]
    }
   ],
   "source": [
    "import random\n",
    "множник_волатильності = random.randint(33, 300) / 100\n",
    "print(множник_волатильності)"
   ]
  },
  {
   "cell_type": "markdown",
   "id": "2a98b047",
   "metadata": {},
   "source": [
    "Або ось так:"
   ]
  },
  {
   "cell_type": "code",
   "execution_count": 5,
   "id": "dd798ae1",
   "metadata": {},
   "outputs": [
    {
     "name": "stdout",
     "output_type": "stream",
     "text": [
      "0.6640089719460113\n"
     ]
    }
   ],
   "source": [
    "import random\n",
    "множник_волатильності = random.random() * (3 - 1/3) + 1/3\n",
    "print(множник_волатильності)"
   ]
  },
  {
   "cell_type": "code",
   "execution_count": 6,
   "id": "e3a42258",
   "metadata": {},
   "outputs": [
    {
     "name": "stdout",
     "output_type": "stream",
     "text": [
      "1.6887597994702837\n"
     ]
    }
   ],
   "source": [
    "import random\n",
    "множник_волатильності = random.random() * (3 - 1/3) + 1/3\n",
    "print(множник_волатильності)"
   ]
  },
  {
   "cell_type": "code",
   "execution_count": 7,
   "id": "8fc2da93",
   "metadata": {},
   "outputs": [
    {
     "name": "stdout",
     "output_type": "stream",
     "text": [
      "2.2727604588415953\n"
     ]
    }
   ],
   "source": [
    "import random\n",
    "множник_волатильності = random.random() * (3 - 1/3) + 1/3\n",
    "print(множник_волатильності)"
   ]
  }
 ],
 "metadata": {
  "kernelspec": {
   "display_name": "Python 3",
   "language": "python",
   "name": "python3"
  },
  "language_info": {
   "codemirror_mode": {
    "name": "ipython",
    "version": 3
   },
   "file_extension": ".py",
   "mimetype": "text/x-python",
   "name": "python",
   "nbconvert_exporter": "python",
   "pygments_lexer": "ipython3",
   "version": "3.8.11"
  }
 },
 "nbformat": 4,
 "nbformat_minor": 5
}
