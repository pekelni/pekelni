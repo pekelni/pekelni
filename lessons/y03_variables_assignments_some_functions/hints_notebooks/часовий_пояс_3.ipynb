{
 "cells": [
  {
   "cell_type": "markdown",
   "id": "8212b00e",
   "metadata": {},
   "source": [
    "Як щодо часового поясу? Наприклад якщо поточна кількість годин з 1 січні 1970 року становить 452300, а часовий пояс дорівнює +7, то додавати пояс після конвертації у \"внутрішньодобові\" години неправильно, бо ми отримаємо 27 годин, що не вписується у 24 годинний формат."
   ]
  },
  {
   "cell_type": "code",
   "execution_count": 1,
   "id": "017d1d45",
   "metadata": {},
   "outputs": [
    {
     "name": "stdout",
     "output_type": "stream",
     "text": [
      "27\n"
     ]
    }
   ],
   "source": [
    "часовий_пояс = 7\n",
    "print(452300 % 24 + часовий_пояс)"
   ]
  },
  {
   "cell_type": "markdown",
   "id": "4c165f91",
   "metadata": {},
   "source": [
    "Відповідно, часовий пояс необхідно враховувати ДО конвертації у внутрішньодобові години."
   ]
  }
 ],
 "metadata": {
  "kernelspec": {
   "display_name": "Python 3",
   "language": "python",
   "name": "python3"
  },
  "language_info": {
   "codemirror_mode": {
    "name": "ipython",
    "version": 3
   },
   "file_extension": ".py",
   "mimetype": "text/x-python",
   "name": "python",
   "nbconvert_exporter": "python",
   "pygments_lexer": "ipython3",
   "version": "3.8.11"
  }
 },
 "nbformat": 4,
 "nbformat_minor": 5
}
