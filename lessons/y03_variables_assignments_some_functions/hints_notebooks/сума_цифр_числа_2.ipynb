{
 "cells": [
  {
   "cell_type": "markdown",
   "id": "81e77c48",
   "metadata": {},
   "source": [
    "Якщо ми хочемо дістати останню цифру з числа 1234, нам необхідно:"
   ]
  },
  {
   "cell_type": "code",
   "execution_count": 1,
   "id": "b0744853",
   "metadata": {},
   "outputs": [
    {
     "name": "stdout",
     "output_type": "stream",
     "text": [
      "9\n"
     ]
    }
   ],
   "source": [
    "print(1234 % 10)"
   ]
  },
  {
   "cell_type": "markdown",
   "id": "d1d0901e",
   "metadata": {},
   "source": [
    "Далі нам треба 1234 трансформувати у 485 і повторити операцію:"
   ]
  },
  {
   "cell_type": "code",
   "execution_count": 2,
   "id": "fa42bc1d",
   "metadata": {},
   "outputs": [
    {
     "name": "stdout",
     "output_type": "stream",
     "text": [
      "5\n"
     ]
    }
   ],
   "source": [
    "print(485 % 10)"
   ]
  },
  {
   "cell_type": "markdown",
   "id": "81c029d2",
   "metadata": {},
   "source": [
    "І так далі."
   ]
  }
 ],
 "metadata": {
  "kernelspec": {
   "display_name": "Python 3",
   "language": "python",
   "name": "python3"
  },
  "language_info": {
   "codemirror_mode": {
    "name": "ipython",
    "version": 3
   },
   "file_extension": ".py",
   "mimetype": "text/x-python",
   "name": "python",
   "nbconvert_exporter": "python",
   "pygments_lexer": "ipython3",
   "version": "3.8.11"
  }
 },
 "nbformat": 4,
 "nbformat_minor": 5
}
