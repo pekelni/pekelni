{
 "cells": [
  {
   "cell_type": "markdown",
   "id": "b99890db",
   "metadata": {},
   "source": [
    "Насправді ця задача несильно відрізняється від задачі про тривалість обчислення. У тій задачі треба було зберегти поточний час у змінній, виконати складне (тривале) обчислення, знов заміряти поточний час, порахувати різницю, різниця і була тривалістю.\n",
    "\n",
    "У цій задачі усе аналогічно, просто замість складного обчислення ми даємо користувачу задачу на ввід тексту і чекаємо поки користувач введе текст, методика заміру часу не змінюється. Трохи змінюється формат виводу: замість тривалості треба вивести швидкість вводу."
   ]
  }
 ],
 "metadata": {
  "kernelspec": {
   "display_name": "Python 3 (ipykernel)",
   "language": "python",
   "name": "python3"
  },
  "language_info": {
   "codemirror_mode": {
    "name": "ipython",
    "version": 3
   },
   "file_extension": ".py",
   "mimetype": "text/x-python",
   "name": "python",
   "nbconvert_exporter": "python",
   "pygments_lexer": "ipython3",
   "version": "3.9.3"
  }
 },
 "nbformat": 4,
 "nbformat_minor": 5
}
