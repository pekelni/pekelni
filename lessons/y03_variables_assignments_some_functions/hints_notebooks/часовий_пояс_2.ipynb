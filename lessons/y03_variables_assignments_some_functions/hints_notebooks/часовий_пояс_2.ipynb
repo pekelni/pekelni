{
 "cells": [
  {
   "cell_type": "markdown",
   "id": "8212b00e",
   "metadata": {},
   "source": [
    "Мабуть ви вже здогадалися, але вам необхідно використовувати оператор визначення остачі від ділення, тобто `%`. Якщо з 1 січня 1970 пройшло 1130751 годин, то поточний час по Грінвічу становитиме:"
   ]
  },
  {
   "cell_type": "code",
   "execution_count": 4,
   "id": "017d1d45",
   "metadata": {},
   "outputs": [
    {
     "name": "stdout",
     "output_type": "stream",
     "text": [
      "20\n"
     ]
    }
   ],
   "source": [
    "print(452300 % 24)"
   ]
  },
  {
   "cell_type": "markdown",
   "id": "0345299b",
   "metadata": {},
   "source": [
    "Оператор `//` (ділення націло) теж може вам стати у нагоді щоб зайвий раз не конвертувати числа (`float`) у цілі числа (`int`)."
   ]
  }
 ],
 "metadata": {
  "kernelspec": {
   "display_name": "Python 3",
   "language": "python",
   "name": "python3"
  },
  "language_info": {
   "codemirror_mode": {
    "name": "ipython",
    "version": 3
   },
   "file_extension": ".py",
   "mimetype": "text/x-python",
   "name": "python",
   "nbconvert_exporter": "python",
   "pygments_lexer": "ipython3",
   "version": "3.8.11"
  }
 },
 "nbformat": 4,
 "nbformat_minor": 5
}
