{
    "cells": [
        {
            "cell_type": "code",
            "execution_count": 666,
            "metadata": {},
            "outputs": [],
            "source": [
                "import random\n",
                "\n",
                "доданок_0 = random.randint(1, 50)\n",
                "доданок_1 = random.randint(1, 50)\n",
                "правильна_відповідь = доданок_0 + доданок_1\n",
                "питання_для_користувача = str(доданок_0) + ' + ' + str(доданок_1) + ' = '\n",
                "відповідь_користувача = int(input(питання_для_користувача))\n",
                "print('Ваша відповідь: ' + str(відповідь_користувача) + ', правильна відповідь: ' + str(правильна_відповідь))"
            ]
        }
    ],
    "metadata": {
        "kernelspec": {
            "display_name": "Python 3",
            "language": "python",
            "name": "python3"
        },
        "language_info": {
            "codemirror_mode": {
                "name": "ipython",
                "version": 3
            },
            "file_extension": ".py",
            "mimetype": "text/x-python",
            "name": "python",
            "nbconvert_exporter": "python",
            "pygments_lexer": "ipython3",
            "version": "3.8.11"
        }
    },
    "nbformat": 4,
    "nbformat_minor": 5
}