{
    "cells": [
        {
            "cell_type": "code",
            "execution_count": 666,
            "metadata": {},
            "outputs": [],
            "source": [
                "import time\n",
                "\n",
                "СЕКУНД_У_ХВИЛИНІ = 60\n",
                "ХВИЛИН_У_ГОДИНІ = 60\n",
                "ГОДИН_У_ДОБІ = 24\n",
                "\n",
                "зміщення_часового_поясу = int(input('Введіть зміщення часового поясу у годинах: '))\n",
                "усього_хвилин = int(time.time()) // СЕКУНД_У_ХВИЛИНІ\n",
                "\n",
                "поточні_хвилини = усього_хвилин % ХВИЛИН_У_ГОДИНІ\n",
                "усього_годин = усього_хвилин // ХВИЛИН_У_ГОДИНІ\n",
                "усього_годин += зміщення_часового_поясу\n",
                "почні_години = усього_годин % ГОДИН_У_ДОБІ\n",
                "\n",
                "print(str(почні_години) + ' годин, ' + str(поточні_хвилини) + ' хвилин')"
            ]
        }
    ],
    "metadata": {
        "kernelspec": {
            "display_name": "Python 3",
            "language": "python",
            "name": "python3"
        },
        "language_info": {
            "codemirror_mode": {
                "name": "ipython",
                "version": 3
            },
            "file_extension": ".py",
            "mimetype": "text/x-python",
            "name": "python",
            "nbconvert_exporter": "python",
            "pygments_lexer": "ipython3",
            "version": "3.8.11"
        }
    },
    "nbformat": 4,
    "nbformat_minor": 5
}