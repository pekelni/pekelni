{
    "cells": [
        {
            "cell_type": "code",
            "execution_count": 666,
            "metadata": {},
            "outputs": [],
            "source": [
                "число = int(input('Введіть число: '))\n",
                "сума_цифр = 0\n",
                "\n",
                "цифра_0 = число % 10\n",
                "сума_цифр += цифра_0\n",
                "print('Перша цифра: ' + str(сума_цифр))\n",
                "\n",
                "число //= 10\n",
                "цифра_1 = число % 10\n",
                "сума_цифр += цифра_1\n",
                "print('Сума перших 2 цифр: ' + str(сума_цифр))\n",
                "\n",
                "число //= 10\n",
                "цифра_2 = число % 10\n",
                "сума_цифр += цифра_2\n",
                "print('Сума перших 3 цифр: ' + str(сума_цифр))\n",
                "\n",
                "число //= 10\n",
                "цифра_3 = число % 10\n",
                "сума_цифр += цифра_3\n",
                "print('Сума перших 4 цифр (фінальна): ' + str(сума_цифр))"
            ]
        }
    ],
    "metadata": {
        "kernelspec": {
            "display_name": "Python 3",
            "language": "python",
            "name": "python3"
        },
        "language_info": {
            "codemirror_mode": {
                "name": "ipython",
                "version": 3
            },
            "file_extension": ".py",
            "mimetype": "text/x-python",
            "name": "python",
            "nbconvert_exporter": "python",
            "pygments_lexer": "ipython3",
            "version": "3.8.11"
        }
    },
    "nbformat": 4,
    "nbformat_minor": 5
}