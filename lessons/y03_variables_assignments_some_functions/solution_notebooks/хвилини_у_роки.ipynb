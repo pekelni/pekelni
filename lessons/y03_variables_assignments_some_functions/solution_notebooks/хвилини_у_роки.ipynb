{
    "cells": [
        {
            "cell_type": "code",
            "execution_count": 666,
            "metadata": {},
            "outputs": [],
            "source": [
                "ДНІВ_У_РОЦІ = 365\n",
                "ГОДИН_У_ДНІ = 24\n",
                "ХВИЛИН_У_ГОДИНІ = 60\n",
                "ХВИЛИН_У_РОЦІ = ХВИЛИН_У_ГОДИНІ * ГОДИН_У_ДНІ * ДНІВ_У_РОЦІ\n",
                "\n",
                "хвилини = float(input('Введіть кількість хвилин: '))\n",
                "роки = хвилини / ХВИЛИН_У_РОЦІ\n",
                "print(str(хвилини) + ' хвилин це приблизно ' + str(round(роки, 3)) + ' років.')"
            ]
        }
    ],
    "metadata": {
        "kernelspec": {
            "display_name": "Python 3",
            "language": "python",
            "name": "python3"
        },
        "language_info": {
            "codemirror_mode": {
                "name": "ipython",
                "version": 3
            },
            "file_extension": ".py",
            "mimetype": "text/x-python",
            "name": "python",
            "nbconvert_exporter": "python",
            "pygments_lexer": "ipython3",
            "version": "3.8.11"
        }
    },
    "nbformat": 4,
    "nbformat_minor": 5
}