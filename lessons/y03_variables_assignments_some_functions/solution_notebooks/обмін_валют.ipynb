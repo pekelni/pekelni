{
    "cells": [
        {
            "cell_type": "code",
            "execution_count": 666,
            "metadata": {},
            "outputs": [],
            "source": [
                "import random\n",
                "\n",
                "КУРС_ДОЛАРА = 27\n",
                "КУРС_ЄВРО = 33\n",
                "КУРС_БІТКОЇНА = 895_000\n",
                "\n",
                "гривні = float(input('Введіть кількість гривень для конвертації: '))\n",
                "долари = гривні / КУРС_ДОЛАРА\n",
                "print('Долари: ' + str(round(долари, 2)))\n",
                "\n",
                "євро = гривні / КУРС_ЄВРО\n",
                "print('Євро: ' + str(round(євро, 2)))\n",
                "\n",
                "множник_волатильності = random.randint(33, 300) / 100\n",
                "волатильний_курс_біткоїна = гривні / (множник_волатильності * КУРС_БІТКОЇНА)\n",
                "print('Біткоїни: ' + str(round(волатильний_курс_біткоїна, 6)))"
            ]
        }
    ],
    "metadata": {
        "kernelspec": {
            "display_name": "Python 3",
            "language": "python",
            "name": "python3"
        },
        "language_info": {
            "codemirror_mode": {
                "name": "ipython",
                "version": 3
            },
            "file_extension": ".py",
            "mimetype": "text/x-python",
            "name": "python",
            "nbconvert_exporter": "python",
            "pygments_lexer": "ipython3",
            "version": "3.8.11"
        }
    },
    "nbformat": 4,
    "nbformat_minor": 5
}