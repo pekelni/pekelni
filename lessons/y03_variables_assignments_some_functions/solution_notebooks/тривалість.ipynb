{
    "cells": [
        {
            "cell_type": "code",
            "execution_count": 666,
            "metadata": {},
            "outputs": [],
            "source": [
                "import time\n",
                "\n",
                "число = 777_777\n",
                "початковий_час = time.time()\n",
                "результат_розрахунку = число ** число\n",
                "тривалість = time.time() - початковий_час\n",
                "приклад_як_рядок = str(число) + ' ** ' + str(число)\n",
                "print('Розрахунок (' + приклад_як_рядок + ') зайняв ' + str(round(тривалість, 3)) + ' секунд')"
            ]
        }
    ],
    "metadata": {
        "kernelspec": {
            "display_name": "Python 3",
            "language": "python",
            "name": "python3"
        },
        "language_info": {
            "codemirror_mode": {
                "name": "ipython",
                "version": 3
            },
            "file_extension": ".py",
            "mimetype": "text/x-python",
            "name": "python",
            "nbconvert_exporter": "python",
            "pygments_lexer": "ipython3",
            "version": "3.8.11"
        }
    },
    "nbformat": 4,
    "nbformat_minor": 5
}