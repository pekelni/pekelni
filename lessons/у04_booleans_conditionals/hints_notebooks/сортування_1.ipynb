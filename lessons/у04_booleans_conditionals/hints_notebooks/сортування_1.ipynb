{
 "cells": [
  {
   "cell_type": "markdown",
   "id": "247790da",
   "metadata": {},
   "source": [
    "У цій задачі корисно використати мульти присвоєння, яке вам допоможе зручно поміняти місцями 2 числа якщо вони не знаходяться у порядку зростання. Якщо ви забули що таке мульти присвоєння:"
   ]
  },
  {
   "cell_type": "code",
   "execution_count": 1,
   "id": "1d5cb84d",
   "metadata": {},
   "outputs": [
    {
     "name": "stdout",
     "output_type": "stream",
     "text": [
      "1 3\n",
      "3 1\n"
     ]
    }
   ],
   "source": [
    "a, b = 1, 3  # мультиприсвоєння\n",
    "print(a, b)\n",
    "a, b = b, a  # мультиприсвоєння щоб поміняти місцями значення\n",
    "print(a, b)"
   ]
  }
 ],
 "metadata": {
  "kernelspec": {
   "display_name": "Python 3",
   "language": "python",
   "name": "python3"
  },
  "language_info": {
   "codemirror_mode": {
    "name": "ipython",
    "version": 3
   },
   "file_extension": ".py",
   "mimetype": "text/x-python",
   "name": "python",
   "nbconvert_exporter": "python",
   "pygments_lexer": "ipython3",
   "version": "3.8.11"
  }
 },
 "nbformat": 4,
 "nbformat_minor": 5
}
