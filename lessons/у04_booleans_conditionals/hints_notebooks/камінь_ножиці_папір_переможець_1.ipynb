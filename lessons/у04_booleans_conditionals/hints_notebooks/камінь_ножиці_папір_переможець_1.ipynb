{
 "cells": [
  {
   "cell_type": "markdown",
   "id": "031718f4",
   "metadata": {},
   "source": [
    "У цій задачі найпростіше перебрати усі можливі варіанти і таким чином визначити переможця. Пізніше (коли дойдемо до списків) ми зможемо вирішити цю задачу більш ефективно."
   ]
  }
 ],
 "metadata": {
  "kernelspec": {
   "display_name": "Python 3",
   "language": "python",
   "name": "python3"
  },
  "language_info": {
   "codemirror_mode": {
    "name": "ipython",
    "version": 3
   },
   "file_extension": ".py",
   "mimetype": "text/x-python",
   "name": "python",
   "nbconvert_exporter": "python",
   "pygments_lexer": "ipython3",
   "version": "3.8.11"
  }
 },
 "nbformat": 4,
 "nbformat_minor": 5
}
