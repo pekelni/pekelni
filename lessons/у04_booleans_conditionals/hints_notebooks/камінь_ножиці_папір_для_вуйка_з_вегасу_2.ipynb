{
 "cells": [
  {
   "cell_type": "markdown",
   "id": "ef313874",
   "metadata": {},
   "source": [
    "Тут я приводжу шаблон програми, що написана неповністю. Спробуйти написати відповідний код у місцях позначених компентарями."
   ]
  },
  {
   "cell_type": "code",
   "execution_count": null,
   "id": "47c6638d",
   "metadata": {},
   "outputs": [],
   "source": [
    "import random\n",
    "\n",
    "КАМІНЬ, НОЖИЦІ, ПАПІР = 3, 2, 1\n",
    "людина = int(input('Введіть камінь (3), ножиці (2) або папір (1): '))\n",
    "\n",
    "ймовірність = random.random()\n",
    "if ймовірність < 0.60:\n",
    "    переможець = 'машини'\n",
    "    # додайте if-else логіку щоб визначити що обрали машини щоб машиии перемогли\n",
    "elif ймовірність < 0.85:\n",
    "    переможець = 'ніхто'\n",
    "    # додайте логіку щоб визначити що обрали машини щоб була нічия\n",
    "else:\n",
    "    переможець = 'людина'\n",
    "    # додайте if-else логіку щоб визначити що обрали машини щоб машини програли\n",
    "\n",
    "# тут має бути логіка виводу на екран"
   ]
  }
 ],
 "metadata": {
  "kernelspec": {
   "display_name": "Python 3",
   "language": "python",
   "name": "python3"
  },
  "language_info": {
   "codemirror_mode": {
    "name": "ipython",
    "version": 3
   },
   "file_extension": ".py",
   "mimetype": "text/x-python",
   "name": "python",
   "nbconvert_exporter": "python",
   "pygments_lexer": "ipython3",
   "version": "3.8.11"
  }
 },
 "nbformat": 4,
 "nbformat_minor": 5
}
