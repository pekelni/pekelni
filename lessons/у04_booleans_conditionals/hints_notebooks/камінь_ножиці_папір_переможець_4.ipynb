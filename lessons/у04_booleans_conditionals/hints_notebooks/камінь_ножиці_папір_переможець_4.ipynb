{
 "cells": [
  {
   "cell_type": "markdown",
   "id": "a2d65619",
   "metadata": {},
   "source": [
    "Заповніть прогалини у програмі замість знаків запитання і коментарів."
   ]
  },
  {
   "cell_type": "code",
   "execution_count": null,
   "id": "51fe2c35",
   "metadata": {},
   "outputs": [],
   "source": [
    "КАМІНЬ, НОЖИЦІ, ПАПІР = 3, 2, 1\n",
    "\n",
    "гравець_1 = int(input('Що загадав перший гравець? Введіть камінь (3), ножиці (2) або папір (1): '))\n",
    "гравець_2 = int(input('Що загадав ДРУГИЙ гравець? Введіть камінь (3), ножиці (2) або папір (1): '))\n",
    "\n",
    "if гравець_1 == гравець_2:\n",
    "    переможець = ?\n",
    "elif гравець_1 == КАМІНЬ and гравець_2 == НОЖИЦІ:\n",
    "    переможець = ?\n",
    "elif гравець_1 == НОЖИЦІ and гравець_2 == ПАПІР:\n",
    "    переможець = ?\n",
    "elif гравець_1 == ПАПІР and гравець_2 == ?:\n",
    "    переможець = 'перший гравець'\n",
    "else:\n",
    "    переможець = ?\n",
    "\n",
    "# тут має виводитися результат на екран"
   ]
  }
 ],
 "metadata": {
  "kernelspec": {
   "display_name": "Python 3",
   "language": "python",
   "name": "python3"
  },
  "language_info": {
   "codemirror_mode": {
    "name": "ipython",
    "version": 3
   },
   "file_extension": ".py",
   "mimetype": "text/x-python",
   "name": "python",
   "nbconvert_exporter": "python",
   "pygments_lexer": "ipython3",
   "version": "3.8.11"
  }
 },
 "nbformat": 4,
 "nbformat_minor": 5
}
