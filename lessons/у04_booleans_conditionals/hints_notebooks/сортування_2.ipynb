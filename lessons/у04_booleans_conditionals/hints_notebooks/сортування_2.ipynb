{
 "cells": [
  {
   "cell_type": "markdown",
   "id": "f6959e3d",
   "metadata": {},
   "source": [
    "Тут я наведу фрагмент рішення, яке міняє місцями перші 2 числа якщо вони у неправильному порядку.\n",
    "\n",
    "Вам буде необхідно дописати це рішення, щоб програма правильно відпрацьовувала якщо і другі 2 числа знаходяться у неправильному порядку."
   ]
  },
  {
   "cell_type": "code",
   "execution_count": null,
   "id": "124224e4",
   "metadata": {},
   "outputs": [],
   "source": [
    "n0 = int(input('Введіть перше число: '))\n",
    "n1 = int(input('Введіть друге число: '))\n",
    "n2 = int(input('Введіть третє число: '))\n",
    "\n",
    "if n0 > n1:\n",
    "    n0, n1 = n1, n0\n",
    "\n",
    "# продовжіть рішення тут"
   ]
  }
 ],
 "metadata": {
  "kernelspec": {
   "display_name": "Python 3",
   "language": "python",
   "name": "python3"
  },
  "language_info": {
   "codemirror_mode": {
    "name": "ipython",
    "version": 3
   },
   "file_extension": ".py",
   "mimetype": "text/x-python",
   "name": "python",
   "nbconvert_exporter": "python",
   "pygments_lexer": "ipython3",
   "version": "3.8.11"
  }
 },
 "nbformat": 4,
 "nbformat_minor": 5
}
