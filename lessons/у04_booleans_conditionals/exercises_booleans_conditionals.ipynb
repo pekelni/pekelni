{
 "cells": [
  {
   "cell_type": "markdown",
   "id": "ce6a3592",
   "metadata": {},
   "source": [
    "<img src=\"../logo.png\" style=\"float: left;\">"
   ]
  },
  {
   "cell_type": "markdown",
   "id": "f1f78cbb",
   "metadata": {},
   "source": [
    "# 4. Задачі\n",
    "## Необхідна теорія #3: змінні, присвоєння, деякі функції\n",
    "1) Змінні, присвоєння, додавання (конкатенація) рядків, використання чисел і рядків.  \n",
    "2) Арифметичні операції (`*`, `/`, `//`, `%`, `+`, `-`, `**`), вкладені виклики функцій.  \n",
    "3) Модифікуюче присвоєння: `+=`, `-=`, `*=`, `/=`, `//=`, `%=`         \n",
    "4) Використання функцій: `input()`, `print()`, `round()`, `import time`, `time.time()`, `len()`, `import random`, `random.randint()`       \n",
    "5) Конвертації - `str()`, `float()`, `int()`, поверхневе розуміння відповідних типів.  \n",
    "\n",
    "## Необхідна теорія #4: логічний тип, умовні переходи\n",
    "6) Деякі методи рядків: `strip()`, `capitalize()`, `isdigit()`  \n",
    "7) `if`, `elif`, `else`, `and`, `or`, вкладені `if`, `elif`, `else`, блоки коду.  \n",
    "9) Оператори порівняння: `>`, `>=`, `<`, `<=`, `==`, `!=`  \n",
    "10) Мультиприсвоєння типу `а, б = 1, 2`  \n",
    "11) правила гри камінь, ножиці, папір  \n",
    "12) `random.random()`  \n",
    "13) `True`, `False`, `bool`, `not`\n",
    "\n",
    "\n",
    "## 1. Привітання (покращене)\n",
    "Напишіть програму, яка запитує у користувача як його звуть і друкує персоналізоване привітання. Якщо користувач нічого не ввів, виведіть \"Слава Україні!\". Якщо користувач ввів свої ім'я з малої літери, виправте те."
   ]
  },
  {
   "cell_type": "code",
   "execution_count": 1,
   "id": "436499a6",
   "metadata": {},
   "outputs": [
    {
     "name": "stdout",
     "output_type": "stream",
     "text": [
      "Введіть ім'я:               гендальф\n",
      "Привіт, Гендальф!\n"
     ]
    }
   ],
   "source": [
    "%run solutions/привітання_покращене.py"
   ]
  },
  {
   "cell_type": "code",
   "execution_count": 5,
   "id": "583a059b",
   "metadata": {},
   "outputs": [
    {
     "name": "stdout",
     "output_type": "stream",
     "text": [
      "Введіть ім'я:       \n",
      "Слава Україні!\n"
     ]
    }
   ],
   "source": [
    "%run solutions/привітання_покращене.py"
   ]
  },
  {
   "cell_type": "code",
   "execution_count": 5,
   "id": "4afeb389",
   "metadata": {},
   "outputs": [
    {
     "name": "stdout",
     "output_type": "stream",
     "text": [
      "Введіть ім'я: саурон\n",
      "Привіт, Саурон!\n"
     ]
    }
   ],
   "source": [
    "%run solutions/привітання_покращене.py"
   ]
  },
  {
   "cell_type": "markdown",
   "id": "f790c349",
   "metadata": {},
   "source": [
    "[Рішення - попередня версія](../y03_variables_assignments_some_functions/solution_notebooks/привітання.ipynb) (≈2 рядків коду)  \n",
    "[Рішення](solution_notebooks/привітання_покращене.ipynb) (≈6 рядків коду)"
   ]
  },
  {
   "cell_type": "markdown",
   "id": "67c5fa71",
   "metadata": {},
   "source": [
    "## 2. Хвилини у роки (покращено, але не дуже)\n",
    "Напишіть програму яка (приблизно) конвертує введену кількість хвилин у кількість років і днів. Приблизно тому що навіть якщо кількість років буде складати більше 4 ми не рахуватимемо високосні роки.\n",
    "\n",
    "Додайте обробку помилок вводу як буде показано у прикладах. Через спрощену обробку помилок програма перестала розпізнавати числа з крапкою, наукову нотацію та підкреслення у числі. Ці недоліки ми виправимо пізніше коли дойдемо до обробки виключень, а наразі це все одно хороша вправа на `if` - `else` логіку."
   ]
  },
  {
   "cell_type": "code",
   "execution_count": 6,
   "id": "605240bb",
   "metadata": {},
   "outputs": [
    {
     "name": "stdout",
     "output_type": "stream",
     "text": [
      "Введіть кількість хвилин: ffffff\n",
      "Помилка: неправильне число - ffffff\n"
     ]
    }
   ],
   "source": [
    "%run solutions/хвилини_у_роки_покращено.py"
   ]
  },
  {
   "cell_type": "code",
   "execution_count": 7,
   "id": "d05c3702",
   "metadata": {},
   "outputs": [
    {
     "name": "stdout",
     "output_type": "stream",
     "text": [
      "Введіть кількість хвилин:   \n",
      "Помилка: ви не ввели число\n"
     ]
    }
   ],
   "source": [
    "%run solutions/хвилини_у_роки_покращено.py"
   ]
  },
  {
   "cell_type": "code",
   "execution_count": 8,
   "id": "d3849684",
   "metadata": {},
   "outputs": [
    {
     "name": "stdout",
     "output_type": "stream",
     "text": [
      "Введіть кількість хвилин: 1000000\n",
      "1000000 хвилин це приблизно 1.903 років.\n"
     ]
    }
   ],
   "source": [
    "%run solutions/хвилини_у_роки_покращено.py"
   ]
  },
  {
   "cell_type": "code",
   "execution_count": 11,
   "id": "1ec161d1",
   "metadata": {},
   "outputs": [
    {
     "name": "stdout",
     "output_type": "stream",
     "text": [
      "Введіть кількість хвилин: 1_000_000\n",
      "Помилка: неправильне число - 1_000_000\n"
     ]
    }
   ],
   "source": [
    "%run solutions/хвилини_у_роки_покращено.py"
   ]
  },
  {
   "cell_type": "code",
   "execution_count": 9,
   "id": "4686ba31",
   "metadata": {},
   "outputs": [
    {
     "name": "stdout",
     "output_type": "stream",
     "text": [
      "Введіть кількість хвилин: 1e9\n",
      "Помилка: неправильне число - 1e9\n"
     ]
    }
   ],
   "source": [
    "%run solutions/хвилини_у_роки_покращено.py"
   ]
  },
  {
   "cell_type": "code",
   "execution_count": 10,
   "id": "f1433817",
   "metadata": {},
   "outputs": [
    {
     "name": "stdout",
     "output_type": "stream",
     "text": [
      "Введіть кількість хвилин: 12345.6789\n",
      "Помилка: неправильне число - 12345.6789\n"
     ]
    }
   ],
   "source": [
    "%run solutions/хвилини_у_роки_покращено.py"
   ]
  },
  {
   "cell_type": "markdown",
   "id": "b007e410",
   "metadata": {},
   "source": [
    "[Рішення - попередня версія](../y03_variables_assignments_some_functions/solution_notebooks/хвилини_у_роки.ipynb) (≈7 рядків коду)   \n",
    "[Рішення](solution_notebooks/хвилини_у_роки_покращено.ipynb) (≈14 рядків коду) "
   ]
  },
  {
   "cell_type": "markdown",
   "id": "5b51bfc9",
   "metadata": {},
   "source": [
    "## 3. Периметр, площа (покращено)\n",
    "Напишіть програму що приймає на вхід ширину і довжину прямокутника, обчислює і виводить на екран площу і периметр цього прямокутника. Пам'ятаєте, що у версії яку ми вже написали програма могла прийняти від'ємну довжину чи ширину і порахувати від'ємну площу? NO MORE! Тепер у вас є можливість це виправити.\n",
    "\n",
    "У цій версії ми НЕ будемо обробляти помилки вводу коли замість числа було введено букви."
   ]
  },
  {
   "cell_type": "code",
   "execution_count": 12,
   "id": "a1216d80",
   "metadata": {},
   "outputs": [
    {
     "name": "stdout",
     "output_type": "stream",
     "text": [
      "Введіть ширину: -1\n",
      "Введіть довжину: 2\n",
      "Помилка: ширина від'ємна\n"
     ]
    }
   ],
   "source": [
    "%run solutions/периметр_і_площа_покращено.py"
   ]
  },
  {
   "cell_type": "code",
   "execution_count": 13,
   "id": "b2d4a6e3",
   "metadata": {},
   "outputs": [
    {
     "name": "stdout",
     "output_type": "stream",
     "text": [
      "Введіть ширину: -1\n",
      "Введіть довжину: -1\n",
      "Помилка: і ширина, і довжина від'ємні\n"
     ]
    }
   ],
   "source": [
    "%run solutions/периметр_і_площа_покращено.py"
   ]
  },
  {
   "cell_type": "code",
   "execution_count": 14,
   "id": "8cdfdfd4",
   "metadata": {},
   "outputs": [
    {
     "name": "stdout",
     "output_type": "stream",
     "text": [
      "Введіть ширину: 28\n",
      "Введіть довжину: -10\n",
      "Помилка: довжина від'ємна\n"
     ]
    }
   ],
   "source": [
    "%run solutions/периметр_і_площа_покращено.py"
   ]
  },
  {
   "cell_type": "code",
   "execution_count": 15,
   "id": "ead7cee7",
   "metadata": {},
   "outputs": [
    {
     "name": "stdout",
     "output_type": "stream",
     "text": [
      "Введіть ширину: 66.77\n",
      "Введіть довжину: 1234\n",
      "Периметр: 9851.54\n",
      "Площа: 324435.43\n"
     ]
    }
   ],
   "source": [
    "%run solutions/периметр_і_площа_покращено.py"
   ]
  },
  {
   "cell_type": "markdown",
   "id": "14d8e796",
   "metadata": {},
   "source": [
    "[Рішення - попередня версія](../y03_variables_assignments_some_functions/solution_notebooks/периметр_і_площа.ipynb) (≈6 рядків коду)    \n",
    "[Рішення](solution_notebooks/периметр_і_площа_покращено.ipynb) (≈13 рядків коду)"
   ]
  },
  {
   "cell_type": "markdown",
   "id": "668eed35",
   "metadata": {},
   "source": [
    "## 4. Швидкість набору (покращено)\n",
    "Напишіть програму, яка перевірятиме як швидко користувач набирає текст. Якщо користувач ввів замало тексту - виведіть повідомлення \"Ви ввели замало символів для надійної оцінки швидкості\".\n",
    "\n",
    "Пам'ятаєте текст, який ми використовували як приклад? \"А завзяття, праця щира свого ще докаже\"?\n",
    "\n",
    "Саме довжину цього тексту необхідно використати як нижній ліміт достатньої кількості символів."
   ]
  },
  {
   "cell_type": "code",
   "execution_count": 4,
   "id": "029562c8",
   "metadata": {},
   "outputs": [
    {
     "name": "stdout",
     "output_type": "stream",
     "text": [
      "Приклад тексту: \"А завзяття, праця щира свого ще докаже\"\n",
      "Найменша допустима довжина тексту: 38 символів\n",
      "Коли будете готові, натисніть Enter, введіть текст, і тоді знов натисніть Enter\n",
      "ПОЧИНАЙТЕ: іваіфв\n",
      "Ви ввели замало символів для надійної оцінки швидкості\n"
     ]
    }
   ],
   "source": [
    "%run solutions/швидкість_набору_покращено.py"
   ]
  },
  {
   "cell_type": "code",
   "execution_count": 17,
   "id": "8003d81c",
   "metadata": {},
   "outputs": [
    {
     "name": "stdout",
     "output_type": "stream",
     "text": [
      "Приклад тексту: \"А завзяття, праця щира свого ще докаже\"\n",
      "Найменша допустима довжина тексту: 38 символів\n",
      "Коли будете готові, натисніть Enter, введіть текст, і тоді знов натисніть Enter\n",
      "ПОЧИНАЙТЕ: А завзяття, праця щира свого ще до\n",
      "Ви ввели замало символів для надійної оцінки швидкості\n"
     ]
    }
   ],
   "source": [
    "%run solutions/швидкість_набору_покращено.py"
   ]
  },
  {
   "cell_type": "code",
   "execution_count": 19,
   "id": "6ac60de2",
   "metadata": {},
   "outputs": [
    {
     "name": "stdout",
     "output_type": "stream",
     "text": [
      "Приклад тексту: \"А завзяття, праця щира свого ще докаже\"\n",
      "Найменша допустима довжина тексту: 38 символів\n",
      "Коли будете готові, натисніть Enter, введіть текст, і тоді знов натисніть Enter\n",
      "ПОЧИНАЙТЕ: А завзяття, праця щира свого ще докаже\n",
      "Швидкість вашого набору складає 2957.6 знаків на хвилину\n"
     ]
    }
   ],
   "source": [
    "%run solutions/швидкість_набору_покращено.py"
   ]
  },
  {
   "cell_type": "markdown",
   "id": "80fdf313",
   "metadata": {},
   "source": [
    "[Рішення - попередня версія](../y03_variables_assignments_some_functions/solution_notebooks/швидкість_набору.ipynb) (≈9 рядків коду)    \n",
    "[Рішення](solution_notebooks/швидкість_набору_покращено.ipynb) (≈14 рядків коду) "
   ]
  },
  {
   "cell_type": "markdown",
   "id": "b60d0a4e",
   "metadata": {},
   "source": [
    "## 5. Чайові (покращено)\n",
    "Напишіть програму яка зчитує суму і відсоток для чайових, а виводить повну суму яку необхідно заплатити.\n",
    "\n",
    "Якщо користувач вводить від'ємну суму чи чайові, виведіть помилку: Неправильно введені дані"
   ]
  },
  {
   "cell_type": "code",
   "execution_count": 20,
   "id": "45cc1009",
   "metadata": {},
   "outputs": [
    {
     "name": "stdout",
     "output_type": "stream",
     "text": [
      "Введіть суму: 100\n",
      "Введіть відсоток (від 0 до 100): -1\n",
      "Неправильно введені дані\n"
     ]
    }
   ],
   "source": [
    "%run solutions/чайові_покращено.py"
   ]
  },
  {
   "cell_type": "code",
   "execution_count": 21,
   "id": "0ba03469",
   "metadata": {},
   "outputs": [
    {
     "name": "stdout",
     "output_type": "stream",
     "text": [
      "Введіть суму: -100\n",
      "Введіть відсоток (від 0 до 100): 1\n",
      "Неправильно введені дані\n"
     ]
    }
   ],
   "source": [
    "%run solutions/чайові_покращено.py"
   ]
  },
  {
   "cell_type": "code",
   "execution_count": 23,
   "id": "656ef1ed",
   "metadata": {},
   "outputs": [
    {
     "name": "stdout",
     "output_type": "stream",
     "text": [
      "Введіть суму: -100\n",
      "Введіть відсоток (від 0 до 100): -1\n",
      "Неправильно введені дані\n"
     ]
    }
   ],
   "source": [
    "%run solutions/чайові_покращено.py"
   ]
  },
  {
   "cell_type": "code",
   "execution_count": 24,
   "id": "310669eb",
   "metadata": {},
   "outputs": [
    {
     "name": "stdout",
     "output_type": "stream",
     "text": [
      "Введіть суму: 200\n",
      "Введіть відсоток (від 0 до 100): 50\n",
      "Загальна сума разом із чайовими: 300.0\n"
     ]
    }
   ],
   "source": [
    "%run solutions/чайові_покращено.py"
   ]
  },
  {
   "cell_type": "markdown",
   "id": "aae65aca",
   "metadata": {},
   "source": [
    "[Рішення - попередня версія](../y03_variables_assignments_some_functions/solution_notebooks/чайові.ipynb) (≈5 рядків коду)    \n",
    "[Рішення](solution_notebooks/чайові_покращено.ipynb) (≈8 рядків коду)"
   ]
  },
  {
   "cell_type": "markdown",
   "id": "46c8e97c",
   "metadata": {},
   "source": [
    "## 6. Одноразовий тренер арифметики\n",
    "Напишіть одноразовий тренер арифметики, який генерує арифметичний приклад на додавання випадковим чином, питає у користувача відповідь, виводить \"Перемога\" якщо користувач правильно вирішив приклад і \"Зрада, правильна відповідь була Х\" якщо неправильно. Але якщо користувач помилився більше ніж у 50 разів, виведіть альтернативне повідомлення про помилку: \"Щось ви вкрай помилились. Мабуть ви ще вважаєте що усім українським вчителям можна виплачувати зарплатню у $4000\".\n",
    "\n",
    "Генеруйте доданки випадковим чином від 1 до 50."
   ]
  },
  {
   "cell_type": "code",
   "execution_count": 25,
   "id": "5f12bde8",
   "metadata": {},
   "outputs": [
    {
     "name": "stdout",
     "output_type": "stream",
     "text": [
      "45 + 8 = 53\n",
      "Перемога\n"
     ]
    }
   ],
   "source": [
    "%run solutions/одноразовий_тренер_арифметики.py"
   ]
  },
  {
   "cell_type": "code",
   "execution_count": 26,
   "id": "9895e872",
   "metadata": {},
   "outputs": [
    {
     "name": "stdout",
     "output_type": "stream",
     "text": [
      "20 + 11 = 99\n",
      "Зрада, правильна відповідь була 31\n"
     ]
    }
   ],
   "source": [
    "%run solutions/одноразовий_тренер_арифметики.py"
   ]
  },
  {
   "cell_type": "code",
   "execution_count": 27,
   "id": "5ae2a71c",
   "metadata": {},
   "outputs": [
    {
     "name": "stdout",
     "output_type": "stream",
     "text": [
      "48 + 28 = 100500\n",
      "Щось ви вкрай помилились. Мабуть ви ще вважаєте що усім українським вчителям можна виплачувати зарплатню у $4000\n"
     ]
    }
   ],
   "source": [
    "%run solutions/одноразовий_тренер_арифметики.py"
   ]
  },
  {
   "cell_type": "markdown",
   "id": "e635a12d",
   "metadata": {},
   "source": [
    "[Рішення](solution_notebooks/одноразовий_тренер_арифметики.ipynb) (≈12 рядків коду) "
   ]
  },
  {
   "cell_type": "markdown",
   "id": "8999a9b2",
   "metadata": {},
   "source": [
    "## 7. Часовий пояс (покращено)\n",
    "Напишіть програму яка приймає часову зону і виводить поточний час у цій зоні.\n",
    "\n",
    "Якщо часовий пояс дорівнює 3, виведіть: \"У Львові сонячно, 15 годин 45 хвилин\".  \n",
    "Якщо часовий пояс дорівнює -7, виведіть: \"У Каліфорнії 5 годин 45 хвилин\".  \n",
    "Для інших поясів просто виведіть: \"Час у часовому поясі -10 становить 2 годин 45 хвилин\"."
   ]
  },
  {
   "cell_type": "code",
   "execution_count": 28,
   "id": "abe0c83f",
   "metadata": {},
   "outputs": [
    {
     "name": "stdout",
     "output_type": "stream",
     "text": [
      "Введіть зміщення часового поясу у годинах:  3\n",
      "У Львові сонячно, 22 годин 20 хвилин\n"
     ]
    }
   ],
   "source": [
    "%run solutions/часовий_пояс_покращено.py"
   ]
  },
  {
   "cell_type": "code",
   "execution_count": 29,
   "id": "4b9b7e00",
   "metadata": {},
   "outputs": [
    {
     "name": "stdout",
     "output_type": "stream",
     "text": [
      "Введіть зміщення часового поясу у годинах: -7\n",
      "У Каліфорнії 12 годин 20 хвилин\n"
     ]
    }
   ],
   "source": [
    "%run solutions/часовий_пояс_покращено.py"
   ]
  },
  {
   "cell_type": "code",
   "execution_count": 30,
   "id": "ce3395cf",
   "metadata": {},
   "outputs": [
    {
     "name": "stdout",
     "output_type": "stream",
     "text": [
      "Введіть зміщення часового поясу у годинах: 12\n",
      "Час у часовому поясі 12 становить 7 годин 20 хвилин\n"
     ]
    }
   ],
   "source": [
    "%run solutions/часовий_пояс_покращено.py"
   ]
  },
  {
   "cell_type": "code",
   "execution_count": 31,
   "id": "7d78ea11",
   "metadata": {},
   "outputs": [
    {
     "name": "stdout",
     "output_type": "stream",
     "text": [
      "Введіть зміщення часового поясу у годинах: -100\n",
      "Час у часовому поясі -100 становить 15 годин 20 хвилин\n"
     ]
    }
   ],
   "source": [
    "%run solutions/часовий_пояс_покращено.py"
   ]
  },
  {
   "cell_type": "markdown",
   "id": "583d5a5f",
   "metadata": {},
   "source": [
    "[Рішення - попередня версія](../y03_variables_assignments_some_functions/solution_notebooks/часовий_пояс.ipynb) (≈11 рядків коду)    \n",
    "[Рішення](solution_notebooks/часовий_пояс_покращено.ipynb) (≈17 рядків коду) "
   ]
  },
  {
   "cell_type": "markdown",
   "id": "d2396f18",
   "metadata": {},
   "source": [
    "## 8. FizzBuzz\n",
    "\n",
    "Це досить відома задачка для початківців яка дійсно так і називається.\n",
    "\n",
    "Дайте користувачу ввести число. Якщо воно ділиться на 3, виведіть Fizz, якщо ділиться на 5 виведіть Buzz, якщо і на 3 і на 5 - виведіть FizzBuzz, якщо не ділиться на ці числа - виведіть просто саме число.\n",
    "\n",
    "Ця задача цікава тим, що `if-else` структуру можна зібрати різними способами. Я приводжу 5 різних варіантів рішень, ви спробуйте написати хоча б 3 варіанти рішень, які різняться саме `if-else` структурою (і не просто порядком `if-else`, а самим набором `if-else` і вкладеністю).\n",
    "\n",
    "Після того як імплементуєте кілька своїх варіантів розберіться як працюють усі п'ять наведених варіантів."
   ]
  },
  {
   "cell_type": "code",
   "execution_count": 1,
   "id": "4c0bb657",
   "metadata": {},
   "outputs": [
    {
     "name": "stdout",
     "output_type": "stream",
     "text": [
      "Введіть ціле число: 15\n",
      "Результат: FizzBuzz\n"
     ]
    }
   ],
   "source": [
    "%run solutions/fizzbuzz.py"
   ]
  },
  {
   "cell_type": "code",
   "execution_count": 2,
   "id": "3ae35ee8",
   "metadata": {},
   "outputs": [
    {
     "name": "stdout",
     "output_type": "stream",
     "text": [
      "Введіть ціле число: 35\n",
      "Результат: Buzz\n"
     ]
    }
   ],
   "source": [
    "%run solutions/fizzbuzz.py"
   ]
  },
  {
   "cell_type": "code",
   "execution_count": 3,
   "id": "552dc7cf",
   "metadata": {},
   "outputs": [
    {
     "name": "stdout",
     "output_type": "stream",
     "text": [
      "Введіть ціле число: 33\n",
      "Результат: Fizz\n"
     ]
    }
   ],
   "source": [
    "%run solutions/fizzbuzz.py"
   ]
  },
  {
   "cell_type": "code",
   "execution_count": 4,
   "id": "c66cff5c",
   "metadata": {},
   "outputs": [
    {
     "name": "stdout",
     "output_type": "stream",
     "text": [
      "Введіть ціле число: 100500\n",
      "Результат: FizzBuzz\n"
     ]
    }
   ],
   "source": [
    "%run solutions/fizzbuzz.py"
   ]
  },
  {
   "cell_type": "code",
   "execution_count": 5,
   "id": "2f60d0c4",
   "metadata": {},
   "outputs": [
    {
     "name": "stdout",
     "output_type": "stream",
     "text": [
      "Введіть ціле число: 1234\n",
      "Результат: 1234\n"
     ]
    }
   ],
   "source": [
    "%run solutions/fizzbuzz.py"
   ]
  },
  {
   "cell_type": "markdown",
   "id": "cd6515b5",
   "metadata": {},
   "source": [
    "[Рішення #1](solution_notebooks/fizzbuzz.ipynb) (≈9 рядків коду)  \n",
    "[Рішення #2](solution_notebooks/fizzbuzz_2.ipynb) (≈10 рядків коду)  \n",
    "[Рішення #3](solution_notebooks/fizzbuzz_3.ipynb) (≈11 рядків коду)  \n",
    "[Рішення #4](solution_notebooks/fizzbuzz_4.ipynb) (≈10 рядків коду)  \n",
    "[Рішення #5 (найкоротше)](solution_notebooks/fizzbuzz_5.ipynb) (≈8 рядків коду)  "
   ]
  },
  {
   "cell_type": "markdown",
   "id": "cf6ec328",
   "metadata": {},
   "source": [
    "## 9. Сортування\n",
    "\n",
    "Напишіть програму яка зчитує від користувача 3 числа і сортує їх у порядку зростання і виводить їх у такому порядку на екран."
   ]
  },
  {
   "cell_type": "code",
   "execution_count": 6,
   "id": "df1e6a28",
   "metadata": {},
   "outputs": [
    {
     "name": "stdout",
     "output_type": "stream",
     "text": [
      "Введіть перше число: 1\n",
      "Введіть друге число: 2\n",
      "Введіть третє число: 3\n",
      "1 2 3\n"
     ]
    }
   ],
   "source": [
    "%run solutions/сортування.py"
   ]
  },
  {
   "cell_type": "code",
   "execution_count": 7,
   "id": "7144a42c",
   "metadata": {},
   "outputs": [
    {
     "name": "stdout",
     "output_type": "stream",
     "text": [
      "Введіть перше число: 3\n",
      "Введіть друге число: 2\n",
      "Введіть третє число: 1\n",
      "1 2 3\n"
     ]
    }
   ],
   "source": [
    "%run solutions/сортування.py"
   ]
  },
  {
   "cell_type": "code",
   "execution_count": 8,
   "id": "7c6f7ebd",
   "metadata": {},
   "outputs": [
    {
     "name": "stdout",
     "output_type": "stream",
     "text": [
      "Введіть перше число: 1\n",
      "Введіть друге число: 3\n",
      "Введіть третє число: 2\n",
      "1 2 3\n"
     ]
    }
   ],
   "source": [
    "%run solutions/сортування.py"
   ]
  },
  {
   "cell_type": "code",
   "execution_count": 10,
   "id": "d0fad07e",
   "metadata": {},
   "outputs": [
    {
     "name": "stdout",
     "output_type": "stream",
     "text": [
      "Введіть перше число: 2\n",
      "Введіть друге число: 1\n",
      "Введіть третє число: 3\n",
      "1 2 3\n"
     ]
    }
   ],
   "source": [
    "%run solutions/сортування.py"
   ]
  },
  {
   "cell_type": "code",
   "execution_count": 11,
   "id": "0179bf0a",
   "metadata": {},
   "outputs": [
    {
     "name": "stdout",
     "output_type": "stream",
     "text": [
      "Введіть перше число: 100500\n",
      "Введіть друге число: 1234\n",
      "Введіть третє число: 666\n",
      "666 1234 100500\n"
     ]
    }
   ],
   "source": [
    "%run solutions/сортування.py"
   ]
  },
  {
   "cell_type": "markdown",
   "id": "2b8004ca",
   "metadata": {},
   "source": [
    "[Підказка #1](hints_notebooks/сортування_1.ipynb)  \n",
    "[Підказка #2 - шаблон програми](hints_notebooks/сортування_2.ipynb)  \n",
    "[Рішення](solution_notebooks/сортування.ipynb) (≈10 рядків коду) "
   ]
  },
  {
   "cell_type": "markdown",
   "id": "47e076d6",
   "metadata": {},
   "source": [
    "## 10. Загадує камінь-ножиці-папір\n",
    "Напишіть програму яка випадковим чином загадує камінь-ножиці-папір і просто виводить одне із слів на екран.\n",
    "\n",
    "Рішення цієї спрощеної задачі допоможе нам далі написати повну програму про гру у камінь-ножиці-папір."
   ]
  },
  {
   "cell_type": "code",
   "execution_count": 1,
   "id": "c29862ef",
   "metadata": {},
   "outputs": [
    {
     "name": "stdout",
     "output_type": "stream",
     "text": [
      "Випадковим чином було обрано: камінь\n"
     ]
    }
   ],
   "source": [
    "%run solutions/загадує_камінь_ножиці_папір.py"
   ]
  },
  {
   "cell_type": "code",
   "execution_count": 3,
   "id": "ae9ea9ec",
   "metadata": {},
   "outputs": [
    {
     "name": "stdout",
     "output_type": "stream",
     "text": [
      "Випадковим чином було обрано: ножиці\n"
     ]
    }
   ],
   "source": [
    "%run solutions/загадує_камінь_ножиці_папір.py"
   ]
  },
  {
   "cell_type": "code",
   "execution_count": 4,
   "id": "ab409f45",
   "metadata": {},
   "outputs": [
    {
     "name": "stdout",
     "output_type": "stream",
     "text": [
      "Випадковим чином було обрано: камінь\n"
     ]
    }
   ],
   "source": [
    "%run solutions/загадує_камінь_ножиці_папір.py"
   ]
  },
  {
   "cell_type": "code",
   "execution_count": 5,
   "id": "5e6a4ae5",
   "metadata": {},
   "outputs": [
    {
     "name": "stdout",
     "output_type": "stream",
     "text": [
      "Випадковим чином було обрано: папір\n"
     ]
    }
   ],
   "source": [
    "%run solutions/загадує_камінь_ножиці_папір.py"
   ]
  },
  {
   "cell_type": "code",
   "execution_count": 6,
   "id": "af98090d",
   "metadata": {},
   "outputs": [
    {
     "name": "stdout",
     "output_type": "stream",
     "text": [
      "Випадковим чином було обрано: ножиці\n"
     ]
    }
   ],
   "source": [
    "%run solutions/загадує_камінь_ножиці_папір.py"
   ]
  },
  {
   "cell_type": "markdown",
   "id": "d4fa016a",
   "metadata": {},
   "source": [
    "[Підказка](hints_notebooks/загадує_камінь_ножиці_папір_1.ipynb)  \n",
    "[Рішення](solution_notebooks/загадує_камінь_ножиці_папір.ipynb) (≈10 рядків коду) "
   ]
  },
  {
   "cell_type": "markdown",
   "id": "4a683691",
   "metadata": {},
   "source": [
    "## 11. Камінь-ножиці-папір: хто переможець?\n",
    "Напишіть програму яка приймає на вхід те, що загадали кожен із двох гравців, і визначає переможця."
   ]
  },
  {
   "cell_type": "code",
   "execution_count": 7,
   "id": "0efd98eb",
   "metadata": {},
   "outputs": [
    {
     "name": "stdout",
     "output_type": "stream",
     "text": [
      "Що загадав перший гравець? Введіть камінь (3), ножиці (2) або папір (1): 3\n",
      "Що загадав ДРУГИЙ гравець? Введіть камінь (3), ножиці (2) або папір (1): 3\n",
      "Нічия\n"
     ]
    }
   ],
   "source": [
    "%run solutions/камінь_ножиці_папір_переможець.py"
   ]
  },
  {
   "cell_type": "code",
   "execution_count": 8,
   "id": "9b1da3ab",
   "metadata": {},
   "outputs": [
    {
     "name": "stdout",
     "output_type": "stream",
     "text": [
      "Що загадав перший гравець? Введіть камінь (3), ножиці (2) або папір (1): 1\n",
      "Що загадав ДРУГИЙ гравець? Введіть камінь (3), ножиці (2) або папір (1): 2\n",
      "Переміг другий гравець\n"
     ]
    }
   ],
   "source": [
    "%run solutions/камінь_ножиці_папір_переможець.py"
   ]
  },
  {
   "cell_type": "code",
   "execution_count": 10,
   "id": "71737b2d",
   "metadata": {},
   "outputs": [
    {
     "name": "stdout",
     "output_type": "stream",
     "text": [
      "Що загадав перший гравець? Введіть камінь (3), ножиці (2) або папір (1): 2\n",
      "Що загадав ДРУГИЙ гравець? Введіть камінь (3), ножиці (2) або папір (1): 1\n",
      "Переміг перший гравець\n"
     ]
    }
   ],
   "source": [
    "%run solutions/камінь_ножиці_папір_переможець.py"
   ]
  },
  {
   "cell_type": "markdown",
   "id": "4ecaeedd",
   "metadata": {},
   "source": [
    "Поки ще не будемо робити жодної обробки помилок, тому можемо отримати отаку поведінку:"
   ]
  },
  {
   "cell_type": "code",
   "execution_count": 11,
   "id": "3abaf9c4",
   "metadata": {},
   "outputs": [
    {
     "name": "stdout",
     "output_type": "stream",
     "text": [
      "Що загадав перший гравець? Введіть камінь (3), ножиці (2) або папір (1): 666\n",
      "Що загадав ДРУГИЙ гравець? Введіть камінь (3), ножиці (2) або папір (1): 1\n",
      "Переміг другий гравець\n"
     ]
    }
   ],
   "source": [
    "%run solutions/камінь_ножиці_папір_переможець.py"
   ]
  },
  {
   "cell_type": "markdown",
   "id": "3ed8f215",
   "metadata": {},
   "source": [
    "[Підказка #1](hints_notebooks/камінь_ножиці_папір_переможець_1.ipynb)  \n",
    "[Підказка #2](hints_notebooks/камінь_ножиці_папір_переможець_2.ipynb) (≈17 рядків коду)   \n",
    "[Підказка #3 - шаблон програми](hints_notebooks/камінь_ножиці_папір_переможець_3.ipynb)  \n",
    "[Підказка #4 - шаблон програми](hints_notebooks/камінь_ножиці_папір_переможець_4.ipynb)  \n",
    "[Рішення](solution_notebooks/камінь_ножиці_папір_переможець.ipynb) (≈17 рядків коду)   \n",
    "[Рішення (складніше)](solution_notebooks/камінь_ножиці_папір_переможець_2.ipynb) (≈17 рядків коду)   "
   ]
  },
  {
   "cell_type": "markdown",
   "id": "97aa3a51",
   "metadata": {},
   "source": [
    "## 12. Камінь-ножиці-папір\n",
    "Напишіть програму яка грає з користувачем у камінь-ножиці-папір: програма “загадує” одне з трьох випадковим чином, користувач вводить одне з трьох і далі визначається переможець."
   ]
  },
  {
   "cell_type": "code",
   "execution_count": 12,
   "id": "e4cf52ba",
   "metadata": {},
   "outputs": [
    {
     "name": "stdout",
     "output_type": "stream",
     "text": [
      "Введіть камінь (3), ножиці (2) або папір (1): 3\n",
      "Машини зробили ставку на камінь\n",
      "Сили людей и машин виявилися рівними цього разу.\n"
     ]
    }
   ],
   "source": [
    "%run solutions/камінь_ножиці_папір.py"
   ]
  },
  {
   "cell_type": "code",
   "execution_count": 13,
   "id": "3ba1439a",
   "metadata": {},
   "outputs": [
    {
     "name": "stdout",
     "output_type": "stream",
     "text": [
      "Введіть камінь (3), ножиці (2) або папір (1): 1\n",
      "Машини зробили ставку на камінь\n",
      "Ви перемогли, підступні плани машин не увінчалися успіхом, але не варто розслаблятися.\n"
     ]
    }
   ],
   "source": [
    "%run solutions/камінь_ножиці_папір.py"
   ]
  },
  {
   "cell_type": "code",
   "execution_count": 14,
   "id": "4a0ac204",
   "metadata": {},
   "outputs": [
    {
     "name": "stdout",
     "output_type": "stream",
     "text": [
      "Введіть камінь (3), ножиці (2) або папір (1): 3\n",
      "Машини зробили ставку на камінь\n",
      "Сили людей и машин виявилися рівними цього разу.\n"
     ]
    }
   ],
   "source": [
    "%run solutions/камінь_ножиці_папір.py"
   ]
  },
  {
   "cell_type": "code",
   "execution_count": 15,
   "id": "700a196f",
   "metadata": {},
   "outputs": [
    {
     "name": "stdout",
     "output_type": "stream",
     "text": [
      "Введіть камінь (3), ножиці (2) або папір (1): 2\n",
      "Машини зробили ставку на камінь\n",
      "Ви програли. Термінатор вже виїхав.\n"
     ]
    }
   ],
   "source": [
    "%run solutions/камінь_ножиці_папір.py"
   ]
  },
  {
   "cell_type": "markdown",
   "id": "f3f315fc",
   "metadata": {},
   "source": [
    "[Рішення](solution_notebooks/камінь_ножиці_папір.ipynb) (≈27 рядків коду) "
   ]
  },
  {
   "cell_type": "markdown",
   "id": "ddf4e9f0",
   "metadata": {},
   "source": [
    "## 13. Зрада\n",
    "\n",
    "Напишіть програму яка у 90% випадків друкуватиме \"зрада\", а у решті 10% - \"ПЕРЕМОГА\"."
   ]
  },
  {
   "cell_type": "code",
   "execution_count": 16,
   "id": "fda9a8b7",
   "metadata": {},
   "outputs": [
    {
     "name": "stdout",
     "output_type": "stream",
     "text": [
      "зрада\n"
     ]
    }
   ],
   "source": [
    "%run solutions/зрада.py"
   ]
  },
  {
   "cell_type": "code",
   "execution_count": 17,
   "id": "303ee4ae",
   "metadata": {},
   "outputs": [
    {
     "name": "stdout",
     "output_type": "stream",
     "text": [
      "зрада\n"
     ]
    }
   ],
   "source": [
    "%run solutions/зрада.py"
   ]
  },
  {
   "cell_type": "code",
   "execution_count": 18,
   "id": "dec47d7b",
   "metadata": {},
   "outputs": [
    {
     "name": "stdout",
     "output_type": "stream",
     "text": [
      "зрада\n"
     ]
    }
   ],
   "source": [
    "%run solutions/зрада.py"
   ]
  },
  {
   "cell_type": "code",
   "execution_count": 19,
   "id": "2f6bb3c4",
   "metadata": {},
   "outputs": [
    {
     "name": "stdout",
     "output_type": "stream",
     "text": [
      "зрада\n"
     ]
    }
   ],
   "source": [
    "%run solutions/зрада.py"
   ]
  },
  {
   "cell_type": "code",
   "execution_count": 20,
   "id": "2e16dfba",
   "metadata": {},
   "outputs": [
    {
     "name": "stdout",
     "output_type": "stream",
     "text": [
      "зрада\n"
     ]
    }
   ],
   "source": [
    "%run solutions/зрада.py"
   ]
  },
  {
   "cell_type": "code",
   "execution_count": 21,
   "id": "66ca5255",
   "metadata": {},
   "outputs": [
    {
     "name": "stdout",
     "output_type": "stream",
     "text": [
      "ПЕРЕМОГА\n"
     ]
    }
   ],
   "source": [
    "%run solutions/зрада.py"
   ]
  },
  {
   "cell_type": "code",
   "execution_count": 22,
   "id": "24b84624",
   "metadata": {},
   "outputs": [
    {
     "name": "stdout",
     "output_type": "stream",
     "text": [
      "зрада\n"
     ]
    }
   ],
   "source": [
    "%run solutions/зрада.py"
   ]
  },
  {
   "cell_type": "markdown",
   "id": "2a7d2628",
   "metadata": {},
   "source": [
    "[Рішення](solution_notebooks/зрада.ipynb) (≈5 рядків коду)   \n",
    "[Рішення (евівалентне)](solution_notebooks/зрада_2.ipynb) (≈5 рядків коду) "
   ]
  },
  {
   "cell_type": "markdown",
   "id": "02e50914",
   "metadata": {},
   "source": [
    "## 14. Три варіанти\n",
    "\n",
    "Напишіть програму яка у 50% випадків друкуватиме \"зрада\", у 40% - \"мутно\", а у решті 10% - \"ПЕРЕМОГА\"."
   ]
  },
  {
   "cell_type": "code",
   "execution_count": 23,
   "id": "412d3b3a",
   "metadata": {},
   "outputs": [
    {
     "name": "stdout",
     "output_type": "stream",
     "text": [
      "зрада\n"
     ]
    }
   ],
   "source": [
    "%run solutions/три_варіанти.py"
   ]
  },
  {
   "cell_type": "code",
   "execution_count": 24,
   "id": "8b05ef03",
   "metadata": {},
   "outputs": [
    {
     "name": "stdout",
     "output_type": "stream",
     "text": [
      "зрада\n"
     ]
    }
   ],
   "source": [
    "%run solutions/три_варіанти.py"
   ]
  },
  {
   "cell_type": "code",
   "execution_count": 25,
   "id": "4005a2b4",
   "metadata": {},
   "outputs": [
    {
     "name": "stdout",
     "output_type": "stream",
     "text": [
      "ПЕРЕМОГА\n"
     ]
    }
   ],
   "source": [
    "%run solutions/три_варіанти.py"
   ]
  },
  {
   "cell_type": "code",
   "execution_count": 26,
   "id": "422be410",
   "metadata": {},
   "outputs": [
    {
     "name": "stdout",
     "output_type": "stream",
     "text": [
      "зрада\n"
     ]
    }
   ],
   "source": [
    "%run solutions/три_варіанти.py"
   ]
  },
  {
   "cell_type": "code",
   "execution_count": 27,
   "id": "acf04daa",
   "metadata": {},
   "outputs": [
    {
     "name": "stdout",
     "output_type": "stream",
     "text": [
      "мутно\n"
     ]
    }
   ],
   "source": [
    "%run solutions/три_варіанти.py"
   ]
  },
  {
   "cell_type": "code",
   "execution_count": 28,
   "id": "24568140",
   "metadata": {},
   "outputs": [
    {
     "name": "stdout",
     "output_type": "stream",
     "text": [
      "зрада\n"
     ]
    }
   ],
   "source": [
    "%run solutions/три_варіанти.py"
   ]
  },
  {
   "cell_type": "code",
   "execution_count": 33,
   "id": "4e212e33",
   "metadata": {},
   "outputs": [
    {
     "name": "stdout",
     "output_type": "stream",
     "text": [
      "мутно\n"
     ]
    }
   ],
   "source": [
    "%run solutions/три_варіанти.py"
   ]
  },
  {
   "cell_type": "code",
   "execution_count": 32,
   "id": "0e6291e2",
   "metadata": {},
   "outputs": [
    {
     "name": "stdout",
     "output_type": "stream",
     "text": [
      "мутно\n"
     ]
    }
   ],
   "source": [
    "%run solutions/три_варіанти.py"
   ]
  },
  {
   "cell_type": "code",
   "execution_count": 31,
   "id": "fd4d6f0a",
   "metadata": {},
   "outputs": [
    {
     "name": "stdout",
     "output_type": "stream",
     "text": [
      "мутно\n"
     ]
    }
   ],
   "source": [
    "%run solutions/три_варіанти.py"
   ]
  },
  {
   "cell_type": "markdown",
   "id": "2b249c00",
   "metadata": {},
   "source": [
    "[Рішення](solution_notebooks/три_варіанти.ipynb) (≈8 рядків коду)   "
   ]
  },
  {
   "cell_type": "markdown",
   "id": "6af66d81",
   "metadata": {},
   "source": [
    "## 15. Камінь-ножиці-папір для вуйка з Вегасу\n",
    "\n",
    "Ваш вуйко має своє казино у Лас Вегасі і йому необхідна версія програми Камінь-ножиці-папір яка допоможе йому ліпше заробити на шмат хліба з маслом. Адаптуйте програму Камінь-ножиці-папір щоб \"машини\" перемагали у 60% випадків, у 25% випадків відбувалася нічия і лише у решті випадків (15%) перемагав гравець.\n",
    "\n",
    "**Важливо:** програма не має візуально відрізнятися від чесної версії камінь-ножиці-папір які ми імплементували раніше."
   ]
  },
  {
   "cell_type": "code",
   "execution_count": 34,
   "id": "e5ec40cd",
   "metadata": {},
   "outputs": [
    {
     "name": "stdout",
     "output_type": "stream",
     "text": [
      "Введіть камінь (3), ножиці (2) або папір (1): 1\n",
      "Машини зробили ставку на ножиці\n",
      "Ви програли. Термінатор вже виїхав.\n"
     ]
    }
   ],
   "source": [
    "%run solutions/камінь_ножиці_папір_для_вуйка_з_вегасу.py"
   ]
  },
  {
   "cell_type": "code",
   "execution_count": 38,
   "id": "0a841428",
   "metadata": {},
   "outputs": [
    {
     "name": "stdout",
     "output_type": "stream",
     "text": [
      "Введіть камінь (3), ножиці (2) або папір (1): 2\n",
      "Машини зробили ставку на папір\n",
      "Ви перемогли, підступні плани машин не увінчалися успіхом, але не варто розслаблятися.\n"
     ]
    }
   ],
   "source": [
    "%run solutions/камінь_ножиці_папір_для_вуйка_з_вегасу.py"
   ]
  },
  {
   "cell_type": "code",
   "execution_count": 37,
   "id": "1eb83b37",
   "metadata": {},
   "outputs": [
    {
     "name": "stdout",
     "output_type": "stream",
     "text": [
      "Введіть камінь (3), ножиці (2) або папір (1): 3\n",
      "Машини зробили ставку на папір\n",
      "Ви програли. Термінатор вже виїхав.\n"
     ]
    }
   ],
   "source": [
    "%run solutions/камінь_ножиці_папір_для_вуйка_з_вегасу.py"
   ]
  },
  {
   "cell_type": "code",
   "execution_count": 39,
   "id": "5fb079ae",
   "metadata": {},
   "outputs": [
    {
     "name": "stdout",
     "output_type": "stream",
     "text": [
      "Введіть камінь (3), ножиці (2) або папір (1): 3\n",
      "Машини зробили ставку на папір\n",
      "Ви програли. Термінатор вже виїхав.\n"
     ]
    }
   ],
   "source": [
    "%run solutions/камінь_ножиці_папір_для_вуйка_з_вегасу.py"
   ]
  },
  {
   "cell_type": "code",
   "execution_count": 40,
   "id": "780a6f85",
   "metadata": {},
   "outputs": [
    {
     "name": "stdout",
     "output_type": "stream",
     "text": [
      "Введіть камінь (3), ножиці (2) або папір (1): 3\n",
      "Машини зробили ставку на папір\n",
      "Ви програли. Термінатор вже виїхав.\n"
     ]
    }
   ],
   "source": [
    "%run solutions/камінь_ножиці_папір_для_вуйка_з_вегасу.py"
   ]
  },
  {
   "cell_type": "code",
   "execution_count": 41,
   "id": "87fd219a",
   "metadata": {},
   "outputs": [
    {
     "name": "stdout",
     "output_type": "stream",
     "text": [
      "Введіть камінь (3), ножиці (2) або папір (1): 1\n",
      "Машини зробили ставку на камінь\n",
      "Ви перемогли, підступні плани машин не увінчалися успіхом, але не варто розслаблятися.\n"
     ]
    }
   ],
   "source": [
    "%run solutions/камінь_ножиці_папір_для_вуйка_з_вегасу.py"
   ]
  },
  {
   "cell_type": "markdown",
   "id": "9c05ed26",
   "metadata": {},
   "source": [
    "[Підказка #1 - пояснення](hints_notebooks/камінь_ножиці_папір_для_вуйка_з_вегасу_1.ipynb)    \n",
    "[Підказка #2 - шаблон програми](hints_notebooks/камінь_ножиці_папір_для_вуйка_з_вегасу_2.ipynb)    \n",
    "[Підказка #3 - детальніший шаблон програми](hints_notebooks/камінь_ножиці_папір_для_вуйка_з_вегасу_3.ipynb)    \n",
    "[Рішення](solution_notebooks/камінь_ножиці_папір_для_вуйка_з_вегасу.ipynb) (≈30 рядків коду) "
   ]
  },
  {
   "cell_type": "markdown",
   "id": "06a3e6be",
   "metadata": {},
   "source": [
    "## 16. Монети (покращені)\n",
    "Напишіть програму яка приймає від користувача певну суму у копійках і\n",
    "виводить як розбити цю суму на найменшу кількість монет. Для цієї задачі\n",
    "вважатимемо що існують монети у 50, 25, 10, 5 копійок і 1 копійка.\n",
    "\n",
    "На цей раз якщо кількість певної монети нуль, ми не будемо виводити інформацію про неї.  \n",
    "Якщо користувач вводить нульову або меншу за нуль суму, необхідно показати повідомлення про помилку."
   ]
  },
  {
   "cell_type": "code",
   "execution_count": 1,
   "id": "09620c0f",
   "metadata": {},
   "outputs": [
    {
     "name": "stdout",
     "output_type": "stream",
     "text": [
      "Введіть суму: 12\n",
      "Монет по 10 копійок: 1\n",
      "Монет по 1 копійці: 2\n"
     ]
    }
   ],
   "source": [
    "%run solutions/монети_покращено.py"
   ]
  },
  {
   "cell_type": "code",
   "execution_count": 2,
   "id": "758b565c",
   "metadata": {},
   "outputs": [
    {
     "name": "stdout",
     "output_type": "stream",
     "text": [
      "Введіть суму: -1\n",
      "Сума має бути більшою за нуль\n"
     ]
    }
   ],
   "source": [
    "%run solutions/монети_покращено.py"
   ]
  },
  {
   "cell_type": "code",
   "execution_count": 3,
   "id": "0e11f6ec",
   "metadata": {},
   "outputs": [
    {
     "name": "stdout",
     "output_type": "stream",
     "text": [
      "Введіть суму: 39\n",
      "Монет по 25 копійок: 1\n",
      "Монет по 10 копійок: 1\n",
      "Монет по 1 копійці: 4\n"
     ]
    }
   ],
   "source": [
    "%run solutions/монети_покращено.py"
   ]
  },
  {
   "cell_type": "code",
   "execution_count": 4,
   "id": "2d3d6b66",
   "metadata": {},
   "outputs": [
    {
     "name": "stdout",
     "output_type": "stream",
     "text": [
      "Введіть суму: 1234\n",
      "Монет по 50 копійок: 97\n",
      "Монет по 5 копійок: 1\n",
      "Монет по 1 копійці: 4\n"
     ]
    }
   ],
   "source": [
    "%run solutions/монети_покращено.py"
   ]
  },
  {
   "cell_type": "markdown",
   "id": "076e0bb4",
   "metadata": {},
   "source": [
    "[Рішення - попередня версія](../y03_variables_assignments_some_functions/solution_notebooks/монети.ipynb) (≈14 рядків коду)   \n",
    "[Рішення](solution_notebooks/монети_покращено.ipynb) (≈22 рядків коду) "
   ]
  }
 ],
 "metadata": {
  "kernelspec": {
   "display_name": "Python 3 (ipykernel)",
   "language": "python",
   "name": "python3"
  },
  "language_info": {
   "codemirror_mode": {
    "name": "ipython",
    "version": 3
   },
   "file_extension": ".py",
   "mimetype": "text/x-python",
   "name": "python",
   "nbconvert_exporter": "python",
   "pygments_lexer": "ipython3",
   "version": "3.9.7"
  }
 },
 "nbformat": 4,
 "nbformat_minor": 5
}
