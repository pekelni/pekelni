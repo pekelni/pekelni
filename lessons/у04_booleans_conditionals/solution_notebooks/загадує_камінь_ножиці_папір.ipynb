{
    "cells": [
        {
            "cell_type": "code",
            "execution_count": 666,
            "metadata": {},
            "outputs": [],
            "source": [
                "import random\n",
                "\n",
                "КАМІНЬ, НОЖИЦІ, ПАПІР = 3, 2, 1\n",
                "випадковий_елемент = random.randint(1, 3)\n",
                "\n",
                "if випадковий_елемент == КАМІНЬ:\n",
                "    випадковий_елемент = 'камінь'\n",
                "elif випадковий_елемент == НОЖИЦІ:\n",
                "    випадковий_елемент = 'ножиці'\n",
                "else:\n",
                "    випадковий_елемент = 'папір'\n",
                "\n",
                "print('Випадковим чином було обрано: ' + випадковий_елемент)"
            ]
        }
    ],
    "metadata": {
        "kernelspec": {
            "display_name": "Python 3",
            "language": "python",
            "name": "python3"
        },
        "language_info": {
            "codemirror_mode": {
                "name": "ipython",
                "version": 3
            },
            "file_extension": ".py",
            "mimetype": "text/x-python",
            "name": "python",
            "nbconvert_exporter": "python",
            "pygments_lexer": "ipython3",
            "version": "3.8.11"
        }
    },
    "nbformat": 4,
    "nbformat_minor": 5
}