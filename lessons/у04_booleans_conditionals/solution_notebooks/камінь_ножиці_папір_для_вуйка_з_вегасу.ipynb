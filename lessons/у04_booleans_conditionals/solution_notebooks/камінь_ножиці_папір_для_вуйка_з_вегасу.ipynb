{
    "cells": [
        {
            "cell_type": "code",
            "execution_count": 666,
            "metadata": {},
            "outputs": [],
            "source": [
                "import random\n",
                "\n",
                "КАМІНЬ, НОЖИЦІ, ПАПІР = 3, 2, 1\n",
                "людина = int(input('Введіть камінь (3), ножиці (2) або папір (1): '))\n",
                "\n",
                "ймовірність = random.random()\n",
                "if ймовірність < 0.60:\n",
                "    переможець = 'машини'\n",
                "    if людина == КАМІНЬ:\n",
                "        машини = 'папір'\n",
                "    elif людина == НОЖИЦІ:\n",
                "        машини = 'камінь'\n",
                "    else:\n",
                "        машини = 'ножиці'\n",
                "elif ймовірність < 0.85:\n",
                "    машини = людина\n",
                "    переможець = 'ніхто'\n",
                "else:\n",
                "    переможець = 'людина'\n",
                "    if людина == КАМІНЬ:\n",
                "        машини = 'ножиці'\n",
                "    elif людина == НОЖИЦІ:\n",
                "        машини = 'папір'\n",
                "    else:\n",
                "        машини = 'камінь'\n",
                "\n",
                "print('Машини зробили ставку на ' + машини)\n",
                "if переможець == 'людина':\n",
                "    print('Ви перемогли, підступні плани машин не увінчалися успіхом, але не варто розслаблятися.')\n",
                "elif переможець == 'машини':\n",
                "    print('Ви програли. Термінатор вже виїхав.')\n",
                "else:\n",
                "    print('Сили людей и машин виявилися рівними цього разу.')"
            ]
        }
    ],
    "metadata": {
        "kernelspec": {
            "display_name": "Python 3",
            "language": "python",
            "name": "python3"
        },
        "language_info": {
            "codemirror_mode": {
                "name": "ipython",
                "version": 3
            },
            "file_extension": ".py",
            "mimetype": "text/x-python",
            "name": "python",
            "nbconvert_exporter": "python",
            "pygments_lexer": "ipython3",
            "version": "3.8.11"
        }
    },
    "nbformat": 4,
    "nbformat_minor": 5
}