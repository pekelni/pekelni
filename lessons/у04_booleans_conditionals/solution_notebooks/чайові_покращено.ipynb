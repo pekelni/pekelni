{
    "cells": [
        {
            "cell_type": "code",
            "execution_count": 666,
            "metadata": {},
            "outputs": [],
            "source": [
                "сума = float(input('Введіть суму: '))\n",
                "відсоток = float(input('Введіть відсоток (від 0 до 100): '))\n",
                "if сума < 0 or відсоток < 0:\n",
                "    print('Неправильно введені дані')\n",
                "else:\n",
                "    чайові = відсоток / 100 * сума\n",
                "    сума += чайові\n",
                "    print('Загальна сума разом із чайовими: ' + str(round(сума, 2)))"
            ]
        }
    ],
    "metadata": {
        "kernelspec": {
            "display_name": "Python 3",
            "language": "python",
            "name": "python3"
        },
        "language_info": {
            "codemirror_mode": {
                "name": "ipython",
                "version": 3
            },
            "file_extension": ".py",
            "mimetype": "text/x-python",
            "name": "python",
            "nbconvert_exporter": "python",
            "pygments_lexer": "ipython3",
            "version": "3.8.11"
        }
    },
    "nbformat": 4,
    "nbformat_minor": 5
}