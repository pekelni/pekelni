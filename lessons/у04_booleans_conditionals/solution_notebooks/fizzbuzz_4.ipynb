{
    "cells": [
        {
            "cell_type": "code",
            "execution_count": 666,
            "metadata": {},
            "outputs": [],
            "source": [
                "число = int(input('Введіть ціле число: '))\n",
                "результат = 'Fizz'\n",
                "if число % 3 == 0:\n",
                "    if число % 5 == 0:\n",
                "        результат = 'FizzBuzz'\n",
                "elif число % 5 == 0:\n",
                "    результат = 'Buzz'\n",
                "else:\n",
                "    результат = str(число)\n",
                "print('Результат: ' + результат)"
            ]
        }
    ],
    "metadata": {
        "kernelspec": {
            "display_name": "Python 3",
            "language": "python",
            "name": "python3"
        },
        "language_info": {
            "codemirror_mode": {
                "name": "ipython",
                "version": 3
            },
            "file_extension": ".py",
            "mimetype": "text/x-python",
            "name": "python",
            "nbconvert_exporter": "python",
            "pygments_lexer": "ipython3",
            "version": "3.8.11"
        }
    },
    "nbformat": 4,
    "nbformat_minor": 5
}