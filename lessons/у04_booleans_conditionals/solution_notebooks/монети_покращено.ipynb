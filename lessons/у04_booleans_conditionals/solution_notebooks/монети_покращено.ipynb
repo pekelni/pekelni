{
    "cells": [
        {
            "cell_type": "code",
            "execution_count": 666,
            "metadata": {},
            "outputs": [],
            "source": [
                "сума = int(input('Введіть суму: '))\n",
                "\n",
                "if сума <= 0:\n",
                "    print('Сума має бути більшою за нуль')\n",
                "else:\n",
                "    кількість_монет_по_50 = сума // 50\n",
                "    сума %= 50\n",
                "    if кількість_монет_по_50:\n",
                "        print('Монет по 50 копійок: ' + str(кількість_монет_по_50))\n",
                "\n",
                "    кількість_монет_по_25 = сума // 25\n",
                "    сума %= 25\n",
                "    if кількість_монет_по_25:\n",
                "        print('Монет по 25 копійок: ' + str(кількість_монет_по_25))\n",
                "\n",
                "    кількість_монет_по_10 = сума // 10\n",
                "    сума %= 10\n",
                "    if кількість_монет_по_10:\n",
                "        print('Монет по 10 копійок: ' + str(кількість_монет_по_10))\n",
                "\n",
                "    кількість_монет_по_5 = сума // 5\n",
                "    сума %= 5\n",
                "    if кількість_монет_по_5:\n",
                "        print('Монет по 5 копійок: ' + str(кількість_монет_по_5))\n",
                "\n",
                "    if сума:\n",
                "        print('Монет по 1 копійці: ' + str(сума))"
            ]
        }
    ],
    "metadata": {
        "kernelspec": {
            "display_name": "Python 3",
            "language": "python",
            "name": "python3"
        },
        "language_info": {
            "codemirror_mode": {
                "name": "ipython",
                "version": 3
            },
            "file_extension": ".py",
            "mimetype": "text/x-python",
            "name": "python",
            "nbconvert_exporter": "python",
            "pygments_lexer": "ipython3",
            "version": "3.8.11"
        }
    },
    "nbformat": 4,
    "nbformat_minor": 5
}