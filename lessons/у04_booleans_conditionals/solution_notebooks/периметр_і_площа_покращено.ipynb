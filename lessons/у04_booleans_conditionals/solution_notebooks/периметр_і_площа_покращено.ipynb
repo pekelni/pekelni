{
    "cells": [
        {
            "cell_type": "code",
            "execution_count": 666,
            "metadata": {},
            "outputs": [],
            "source": [
                "ширина = float(input('Введіть ширину: '))\n",
                "довжина = float(input('Введіть довжину: '))\n",
                "if ширина < 0 and довжина < 0:\n",
                "    print(\"Помилка: і ширина, і довжина від'ємні\")\n",
                "elif ширина < 0:\n",
                "    print(\"Помилка: ширина від'ємна\")\n",
                "elif довжина < 0:\n",
                "    print(\"Помилка: довжина від'ємна\")\n",
                "else:\n",
                "    периметр = 2 * (ширина + довжина)\n",
                "    print('Периметр: ' + str(периметр))\n",
                "    площа = ширина * довжина\n",
                "    print('Площа: ' + str(площа))"
            ]
        }
    ],
    "metadata": {
        "kernelspec": {
            "display_name": "Python 3",
            "language": "python",
            "name": "python3"
        },
        "language_info": {
            "codemirror_mode": {
                "name": "ipython",
                "version": 3
            },
            "file_extension": ".py",
            "mimetype": "text/x-python",
            "name": "python",
            "nbconvert_exporter": "python",
            "pygments_lexer": "ipython3",
            "version": "3.8.11"
        }
    },
    "nbformat": 4,
    "nbformat_minor": 5
}