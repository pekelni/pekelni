{
    "cells": [
        {
            "cell_type": "code",
            "execution_count": 666,
            "metadata": {},
            "outputs": [],
            "source": [
                "КАМІНЬ, НОЖИЦІ, ПАПІР = 3, 2, 1\n",
                "\n",
                "гравець_1 = int(input('Що загадав перший гравець? Введіть камінь (3), ножиці (2) або папір (1): '))\n",
                "гравець_2 = int(input('Що загадав ДРУГИЙ гравець? Введіть камінь (3), ножиці (2) або папір (1): '))\n",
                "\n",
                "if гравець_1 == гравець_2:\n",
                "    переможець = 'ніхто'\n",
                "elif гравець_1 == КАМІНЬ and гравець_2 == НОЖИЦІ:\n",
                "    переможець = 'перший гравець'\n",
                "elif гравець_1 == НОЖИЦІ and гравець_2 == ПАПІР:\n",
                "    переможець = 'перший гравець'\n",
                "elif гравець_1 == ПАПІР and гравець_2 == КАМІНЬ:\n",
                "    переможець = 'перший гравець'\n",
                "else:\n",
                "    переможець = 'другий гравець'\n",
                "\n",
                "if переможець == 'ніхто':\n",
                "    print('Нічия')\n",
                "else:\n",
                "    print('Переміг ' + переможець)"
            ]
        }
    ],
    "metadata": {
        "kernelspec": {
            "display_name": "Python 3",
            "language": "python",
            "name": "python3"
        },
        "language_info": {
            "codemirror_mode": {
                "name": "ipython",
                "version": 3
            },
            "file_extension": ".py",
            "mimetype": "text/x-python",
            "name": "python",
            "nbconvert_exporter": "python",
            "pygments_lexer": "ipython3",
            "version": "3.8.11"
        }
    },
    "nbformat": 4,
    "nbformat_minor": 5
}