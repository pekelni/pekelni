{
    "cells": [
        {
            "cell_type": "code",
            "execution_count": 666,
            "metadata": {},
            "outputs": [],
            "source": [
                "ДНІВ_У_РОЦІ = 365\n",
                "ГОДИН_У_ДНІ = 24\n",
                "ХВИЛИН_У_ГОДИНІ = 60\n",
                "ХВИЛИН_У_РОЦІ = ХВИЛИН_У_ГОДИНІ * ГОДИН_У_ДНІ * ДНІВ_У_РОЦІ\n",
                "\n",
                "хвилини = input('Введіть кількість хвилин: ')\n",
                "хвилини = хвилини.strip()\n",
                "\n",
                "if not хвилини:\n",
                "    print('Помилка: ви не ввели число')\n",
                "elif хвилини.isdigit():\n",
                "    хвилини = int(хвилини)\n",
                "    роки = хвилини / ХВИЛИН_У_РОЦІ\n",
                "    print(str(хвилини) + ' хвилин це приблизно ' + str(round(роки, 3)) + ' років.')\n",
                "else:\n",
                "    print('Помилка: неправильне число - ' + хвилини)"
            ]
        }
    ],
    "metadata": {
        "kernelspec": {
            "display_name": "Python 3",
            "language": "python",
            "name": "python3"
        },
        "language_info": {
            "codemirror_mode": {
                "name": "ipython",
                "version": 3
            },
            "file_extension": ".py",
            "mimetype": "text/x-python",
            "name": "python",
            "nbconvert_exporter": "python",
            "pygments_lexer": "ipython3",
            "version": "3.8.11"
        }
    },
    "nbformat": 4,
    "nbformat_minor": 5
}