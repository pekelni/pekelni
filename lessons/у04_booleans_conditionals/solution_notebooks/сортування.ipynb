{
    "cells": [
        {
            "cell_type": "code",
            "execution_count": 666,
            "metadata": {},
            "outputs": [],
            "source": [
                "n0 = int(input('Введіть перше число: '))\n",
                "n1 = int(input('Введіть друге число: '))\n",
                "n2 = int(input('Введіть третє число: '))\n",
                "\n",
                "if n0 > n1:\n",
                "    n0, n1 = n1, n0\n",
                "\n",
                "if n1 > n2:\n",
                "    n1, n2 = n2, n1\n",
                "    if n0 > n1:\n",
                "        n0, n1 = n1, n0\n",
                "\n",
                "print(n0, n1, n2)"
            ]
        }
    ],
    "metadata": {
        "kernelspec": {
            "display_name": "Python 3",
            "language": "python",
            "name": "python3"
        },
        "language_info": {
            "codemirror_mode": {
                "name": "ipython",
                "version": 3
            },
            "file_extension": ".py",
            "mimetype": "text/x-python",
            "name": "python",
            "nbconvert_exporter": "python",
            "pygments_lexer": "ipython3",
            "version": "3.8.11"
        }
    },
    "nbformat": 4,
    "nbformat_minor": 5
}