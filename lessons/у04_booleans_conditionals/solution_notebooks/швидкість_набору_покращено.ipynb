{
    "cells": [
        {
            "cell_type": "code",
            "execution_count": 666,
            "metadata": {},
            "outputs": [],
            "source": [
                "import time\n",
                "\n",
                "СЕКУНД_У_ХВИЛИНІ = 60\n",
                "приклад_тексту = 'А завзяття, праця щира свого ще докаже'\n",
                "print('Приклад тексту: \"' + приклад_тексту + '\"')\n",
                "print('Найменша допустима довжина тексту: ' + str(len(приклад_тексту)) + ' символів')\n",
                "input('Коли будете готові, натисніть Enter, введіть текст, і тоді знов натисніть Enter')\n",
                "\n",
                "початковий_час = time.time()\n",
                "текст = input('ПОЧИНАЙТЕ: ')\n",
                "if len(текст) < len(приклад_тексту):\n",
                "    print('Ви ввели замало символів для надійної оцінки швидкості')\n",
                "else:\n",
                "    тривалість_у_хвилинах = (time.time() - початковий_час) / СЕКУНД_У_ХВИЛИНІ\n",
                "    швидкість = len(текст) / тривалість_у_хвилинах\n",
                "    print('Швидкість вашого набору складає ' + str(round(швидкість, 2)) + ' знаків на хвилину')"
            ]
        }
    ],
    "metadata": {
        "kernelspec": {
            "display_name": "Python 3",
            "language": "python",
            "name": "python3"
        },
        "language_info": {
            "codemirror_mode": {
                "name": "ipython",
                "version": 3
            },
            "file_extension": ".py",
            "mimetype": "text/x-python",
            "name": "python",
            "nbconvert_exporter": "python",
            "pygments_lexer": "ipython3",
            "version": "3.8.11"
        }
    },
    "nbformat": 4,
    "nbformat_minor": 5
}