{
 "cells": [
  {
   "cell_type": "markdown",
   "id": "6441fc83",
   "metadata": {},
   "source": [
    "<img src=\"../logo.png\" style=\"float: left;\">"
   ]
  },
  {
   "cell_type": "markdown",
   "id": "7cd97ee0",
   "metadata": {},
   "source": [
    "# 4. Логічний тип, умовні переходи\n",
    "## Зміст\n",
    "- мотивація і поверхневе знайомство з умовними переходами\n",
    "- оператори порівняння чисел і рядків (без використання умовних переходів)\n",
    "- 1 < 10 < 100\n",
    "- літерали `True`, `False` їх тип (`type()`)\n",
    "- запис результату порівняння у змінну\n",
    "- конвертації у `bool` і назад, `bool(str(False))`\n",
    "- використання `bool` variables в умовних переходах\n",
    "- важливість відступів\n",
    "- `if`, `else if`, `elif`, `else`\n",
    "- операції на булевому типі (`and`, `or`)\n",
    "- множення, додавання `bool`\n",
    "- програма яка друкує \"Зрада\" з ймовірністю 90%\n",
    "- мультиприсвоєння\n",
    "- деякі методи рядку: `strip()`, `isdigit()`, `capitalize()`\n",
    "\n",
    "## Мотивація"
   ]
  },
  {
   "cell_type": "code",
   "execution_count": 1,
   "id": "f791c7bc",
   "metadata": {},
   "outputs": [
    {
     "name": "stdout",
     "output_type": "stream",
     "text": [
      "6 + 41 = 22\n",
      "Ваша відповідь: 22, правильна відповідь: 47\n"
     ]
    }
   ],
   "source": [
    "import random\n",
    "\n",
    "доданок_0 = random.randint(1, 50)\n",
    "доданок_1 = random.randint(1, 50)\n",
    "правильна_відповідь = доданок_0 + доданок_1\n",
    "питання_для_користувача = str(доданок_0) + ' + ' + str(доданок_1) + ' = '\n",
    "відповідь_користувача = int(input(питання_для_користувача)) \n",
    "print('Ваша відповідь: ' + str(відповідь_користувача) + ', правильна відповідь: ' + str(правильна_відповідь))"
   ]
  },
  {
   "cell_type": "code",
   "execution_count": 3,
   "id": "7f6c5397",
   "metadata": {},
   "outputs": [
    {
     "name": "stdout",
     "output_type": "stream",
     "text": [
      "44 + 33 = 77\n",
      "Правильно!\n"
     ]
    }
   ],
   "source": [
    "import random\n",
    "\n",
    "доданок_0 = random.randint(1, 50)\n",
    "доданок_1 = random.randint(1, 50)\n",
    "правильна_відповідь = доданок_0 + доданок_1\n",
    "питання_для_користувача = str(доданок_0) + ' + ' + str(доданок_1) + ' = '\n",
    "відповідь_користувача = int(input(питання_для_користувача)) \n",
    "if відповідь_користувача == правильна_відповідь:\n",
    "    print('Правильно!')\n",
    "else:\n",
    "    print('Спробуй ще')"
   ]
  },
  {
   "cell_type": "code",
   "execution_count": 6,
   "id": "2afdabd7",
   "metadata": {},
   "outputs": [
    {
     "name": "stdout",
     "output_type": "stream",
     "text": [
      "Падіння: 8.96\n",
      "Чекаємо.\n"
     ]
    }
   ],
   "source": [
    "ціна_тиждень_тому = 67_000\n",
    "ціна_зараз = 61_000\n",
    "падіння_ціни = 100 * (ціна_тиждень_тому - ціна_зараз) / ціна_тиждень_тому\n",
    "print('Падіння: ' + str(round(падіння_ціни, 2)))\n",
    "if падіння_ціни > 10:\n",
    "    print('Треба закупатись')\n",
    "else:\n",
    "    print('Чекаємо.')"
   ]
  },
  {
   "cell_type": "code",
   "execution_count": 7,
   "id": "bd6515a3",
   "metadata": {},
   "outputs": [
    {
     "name": "stdout",
     "output_type": "stream",
     "text": [
      "Чекаємо більш підходящого користувача\n"
     ]
    }
   ],
   "source": [
    "ймовірність_купівлі = 13\n",
    "if ймовірність_купівлі > 20:\n",
    "    print('Показуємо рекламу')\n",
    "else:\n",
    "    print('Чекаємо більш підходящого користувача')"
   ]
  },
  {
   "cell_type": "markdown",
   "id": "c2100b91",
   "metadata": {},
   "source": [
    "## Оператори порівняння чисел і рядків"
   ]
  },
  {
   "cell_type": "code",
   "execution_count": 3,
   "id": "32a963d6",
   "metadata": {},
   "outputs": [
    {
     "name": "stdout",
     "output_type": "stream",
     "text": [
      "Слоупок\n"
     ]
    }
   ],
   "source": [
    "швидкість_вводу = 20\n",
    "if швидкість_вводу > 100:\n",
    "    print('Красава')\n",
    "else:\n",
    "    print('Слоупок')"
   ]
  },
  {
   "cell_type": "markdown",
   "id": "60eeca9b",
   "metadata": {},
   "source": [
    "Два наступні приклади це одне і теж з точки зору логіки."
   ]
  },
  {
   "cell_type": "code",
   "execution_count": 54,
   "id": "3c67b39c",
   "metadata": {},
   "outputs": [
    {
     "name": "stdout",
     "output_type": "stream",
     "text": [
      "Слоупок\n"
     ]
    }
   ],
   "source": [
    "швидкість_вводу = 20\n",
    "if швидкість_вводу < 50:\n",
    "    print('Слоупок')\n",
    "elif швидкість_вводу < 150:\n",
    "    print('Ну такоє')\n",
    "else:\n",
    "    print('Красава')    "
   ]
  },
  {
   "cell_type": "code",
   "execution_count": 10,
   "id": "6f47a014",
   "metadata": {},
   "outputs": [
    {
     "name": "stdout",
     "output_type": "stream",
     "text": [
      "Слоупок\n"
     ]
    }
   ],
   "source": [
    "швидкість_вводу = 20\n",
    "if швидкість_вводу < 50:\n",
    "    print('Слоупок')\n",
    "else:\n",
    "    if швидкість_вводу < 150:\n",
    "        print('Ну такоє')\n",
    "    else:\n",
    "        print('Красава')    "
   ]
  },
  {
   "cell_type": "markdown",
   "id": "c419ea28",
   "metadata": {},
   "source": [
    "Два наступні приклади це одне і теж з точки зору логіки."
   ]
  },
  {
   "cell_type": "code",
   "execution_count": 10,
   "id": "635be393",
   "metadata": {},
   "outputs": [
    {
     "name": "stdout",
     "output_type": "stream",
     "text": [
      "Слоупок\n"
     ]
    }
   ],
   "source": [
    "швидкість_вводу = 20\n",
    "if швидкість_вводу < 50:\n",
    "    print('Слоупок')\n",
    "else:\n",
    "    if швидкість_вводу < 150:\n",
    "        print('Ну такоє')\n",
    "    else:\n",
    "        if швидкість_вводу < 250:\n",
    "            print('Красава')    \n",
    "        else:\n",
    "            print('Та ти звєрь')"
   ]
  },
  {
   "cell_type": "code",
   "execution_count": 10,
   "id": "828809a2",
   "metadata": {},
   "outputs": [
    {
     "name": "stdout",
     "output_type": "stream",
     "text": [
      "Слоупок\n"
     ]
    }
   ],
   "source": [
    "швидкість_вводу = 20\n",
    "if швидкість_вводу < 50:\n",
    "    print('Слоупок')\n",
    "elif швидкість_вводу < 150:\n",
    "    print('Ну такоє')\n",
    "elif швидкість_вводу < 250:\n",
    "    print('Красава')    \n",
    "else:\n",
    "    print('Та ти звєрь')"
   ]
  },
  {
   "cell_type": "markdown",
   "id": "a0a8f751",
   "metadata": {},
   "source": [
    "Якщо замінити еліф на іф:"
   ]
  },
  {
   "cell_type": "code",
   "execution_count": 11,
   "id": "353d9c4e",
   "metadata": {},
   "outputs": [
    {
     "name": "stdout",
     "output_type": "stream",
     "text": [
      "Слоупок\n",
      "Ну такоє\n",
      "Красава\n"
     ]
    }
   ],
   "source": [
    "швидкість_вводу = 20\n",
    "if швидкість_вводу < 50:\n",
    "    print('Слоупок')\n",
    "if швидкість_вводу < 150:\n",
    "    print('Ну такоє')\n",
    "if швидкість_вводу < 250:\n",
    "    print('Красава')    \n",
    "else:\n",
    "    print('Та ти звєрь')"
   ]
  },
  {
   "cell_type": "markdown",
   "id": "f5bcb2bd",
   "metadata": {},
   "source": [
    "## Помилки синтаксису"
   ]
  },
  {
   "cell_type": "code",
   "execution_count": 12,
   "id": "524e9826",
   "metadata": {},
   "outputs": [
    {
     "name": "stdout",
     "output_type": "stream",
     "text": [
      "Слоупок\n",
      "10\n",
      "Ну такоє\n",
      "Красава\n"
     ]
    }
   ],
   "source": [
    "швидкість_вводу = 20\n",
    "if швидкість_вводу < 50:\n",
    "    print('Слоупок')\n",
    "    \n",
    "a = 10\n",
    "print(a)\n",
    "\n",
    "if швидкість_вводу < 150:\n",
    "    print('Ну такоє')\n",
    "if швидкість_вводу < 250:\n",
    "    print('Красава')    \n",
    "else:\n",
    "    print('Та ти звєрь')"
   ]
  },
  {
   "cell_type": "code",
   "execution_count": 13,
   "id": "ae9f5ae6",
   "metadata": {},
   "outputs": [
    {
     "ename": "SyntaxError",
     "evalue": "invalid syntax (<ipython-input-13-a50512f9fa7a>, line 6)",
     "output_type": "error",
     "traceback": [
      "\u001b[0;36m  File \u001b[0;32m\"<ipython-input-13-a50512f9fa7a>\"\u001b[0;36m, line \u001b[0;32m6\u001b[0m\n\u001b[0;31m    elif швидкість_вводу < 150:\u001b[0m\n\u001b[0m    ^\u001b[0m\n\u001b[0;31mSyntaxError\u001b[0m\u001b[0;31m:\u001b[0m invalid syntax\n"
     ]
    }
   ],
   "source": [
    "швидкість_вводу = 20\n",
    "if швидкість_вводу < 50:\n",
    "    print('Слоупок')\n",
    "f = 10\n",
    "print(f)\n",
    "elif швидкість_вводу < 150:\n",
    "    print('Ну такоє')\n",
    "elif швидкість_вводу < 250:\n",
    "    print('Красава')    \n",
    "else:\n",
    "    print('Та ти звєрь')"
   ]
  },
  {
   "cell_type": "code",
   "execution_count": 6,
   "id": "3350c3c0",
   "metadata": {},
   "outputs": [
    {
     "name": "stdout",
     "output_type": "stream",
     "text": [
      "Слоупок\n",
      "Ну такоє\n"
     ]
    }
   ],
   "source": [
    "швидкість_вводу = 20\n",
    "if швидкість_вводу < 50:\n",
    "    print('Слоупок')\n",
    "    \n",
    "    \n",
    "if швидкість_вводу < 150:\n",
    "    print('Ну такоє')\n",
    "else:\n",
    "    print('Красава')\n",
    "    "
   ]
  },
  {
   "cell_type": "code",
   "execution_count": 8,
   "id": "73e3b618",
   "metadata": {},
   "outputs": [
    {
     "name": "stdout",
     "output_type": "stream",
     "text": [
      "Ну такоє\n"
     ]
    }
   ],
   "source": [
    "швидкість_вводу = 100\n",
    "if швидкість_вводу < 50:\n",
    "    print('Слоупок')\n",
    "    \n",
    "    \n",
    "if швидкість_вводу < 150:\n",
    "    print('Ну такоє')\n",
    "    "
   ]
  },
  {
   "cell_type": "code",
   "execution_count": 9,
   "id": "ce5c8920",
   "metadata": {},
   "outputs": [],
   "source": [
    "швидкість_вводу = 166\n",
    "if швидкість_вводу < 50:\n",
    "    print('Слоупок')\n",
    "    \n",
    "    \n",
    "if швидкість_вводу < 150:\n",
    "    print('Ну такоє')"
   ]
  },
  {
   "cell_type": "markdown",
   "id": "e8fe95d7",
   "metadata": {},
   "source": [
    "## порівняння чисел і рядків без використання умовних переходів\n"
   ]
  },
  {
   "cell_type": "code",
   "execution_count": 16,
   "id": "c6d4597d",
   "metadata": {},
   "outputs": [
    {
     "name": "stdout",
     "output_type": "stream",
     "text": [
      "False\n",
      "True\n",
      "True\n"
     ]
    }
   ],
   "source": [
    "print(5 > 6)\n",
    "print(5 < 6)\n",
    "print(5 <= 6)"
   ]
  },
  {
   "cell_type": "code",
   "execution_count": 17,
   "id": "dc39c901",
   "metadata": {},
   "outputs": [
    {
     "name": "stdout",
     "output_type": "stream",
     "text": [
      "2 True\n"
     ]
    }
   ],
   "source": [
    "a = 1 + 1\n",
    "b = 1 < 2\n",
    "print(a, b)"
   ]
  },
  {
   "cell_type": "code",
   "execution_count": 18,
   "id": "5663e122",
   "metadata": {},
   "outputs": [
    {
     "name": "stdout",
     "output_type": "stream",
     "text": [
      "2 False\n"
     ]
    }
   ],
   "source": [
    "a = 1 + 1\n",
    "b = 2 < 2\n",
    "print(a, b)"
   ]
  },
  {
   "cell_type": "code",
   "execution_count": 19,
   "id": "72cdbf39",
   "metadata": {},
   "outputs": [
    {
     "name": "stdout",
     "output_type": "stream",
     "text": [
      "2 True\n"
     ]
    }
   ],
   "source": [
    "a = 1 + 1\n",
    "b = 2 <= 2\n",
    "print(a, b)"
   ]
  },
  {
   "cell_type": "code",
   "execution_count": 38,
   "id": "27ef67ef",
   "metadata": {},
   "outputs": [
    {
     "name": "stdout",
     "output_type": "stream",
     "text": [
      "True True\n",
      "True True\n",
      "False True\n",
      "False False\n",
      "False True\n",
      "True True True\n",
      "False\n"
     ]
    }
   ],
   "source": [
    "a = 1 + 1\n",
    "print(1 < 2, 2 <= 2)\n",
    "print(1 <= 2, 2 <= 2)\n",
    "print(1 == 2, 2 == 2)\n",
    "print(1 > 2, 2 > 2)\n",
    "print(1 >= 2, 2 >= 2)\n",
    "print(2 >= 2, 2 <= 2, 2 == 2)\n",
    "print(2 != 2)"
   ]
  },
  {
   "cell_type": "code",
   "execution_count": 26,
   "id": "174de2ae",
   "metadata": {},
   "outputs": [
    {
     "name": "stdout",
     "output_type": "stream",
     "text": [
      "True\n"
     ]
    }
   ],
   "source": [
    "print(1 < 2 <= 3)"
   ]
  },
  {
   "cell_type": "code",
   "execution_count": 29,
   "id": "72703c5b",
   "metadata": {},
   "outputs": [
    {
     "name": "stdout",
     "output_type": "stream",
     "text": [
      "False\n"
     ]
    }
   ],
   "source": [
    "print(1 < 2 < -10)"
   ]
  },
  {
   "cell_type": "code",
   "execution_count": 31,
   "id": "7d2e47a8",
   "metadata": {},
   "outputs": [
    {
     "name": "stdout",
     "output_type": "stream",
     "text": [
      "True <class 'bool'>\n",
      "False <class 'bool'>\n"
     ]
    }
   ],
   "source": [
    "print(True, type(True))\n",
    "print(False, type(False))"
   ]
  },
  {
   "cell_type": "markdown",
   "id": "150c18aa",
   "metadata": {},
   "source": [
    "bool = boolean (булевий тип)"
   ]
  },
  {
   "cell_type": "code",
   "execution_count": 34,
   "id": "94606651",
   "metadata": {},
   "outputs": [
    {
     "name": "stdout",
     "output_type": "stream",
     "text": [
      "lala\n"
     ]
    }
   ],
   "source": [
    "if True:\n",
    "    print('lala')"
   ]
  },
  {
   "cell_type": "code",
   "execution_count": 37,
   "id": "79e174f2",
   "metadata": {},
   "outputs": [],
   "source": [
    "if False:\n",
    "    print('never ')"
   ]
  },
  {
   "cell_type": "code",
   "execution_count": 39,
   "id": "c9970e08",
   "metadata": {},
   "outputs": [
    {
     "name": "stdout",
     "output_type": "stream",
     "text": [
      "True\n"
     ]
    }
   ],
   "source": [
    "print(2 != 100500)"
   ]
  },
  {
   "cell_type": "code",
   "execution_count": 40,
   "id": "36f3dc31",
   "metadata": {},
   "outputs": [
    {
     "name": "stdout",
     "output_type": "stream",
     "text": [
      "True\n",
      "True\n",
      "False\n",
      "True\n"
     ]
    }
   ],
   "source": [
    "print(bool(1))\n",
    "print(bool(2))\n",
    "print(bool(0))\n",
    "print(bool(-10))"
   ]
  },
  {
   "cell_type": "code",
   "execution_count": 42,
   "id": "f67a1806",
   "metadata": {},
   "outputs": [],
   "source": [
    "a = 0\n",
    "if a:\n",
    "    print(a)"
   ]
  },
  {
   "cell_type": "code",
   "execution_count": 43,
   "id": "c5bed60a",
   "metadata": {},
   "outputs": [
    {
     "name": "stdout",
     "output_type": "stream",
     "text": [
      "True\n",
      "True\n",
      "False\n"
     ]
    }
   ],
   "source": [
    "print(bool('hello'))\n",
    "print(bool(' '))\n",
    "print(bool(''))"
   ]
  },
  {
   "cell_type": "code",
   "execution_count": 44,
   "id": "d08d36d6",
   "metadata": {},
   "outputs": [
    {
     "name": "stdout",
     "output_type": "stream",
     "text": [
      "True\n"
     ]
    }
   ],
   "source": [
    "print(bool('True'))"
   ]
  },
  {
   "cell_type": "code",
   "execution_count": 45,
   "id": "dec83932",
   "metadata": {},
   "outputs": [
    {
     "name": "stdout",
     "output_type": "stream",
     "text": [
      "True\n"
     ]
    }
   ],
   "source": [
    "print(bool('False'))"
   ]
  },
  {
   "cell_type": "code",
   "execution_count": 47,
   "id": "0a106438",
   "metadata": {},
   "outputs": [
    {
     "name": "stdout",
     "output_type": "stream",
     "text": [
      "TrueFalseTrueFalse\n"
     ]
    }
   ],
   "source": [
    "print(str(True)+ str(False)+ str(1 == 1)+ str(1 > 10))"
   ]
  },
  {
   "cell_type": "code",
   "execution_count": 48,
   "id": "784de8a7",
   "metadata": {},
   "outputs": [
    {
     "name": "stdout",
     "output_type": "stream",
     "text": [
      "1 0\n"
     ]
    }
   ],
   "source": [
    "print(int(True), int(False))"
   ]
  },
  {
   "cell_type": "code",
   "execution_count": 49,
   "id": "ea302c6f",
   "metadata": {},
   "outputs": [
    {
     "name": "stdout",
     "output_type": "stream",
     "text": [
      "1.0 0.0\n"
     ]
    }
   ],
   "source": [
    "print(float(True), float(False))"
   ]
  },
  {
   "cell_type": "code",
   "execution_count": 50,
   "id": "0beae93a",
   "metadata": {},
   "outputs": [
    {
     "name": "stdout",
     "output_type": "stream",
     "text": [
      "3\n"
     ]
    }
   ],
   "source": [
    "print(True + True + True)"
   ]
  },
  {
   "cell_type": "code",
   "execution_count": 52,
   "id": "a56b24ab",
   "metadata": {},
   "outputs": [
    {
     "name": "stdout",
     "output_type": "stream",
     "text": [
      "1\n"
     ]
    }
   ],
   "source": [
    "print(True - False)"
   ]
  },
  {
   "cell_type": "code",
   "execution_count": 53,
   "id": "f260c34f",
   "metadata": {},
   "outputs": [
    {
     "name": "stdout",
     "output_type": "stream",
     "text": [
      "0\n"
     ]
    }
   ],
   "source": [
    "print(True - True)"
   ]
  },
  {
   "cell_type": "code",
   "execution_count": 58,
   "id": "a932035c",
   "metadata": {},
   "outputs": [
    {
     "name": "stdout",
     "output_type": "stream",
     "text": [
      "10\n"
     ]
    }
   ],
   "source": [
    "print(True * 10)"
   ]
  },
  {
   "cell_type": "code",
   "execution_count": 59,
   "id": "a712bcbc",
   "metadata": {},
   "outputs": [
    {
     "name": "stdout",
     "output_type": "stream",
     "text": [
      "0\n"
     ]
    }
   ],
   "source": [
    "print(False * 10)"
   ]
  },
  {
   "cell_type": "markdown",
   "id": "8829c123",
   "metadata": {},
   "source": [
    "## And, Or"
   ]
  },
  {
   "cell_type": "code",
   "execution_count": 55,
   "id": "b6e89e8c",
   "metadata": {},
   "outputs": [
    {
     "name": "stdout",
     "output_type": "stream",
     "text": [
      "True\n"
     ]
    }
   ],
   "source": [
    "print(1 < 2 and 10 < 20)"
   ]
  },
  {
   "cell_type": "code",
   "execution_count": 56,
   "id": "8af9bf3e",
   "metadata": {},
   "outputs": [
    {
     "name": "stdout",
     "output_type": "stream",
     "text": [
      "False\n"
     ]
    }
   ],
   "source": [
    "print(1 < 2 and 10 > 20)"
   ]
  },
  {
   "cell_type": "code",
   "execution_count": 57,
   "id": "988a8cf0",
   "metadata": {},
   "outputs": [
    {
     "name": "stdout",
     "output_type": "stream",
     "text": [
      "True\n"
     ]
    }
   ],
   "source": [
    "print(1 < 2 or 10 > 20)"
   ]
  },
  {
   "cell_type": "markdown",
   "id": "160e59b8",
   "metadata": {},
   "source": [
    "### Зрада"
   ]
  },
  {
   "cell_type": "code",
   "execution_count": 106,
   "id": "fa91c6ed",
   "metadata": {},
   "outputs": [
    {
     "name": "stdout",
     "output_type": "stream",
     "text": [
      "0.08 zrada\n"
     ]
    }
   ],
   "source": [
    "import random\n",
    "\n",
    "a = round(random.random(), 2)\n",
    "if a < 0.9:\n",
    "    print(a, 'zrada')\n",
    "else:\n",
    "    print(a, 'peremoga')"
   ]
  },
  {
   "cell_type": "code",
   "execution_count": 107,
   "id": "2f2a9024",
   "metadata": {},
   "outputs": [
    {
     "name": "stdout",
     "output_type": "stream",
     "text": [
      "2 1\n"
     ]
    }
   ],
   "source": [
    "a, b = 1, 2\n",
    "print(b, a)"
   ]
  },
  {
   "cell_type": "code",
   "execution_count": 108,
   "id": "522a3f9e",
   "metadata": {},
   "outputs": [
    {
     "name": "stdout",
     "output_type": "stream",
     "text": [
      "2 3\n"
     ]
    }
   ],
   "source": [
    "a, b, c = 1, 2, 3\n",
    "a, c = c, b\n",
    "print(b, a)"
   ]
  },
  {
   "cell_type": "code",
   "execution_count": 109,
   "id": "593662b3",
   "metadata": {},
   "outputs": [
    {
     "ename": "TypeError",
     "evalue": "cannot unpack non-iterable int object",
     "output_type": "error",
     "traceback": [
      "\u001b[0;31m---------------------------------------------------------------------------\u001b[0m",
      "\u001b[0;31mTypeError\u001b[0m                                 Traceback (most recent call last)",
      "\u001b[0;32m<ipython-input-109-1a207d9e66ab>\u001b[0m in \u001b[0;36m<module>\u001b[0;34m\u001b[0m\n\u001b[1;32m      1\u001b[0m \u001b[0ma\u001b[0m\u001b[0;34m,\u001b[0m \u001b[0mb\u001b[0m\u001b[0;34m,\u001b[0m \u001b[0mc\u001b[0m \u001b[0;34m=\u001b[0m \u001b[0;36m1\u001b[0m\u001b[0;34m,\u001b[0m \u001b[0;36m2\u001b[0m\u001b[0;34m,\u001b[0m \u001b[0;36m3\u001b[0m\u001b[0;34m\u001b[0m\u001b[0;34m\u001b[0m\u001b[0m\n\u001b[0;32m----> 2\u001b[0;31m \u001b[0ma\u001b[0m\u001b[0;34m,\u001b[0m \u001b[0mc\u001b[0m \u001b[0;34m=\u001b[0m \u001b[0mc\u001b[0m\u001b[0;34m\u001b[0m\u001b[0;34m\u001b[0m\u001b[0m\n\u001b[0m\u001b[1;32m      3\u001b[0m \u001b[0mprint\u001b[0m\u001b[0;34m(\u001b[0m\u001b[0mb\u001b[0m\u001b[0;34m,\u001b[0m \u001b[0ma\u001b[0m\u001b[0;34m)\u001b[0m\u001b[0;34m\u001b[0m\u001b[0;34m\u001b[0m\u001b[0m\n",
      "\u001b[0;31mTypeError\u001b[0m: cannot unpack non-iterable int object"
     ]
    }
   ],
   "source": [
    "a, b, c = 1, 2, 3\n",
    "a, c = c\n",
    "print(b, a)"
   ]
  },
  {
   "cell_type": "markdown",
   "id": "111ddb7c",
   "metadata": {},
   "source": [
    "# методи рядку"
   ]
  },
  {
   "cell_type": "markdown",
   "id": "71538b4e",
   "metadata": {},
   "source": [
    "- деякі методи рядку: strip(), isdigit(), capitalize()\n"
   ]
  },
  {
   "cell_type": "code",
   "execution_count": 115,
   "id": "42fa3d91",
   "metadata": {},
   "outputs": [
    {
     "name": "stdout",
     "output_type": "stream",
     "text": [
      "           hello           \n",
      "hello    lol       lol\n"
     ]
    }
   ],
   "source": [
    "print('           hello           ')\n",
    "print('           hello    lol       lol'.strip())"
   ]
  },
  {
   "cell_type": "code",
   "execution_count": 116,
   "id": "12d09b1e",
   "metadata": {},
   "outputs": [
    {
     "ename": "ValueError",
     "evalue": "invalid literal for int() with base 10: 'fffff'",
     "output_type": "error",
     "traceback": [
      "\u001b[0;31m---------------------------------------------------------------------------\u001b[0m",
      "\u001b[0;31mValueError\u001b[0m                                Traceback (most recent call last)",
      "\u001b[0;32m<ipython-input-116-7a0b3db93e50>\u001b[0m in \u001b[0;36m<module>\u001b[0;34m\u001b[0m\n\u001b[0;32m----> 1\u001b[0;31m \u001b[0mprint\u001b[0m\u001b[0;34m(\u001b[0m\u001b[0mint\u001b[0m\u001b[0;34m(\u001b[0m\u001b[0;34m'fffff'\u001b[0m\u001b[0;34m)\u001b[0m\u001b[0;34m)\u001b[0m\u001b[0;34m\u001b[0m\u001b[0;34m\u001b[0m\u001b[0m\n\u001b[0m",
      "\u001b[0;31mValueError\u001b[0m: invalid literal for int() with base 10: 'fffff'"
     ]
    }
   ],
   "source": [
    "print(int('fffff'))"
   ]
  },
  {
   "cell_type": "code",
   "execution_count": 119,
   "id": "ae7f1279",
   "metadata": {},
   "outputs": [
    {
     "name": "stdout",
     "output_type": "stream",
     "text": [
      "True False\n"
     ]
    }
   ],
   "source": [
    "print('1234'.isdigit(), '1234123412342134123f'.isdigit())"
   ]
  },
  {
   "cell_type": "code",
   "execution_count": 121,
   "id": "631ccc79",
   "metadata": {},
   "outputs": [
    {
     "name": "stdout",
     "output_type": "stream",
     "text": [
      "Hello\n"
     ]
    }
   ],
   "source": [
    "print('hello'.capitalize())"
   ]
  },
  {
   "cell_type": "code",
   "execution_count": 123,
   "id": "8c8d8ede",
   "metadata": {},
   "outputs": [
    {
     "name": "stdout",
     "output_type": "stream",
     "text": [
      "Hello hello. wtf\n"
     ]
    }
   ],
   "source": [
    "print('hello hello. wtf'.capitalize())"
   ]
  },
  {
   "cell_type": "code",
   "execution_count": null,
   "id": "31a87bda",
   "metadata": {},
   "outputs": [],
   "source": []
  }
 ],
 "metadata": {
  "kernelspec": {
   "display_name": "Python 3 (ipykernel)",
   "language": "python",
   "name": "python3"
  },
  "language_info": {
   "codemirror_mode": {
    "name": "ipython",
    "version": 3
   },
   "file_extension": ".py",
   "mimetype": "text/x-python",
   "name": "python",
   "nbconvert_exporter": "python",
   "pygments_lexer": "ipython3",
   "version": "3.9.7"
  }
 },
 "nbformat": 4,
 "nbformat_minor": 5
}
