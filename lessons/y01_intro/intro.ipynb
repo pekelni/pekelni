{
 "cells": [
  {
   "cell_type": "markdown",
   "id": "3c43775f",
   "metadata": {},
   "source": [
    "<img src=\"../logo.png\" style=\"float: left;\">"
   ]
  },
  {
   "cell_type": "markdown",
   "id": "24430cc8",
   "metadata": {},
   "source": [
    "Перше - це радість від створення, будування чогось своїми руками, точніше розумом. Як дитина захоплюється лего чи замками з піску, так і дорослий захоплюється будуванням чогось, особливо коли це щось створено за його/її власним дизайном. Я думаю що така радість подібна радості Бога коли він творить, радості, що відображена у неповторності кожного листка і сніжинки.\n",
    "\n",
    "Друге - насолода від створення чогось корисного для інших. Глибоко в душі ми хочемо щоб люди користувалися нашою роботою і знаходили її корисною. З цієї точки зору програмування \n",
    "\n",
    "# 1. Вступ до програмування\n",
    "### Алгоритми\n",
    "Програмування то є написання алгоритмів на певній мові програмування.  \n",
    "Алгоритм то є рецепт, інструкція як виконати якусь задачу.  \n",
    "Рецепт борщу - то алгоритм який виконує людина.  \n",
    "Месенджер (Телеграм, Вотсап, тощо) - то алгоритм який виконує комп’ютер, в якому на певних мовах прописано як шифрувати повідомлення, передавати їх по інтернету і як працювати зі стікерами.\n",
    "\n",
    "Ключова особливість комп’ютерних алгоритмів полягає у тому що вони мають бути ідеально точними (у більшості випадків). Якщо в рецепті борщу буде пункт “купити курку” людина скоріше за все купить філе чи гомілку, а комп'ютерна програма може вам принести живу курку чи нічого не зрозуміти якщо ви їй дасте таку неоднозначну команду у алгоритмі.\n",
    "### Відмінність програмування від математики\n",
    "У математиці ми вчимося створювати і виконувати алгоритми - наприклад, алгоритм як розв'язати квадратне рівняння, як побудувати графік функції і таке інше.  \n",
    "У програмуванні ми вчимося створювати алгоритми, а виконують їх комп'ютери, а не люди.  \n",
    "Тобто виконавці різні, але і там і там необхідне алгоритмічне мислення, покрокове розуміння певних рецептів, але таке мислення більше проявляється саме у програмуванні, принаймні якщо порівнювати програмування проти математики шкільного рівня.  \n",
    "Але якщо у школі вам добре давалася математика чи фізика то ви матимете перевагу у вивченні програмування.\n",
    "### Вгадування наміру\n",
    "Люди навкого вас здебільшого самі розуміють що ви мали на увазі, навіть якщо ви не кажете того явним чином.\n",
    "Наприклад, якщо студент спитає друга-одногрупника на парі чи є у того ручка, то він не очікує отримати просто відповідь “так”, він очікує що друг поділиться запасною ручкою.  \n",
    "Якщо ви питаєте \"чи не підкажете котра година?\", ви також не чекаєте відповідь \"так\".  \n",
    "А комп'ютерна програма зазвичай не буде сама вгадувати що ви мали на увазі якщо ви самостійно того не запрограмуєте.\n",
    "### Машине навчання\n",
    "Є ціла сфера машинного навчання де програми іноді вчать вгадувати що люди мали на увазі, але то окрема сфера і до традиційного програмування малозастовна. У цьому курсі ми не будемо розглядати машинне навчання."
   ]
  },
  {
   "cell_type": "markdown",
   "id": "b8bfbb36",
   "metadata": {},
   "source": [
    "### Приклад - тренер арифметики\n",
    "Якщо ви ніколи не вчили програмування то ви зможете лише дуже приблизно зрозуміти що відбувається у цій програмі. Це нормально, я просто хочу показати якусь приблизно корисну програму, а не пояснити усі деталі."
   ]
  },
  {
   "cell_type": "code",
   "execution_count": 3,
   "id": "2247704f",
   "metadata": {},
   "outputs": [
    {
     "name": "stdout",
     "output_type": "stream",
     "text": [
      "1 + 17 = 1\n",
      "спробуй ще\n",
      "\n",
      "4 + 2 = 1\n",
      "спробуй ще\n",
      "\n",
      "18 + 17 = 35\n",
      "молодець\n",
      "\n",
      "11 + 7 = 18\n",
      "молодець\n",
      "\n",
      "13 + 12 = в\n",
      "тренування закінчено\n"
     ]
    }
   ],
   "source": [
    "import random\n",
    "\n",
    "while True:\n",
    "    # randint = random integer = випадкове ціле (число)\n",
    "    перший_доданок = random.randint(1, 20)\n",
    "    другий_доданок = random.randint(1, 20)\n",
    "\n",
    "    приклад_як_строка = f'{перший_доданок} + {другий_доданок} = '\n",
    "    # breakpoint - точка зупинки\n",
    "    відповідь_користувача = input(приклад_як_строка)\n",
    "    if відповідь_користувача == 'в':\n",
    "        print('тренування закінчено')\n",
    "        break\n",
    "\n",
    "    відповідь_користувача = int(відповідь_користувача)\n",
    "    правильна_відповідь = перший_доданок + другий_доданок\n",
    "    if відповідь_користувача == правильна_відповідь:\n",
    "        print('молодець')\n",
    "    else:\n",
    "        print('спробуй ще')\n",
    "    print()"
   ]
  },
  {
   "cell_type": "markdown",
   "id": "641851f2",
   "metadata": {},
   "source": [
    "Програмування - то розуміння окремих інструкцій і здатність зібрати послідовність з тих інструкцій."
   ]
  },
  {
   "cell_type": "markdown",
   "id": "4e432f52",
   "metadata": {},
   "source": [
    "What delights may its practitioner expect as his reward?\n",
    "\n",
    "First is the sheer joy of making things. As the child delights in his mud pie, so the adult enjoys building things, especially things of his own design. I think this delight must be an image of God's delight in making things, a delight shown in the distinctiveness of each leaf and each snowflake.\n",
    "\n",
    "Second is the pleasure of making things that are useful to other people.Deep within, we want others to use our work and to find it helpful. In this respect the programming system is not essentially different from the child's first clay pencil holder \"for Daddy's office.\"\n",
    "\n",
    "Third is the fascination of fashioning complex puzzle-like objects of interlocking moving parts and watching them work in subtle cycles, playing out the consequences of principles built in from the beginning. The programmed computer has all the fascination of the pinball machine or the jukebox mechanism, carried to the ultimate.\n",
    "\n",
    "Fourth is the joy of always learning, which springs from the nonrepeating nature of the task. In one way or another the problem is ever new, and its solver learns something: sometimes practical, sometimes theoretical, and sometimes both.\n",
    "\n",
    "Finally, there is the delight of working in such a tractable medium. The programmer, like the poet, works only slightly removed from pure thought-stuff. He builds his castles in the air, from air, creating by exertion of the imagination. Few media of creation are so flexible, so easy to polish and rework, so readily capable of realizing grand conceptual structures. (...) Yet the program construct, unlike the poet's words, is real in the sense that it moves and works, producing visible outputs separately from the construct itself. It prints results, draws pictures, produces sounds, moves arms. The magic of myth and legend has come true in our time. One types the correct incantation on a keyboard, and a display screen comes to life, showing things that never were nor could be.\n",
    "\n",
    "Programming then is fun because it gratifies creative longings built deep within us and delights sensibilities we have in common with all men."
   ]
  }
 ],
 "metadata": {
  "kernelspec": {
   "display_name": "Python 3 (ipykernel)",
   "language": "python",
   "name": "python3"
  },
  "language_info": {
   "codemirror_mode": {
    "name": "ipython",
    "version": 3
   },
   "file_extension": ".py",
   "mimetype": "text/x-python",
   "name": "python",
   "nbconvert_exporter": "python",
   "pygments_lexer": "ipython3",
   "version": "3.9.7"
  }
 },
 "nbformat": 4,
 "nbformat_minor": 5
}
