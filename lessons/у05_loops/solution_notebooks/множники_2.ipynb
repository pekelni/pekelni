{
    "cells": [
        {
            "cell_type": "code",
            "execution_count": 666,
            "metadata": {},
            "outputs": [],
            "source": [
                "число = int(input('Введіть ціле додатнє число: '))\n",
                "рядок_з_множниками = ''\n",
                "for множник in range(2, число + 1):\n",
                "    while число % множник == 0:\n",
                "        число //= множник\n",
                "        рядок_з_множниками += str(множник) + ' '\n",
                "    if число == 1:\n",
                "        break\n",
                "print(рядок_з_множниками)"
            ]
        }
    ],
    "metadata": {
        "kernelspec": {
            "display_name": "Python 3",
            "language": "python",
            "name": "python3"
        },
        "language_info": {
            "codemirror_mode": {
                "name": "ipython",
                "version": 3
            },
            "file_extension": ".py",
            "mimetype": "text/x-python",
            "name": "python",
            "nbconvert_exporter": "python",
            "pygments_lexer": "ipython3",
            "version": "3.8.11"
        }
    },
    "nbformat": 4,
    "nbformat_minor": 5
}