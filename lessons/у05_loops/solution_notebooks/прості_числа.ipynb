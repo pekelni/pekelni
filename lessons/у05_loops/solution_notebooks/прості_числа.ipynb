{
    "cells": [
        {
            "cell_type": "code",
            "execution_count": 666,
            "metadata": {},
            "outputs": [],
            "source": [
                "рядок, лічильник_чисел_у_рядку = '', 0\n",
                "for число in range(2, 1001):\n",
                "    просте = True\n",
                "    for дільник in range(2, число):\n",
                "        if число % дільник == 0:\n",
                "            просте = False\n",
                "            break\n",
                "    if not просте:\n",
                "        continue\n",
                "    рядок += str(число) + ' '\n",
                "    лічильник_чисел_у_рядку += 1\n",
                "    if лічильник_чисел_у_рядку == 15:\n",
                "        print(рядок)\n",
                "        рядок, лічильник_чисел_у_рядку = '', 0\n",
                "\n",
                "if рядок:\n",
                "    print(рядок)"
            ]
        }
    ],
    "metadata": {
        "kernelspec": {
            "display_name": "Python 3",
            "language": "python",
            "name": "python3"
        },
        "language_info": {
            "codemirror_mode": {
                "name": "ipython",
                "version": 3
            },
            "file_extension": ".py",
            "mimetype": "text/x-python",
            "name": "python",
            "nbconvert_exporter": "python",
            "pygments_lexer": "ipython3",
            "version": "3.8.11"
        }
    },
    "nbformat": 4,
    "nbformat_minor": 5
}