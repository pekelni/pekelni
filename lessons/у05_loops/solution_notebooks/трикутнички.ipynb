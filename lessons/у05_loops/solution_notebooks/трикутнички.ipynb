{
    "cells": [
        {
            "cell_type": "code",
            "execution_count": 666,
            "metadata": {},
            "outputs": [],
            "source": [
                "довжина_сторони = 7\n",
                "\n",
                "for i in range(довжина_сторони, 0, -1):\n",
                "    print('*' * i)\n",
                "\n",
                "print()\n",
                "for i in range(1, довжина_сторони + 1):\n",
                "    print('*' * i)"
            ]
        }
    ],
    "metadata": {
        "kernelspec": {
            "display_name": "Python 3",
            "language": "python",
            "name": "python3"
        },
        "language_info": {
            "codemirror_mode": {
                "name": "ipython",
                "version": 3
            },
            "file_extension": ".py",
            "mimetype": "text/x-python",
            "name": "python",
            "nbconvert_exporter": "python",
            "pygments_lexer": "ipython3",
            "version": "3.8.11"
        }
    },
    "nbformat": 4,
    "nbformat_minor": 5
}