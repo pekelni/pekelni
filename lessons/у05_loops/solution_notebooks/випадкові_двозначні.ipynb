{
    "cells": [
        {
            "cell_type": "code",
            "execution_count": 666,
            "metadata": {},
            "outputs": [],
            "source": [
                "import random\n",
                "\n",
                "рядок_з_числами = ''\n",
                "for i in range(20):\n",
                "    перша_цифра = random.randint(1, 9)\n",
                "    друга_цифра = перша_цифра\n",
                "    while перша_цифра == друга_цифра:\n",
                "        друга_цифра = random.randint(0, 9)\n",
                "    число = перша_цифра * 10 + друга_цифра\n",
                "    рядок_з_числами += str(число) + ' '\n",
                "\n",
                "print(рядок_з_числами)"
            ]
        }
    ],
    "metadata": {
        "kernelspec": {
            "display_name": "Python 3",
            "language": "python",
            "name": "python3"
        },
        "language_info": {
            "codemirror_mode": {
                "name": "ipython",
                "version": 3
            },
            "file_extension": ".py",
            "mimetype": "text/x-python",
            "name": "python",
            "nbconvert_exporter": "python",
            "pygments_lexer": "ipython3",
            "version": "3.8.11"
        }
    },
    "nbformat": 4,
    "nbformat_minor": 5
}