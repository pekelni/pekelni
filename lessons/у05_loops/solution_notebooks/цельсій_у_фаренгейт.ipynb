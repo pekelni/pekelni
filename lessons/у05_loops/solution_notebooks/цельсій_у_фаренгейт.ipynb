{
    "cells": [
        {
            "cell_type": "code",
            "execution_count": 666,
            "metadata": {},
            "outputs": [],
            "source": [
                "довжина_рядку = 15\n",
                "for цельсій in range(-10, 30):\n",
                "    фаренгейт = round(цельсій * 9 / 5 + 32, 1)\n",
                "    фаренгейт = str(фаренгейт) + ' F'\n",
                "    if цельсій >= 0:\n",
                "        цельсій = ' ' + str(цельсій) + ' C'\n",
                "    else:\n",
                "        цельсій = str(цельсій) + ' C'\n",
                "    кількість_пробілів = довжина_рядку - len(str(цельсій)) - len(str(фаренгейт))\n",
                "    print(цельсій + ' ' * кількість_пробілів + фаренгейт)"
            ]
        }
    ],
    "metadata": {
        "kernelspec": {
            "display_name": "Python 3",
            "language": "python",
            "name": "python3"
        },
        "language_info": {
            "codemirror_mode": {
                "name": "ipython",
                "version": 3
            },
            "file_extension": ".py",
            "mimetype": "text/x-python",
            "name": "python",
            "nbconvert_exporter": "python",
            "pygments_lexer": "ipython3",
            "version": "3.8.11"
        }
    },
    "nbformat": 4,
    "nbformat_minor": 5
}