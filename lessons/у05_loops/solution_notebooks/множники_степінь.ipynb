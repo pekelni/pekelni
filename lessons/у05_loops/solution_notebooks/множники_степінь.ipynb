{
    "cells": [
        {
            "cell_type": "code",
            "execution_count": 666,
            "metadata": {},
            "outputs": [],
            "source": [
                "число = int(input('Введіть ціле додатнє число: '))\n",
                "for множник in range(2, число + 1):\n",
                "    степінь = 0\n",
                "    while число % множник == 0:\n",
                "        число //= множник\n",
                "        степінь += 1\n",
                "    if степінь:\n",
                "        степінь = f'**{степінь}' if степінь > 1 else ''\n",
                "        print(f'{множник}{степінь}', end=' ')\n",
                "    if число == 1:\n",
                "        break"
            ]
        }
    ],
    "metadata": {
        "kernelspec": {
            "display_name": "Python 3",
            "language": "python",
            "name": "python3"
        },
        "language_info": {
            "codemirror_mode": {
                "name": "ipython",
                "version": 3
            },
            "file_extension": ".py",
            "mimetype": "text/x-python",
            "name": "python",
            "nbconvert_exporter": "python",
            "pygments_lexer": "ipython3",
            "version": "3.8.11"
        }
    },
    "nbformat": 4,
    "nbformat_minor": 5
}