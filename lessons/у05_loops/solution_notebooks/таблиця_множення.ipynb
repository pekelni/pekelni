{
    "cells": [
        {
            "cell_type": "code",
            "execution_count": 666,
            "metadata": {},
            "outputs": [],
            "source": [
                "ПОЧАТОК_ДРУГОЇ_КОЛОНКИ = 17\n",
                "\n",
                "for i in range(1, 6):\n",
                "    for j in range(1, 11):\n",
                "        перший_приклад = f'{i} * {j} = {i * j}'\n",
                "        пробіли = ' ' * (ПОЧАТОК_ДРУГОЇ_КОЛОНКИ - len(перший_приклад))\n",
                "\n",
                "        друге_і = i + 5\n",
                "        другий_приклад = f'{друге_і} * {j} = {друге_і * j}'\n",
                "        print(перший_приклад + пробіли + другий_приклад)\n",
                "    print()"
            ]
        }
    ],
    "metadata": {
        "kernelspec": {
            "display_name": "Python 3",
            "language": "python",
            "name": "python3"
        },
        "language_info": {
            "codemirror_mode": {
                "name": "ipython",
                "version": 3
            },
            "file_extension": ".py",
            "mimetype": "text/x-python",
            "name": "python",
            "nbconvert_exporter": "python",
            "pygments_lexer": "ipython3",
            "version": "3.8.11"
        }
    },
    "nbformat": 4,
    "nbformat_minor": 5
}