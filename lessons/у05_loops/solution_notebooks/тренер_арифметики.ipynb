{
    "cells": [
        {
            "cell_type": "code",
            "execution_count": 666,
            "metadata": {},
            "outputs": [],
            "source": [
                "import random\n",
                "import time\n",
                "\n",
                "КІЛЬКІСТЬ_ПИТАНЬ = 6\n",
                "\n",
                "лічильник_правильних = 0\n",
                "початок = time.time()\n",
                "\n",
                "for номер_прикладу in range(КІЛЬКІСТЬ_ПИТАНЬ):\n",
                "    доданок_0 = random.randint(1, 50)\n",
                "    доданок_1 = random.randint(1, 50)\n",
                "    правильна_відповідь = доданок_0 + доданок_1\n",
                "    питання_для_користувача = f'#{номер_прикладу + 1}/{КІЛЬКІСТЬ_ПИТАНЬ} {доданок_0} + {доданок_1} = '\n",
                "    відповідь_користувача = int(input(питання_для_користувача))\n",
                "    if відповідь_користувача == правильна_відповідь:\n",
                "        лічильник_правильних += 1\n",
                "        print('Правильно')\n",
                "    else:\n",
                "        print('Зрада, правильна відповідь була ' + str(правильна_відповідь))\n",
                "    print()\n",
                "\n",
                "тривалість = round(time.time() - початок)\n",
                "відсоток_правильних = round(лічильник_правильних / КІЛЬКІСТЬ_ПИТАНЬ * 100)\n",
                "\n",
                "print(f'Ви правильно вирішили {відсоток_правильних}% запитань за {тривалість} секунд')"
            ]
        }
    ],
    "metadata": {
        "kernelspec": {
            "display_name": "Python 3",
            "language": "python",
            "name": "python3"
        },
        "language_info": {
            "codemirror_mode": {
                "name": "ipython",
                "version": 3
            },
            "file_extension": ".py",
            "mimetype": "text/x-python",
            "name": "python",
            "nbconvert_exporter": "python",
            "pygments_lexer": "ipython3",
            "version": "3.8.11"
        }
    },
    "nbformat": 4,
    "nbformat_minor": 5
}