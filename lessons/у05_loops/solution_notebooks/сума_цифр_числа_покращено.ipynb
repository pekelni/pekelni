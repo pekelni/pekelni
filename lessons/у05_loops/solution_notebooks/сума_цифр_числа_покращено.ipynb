{
    "cells": [
        {
            "cell_type": "code",
            "execution_count": 666,
            "metadata": {},
            "outputs": [],
            "source": [
                "число = int(input('Введіть число: '))\n",
                "сума_цифр = 0\n",
                "лічильник = 0\n",
                "\n",
                "while число:\n",
                "    цифра = число % 10\n",
                "    сума_цифр += цифра\n",
                "    лічильник += 1\n",
                "    print(f'Сума перших {лічильник} цифр: {сума_цифр}')\n",
                "    число //= 10\n",
                "\n",
                "print(f'Фінальна сума цифр: {сума_цифр}')"
            ]
        }
    ],
    "metadata": {
        "kernelspec": {
            "display_name": "Python 3",
            "language": "python",
            "name": "python3"
        },
        "language_info": {
            "codemirror_mode": {
                "name": "ipython",
                "version": 3
            },
            "file_extension": ".py",
            "mimetype": "text/x-python",
            "name": "python",
            "nbconvert_exporter": "python",
            "pygments_lexer": "ipython3",
            "version": "3.8.11"
        }
    },
    "nbformat": 4,
    "nbformat_minor": 5
}