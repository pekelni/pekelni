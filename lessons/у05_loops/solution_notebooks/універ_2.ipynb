{
    "cells": [
        {
            "cell_type": "code",
            "execution_count": 666,
            "metadata": {},
            "outputs": [],
            "source": [
                "РІЧНИЙ_МНОЖНИК = 1.038\n",
                "поточна_річна_ціна = 50_000 * РІЧНИЙ_МНОЖНИК ** 10\n",
                "\n",
                "сумарна_плата_через_10_років = 0\n",
                "for _ in range(4):\n",
                "    сумарна_плата_через_10_років += поточна_річна_ціна\n",
                "    поточна_річна_ціна *= РІЧНИЙ_МНОЖНИК\n",
                "\n",
                "print(f'Сумарна плата через 10 років складатиме: ${int(сумарна_плата_через_10_років)}')"
            ]
        }
    ],
    "metadata": {
        "kernelspec": {
            "display_name": "Python 3",
            "language": "python",
            "name": "python3"
        },
        "language_info": {
            "codemirror_mode": {
                "name": "ipython",
                "version": 3
            },
            "file_extension": ".py",
            "mimetype": "text/x-python",
            "name": "python",
            "nbconvert_exporter": "python",
            "pygments_lexer": "ipython3",
            "version": "3.8.11"
        }
    },
    "nbformat": 4,
    "nbformat_minor": 5
}