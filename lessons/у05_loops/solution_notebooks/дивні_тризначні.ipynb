{
    "cells": [
        {
            "cell_type": "code",
            "execution_count": 666,
            "metadata": {},
            "outputs": [],
            "source": [
                "рядок_з_числами, лічильник = '', 0\n",
                "for цифра_1 in range(1, 5):\n",
                "    if цифра_1 == 3:\n",
                "        continue\n",
                "    for цифра_2 in range(5):\n",
                "        if цифра_2 == 3:\n",
                "            continue\n",
                "        for цифра_3 in range(5):\n",
                "            if цифра_3 == 3:\n",
                "                continue\n",
                "            лічильник += 1\n",
                "            рядок_з_числами += str(цифра_1) + str(цифра_2) + str(цифра_3) + ' '\n",
                "            if лічильник >= 10:\n",
                "                print(рядок_з_числами)\n",
                "                рядок_з_числами, лічильник = '', 0\n",
                "\n",
                "if рядок_з_числами:\n",
                "    print(рядок_з_числами)"
            ]
        }
    ],
    "metadata": {
        "kernelspec": {
            "display_name": "Python 3",
            "language": "python",
            "name": "python3"
        },
        "language_info": {
            "codemirror_mode": {
                "name": "ipython",
                "version": 3
            },
            "file_extension": ".py",
            "mimetype": "text/x-python",
            "name": "python",
            "nbconvert_exporter": "python",
            "pygments_lexer": "ipython3",
            "version": "3.8.11"
        }
    },
    "nbformat": 4,
    "nbformat_minor": 5
}