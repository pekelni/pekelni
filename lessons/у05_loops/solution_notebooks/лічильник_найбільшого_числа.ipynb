{
    "cells": [
        {
            "cell_type": "code",
            "execution_count": 666,
            "metadata": {},
            "outputs": [],
            "source": [
                "найбільше_число, лічильник = None, 0\n",
                "while True:\n",
                "    число = input('')\n",
                "    if not число:\n",
                "        break\n",
                "    число = int(число)\n",
                "    if not найбільше_число or число > найбільше_число:\n",
                "        найбільше_число = число\n",
                "        лічильник = 1\n",
                "    elif найбільше_число == число:\n",
                "        лічильник += 1\n",
                "\n",
                "print(f'Найбільше число: {найбільше_число}, зустрілося {лічильник} разів')"
            ]
        }
    ],
    "metadata": {
        "kernelspec": {
            "display_name": "Python 3",
            "language": "python",
            "name": "python3"
        },
        "language_info": {
            "codemirror_mode": {
                "name": "ipython",
                "version": 3
            },
            "file_extension": ".py",
            "mimetype": "text/x-python",
            "name": "python",
            "nbconvert_exporter": "python",
            "pygments_lexer": "ipython3",
            "version": "3.8.11"
        }
    },
    "nbformat": 4,
    "nbformat_minor": 5
}