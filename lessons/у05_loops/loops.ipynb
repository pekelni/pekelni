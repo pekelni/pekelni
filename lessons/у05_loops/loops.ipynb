{
 "cells": [
  {
   "cell_type": "code",
   "execution_count": 2,
   "id": "83fb5c03",
   "metadata": {},
   "outputs": [
    {
     "name": "stdout",
     "output_type": "stream",
     "text": [
      "0\n",
      "1\n",
      "2\n",
      "3\n",
      "4\n",
      "5\n",
      "6\n",
      "7\n",
      "8\n",
      "9\n"
     ]
    }
   ],
   "source": [
    "for i in range(10):\n",
    "    print(i)"
   ]
  },
  {
   "cell_type": "code",
   "execution_count": 3,
   "id": "fbcfa677",
   "metadata": {},
   "outputs": [
    {
     "name": "stdout",
     "output_type": "stream",
     "text": [
      "hello\n",
      "hello\n",
      "hello\n",
      "hello\n",
      "hello\n",
      "hello\n",
      "hello\n",
      "hello\n",
      "hello\n",
      "hello\n"
     ]
    }
   ],
   "source": [
    "for i in range(10):\n",
    "    print('hello')"
   ]
  },
  {
   "cell_type": "code",
   "execution_count": 4,
   "id": "fadc5f1f",
   "metadata": {},
   "outputs": [
    {
     "name": "stdout",
     "output_type": "stream",
     "text": [
      "hello 0\n",
      "hello 1\n",
      "hello 2\n",
      "hello 3\n",
      "hello 4\n",
      "hello 5\n",
      "hello 6\n",
      "hello 7\n",
      "hello 8\n",
      "hello 9\n"
     ]
    }
   ],
   "source": [
    "for i in range(10):\n",
    "    print('hello', i)"
   ]
  },
  {
   "cell_type": "code",
   "execution_count": 8,
   "id": "a5d022da",
   "metadata": {},
   "outputs": [
    {
     "name": "stdout",
     "output_type": "stream",
     "text": [
      "summa 0 0\n",
      "summa 1 1\n",
      "summa 2 3\n",
      "summa 3 6\n",
      "summa 4 10\n"
     ]
    }
   ],
   "source": [
    "summa = 0\n",
    "for i in range(5):\n",
    "    summa += i\n",
    "    print('summa', i, summa)"
   ]
  },
  {
   "cell_type": "code",
   "execution_count": 9,
   "id": "d023401a",
   "metadata": {},
   "outputs": [
    {
     "name": "stdout",
     "output_type": "stream",
     "text": [
      "privet\n",
      "privet\n",
      "lol\n"
     ]
    }
   ],
   "source": [
    "for i in range(2):\n",
    "    print('privet')\n",
    "print('lol')"
   ]
  },
  {
   "cell_type": "code",
   "execution_count": 10,
   "id": "00d92062",
   "metadata": {},
   "outputs": [
    {
     "name": "stdout",
     "output_type": "stream",
     "text": [
      "privet\n",
      "lol\n",
      "privet\n",
      "lol\n"
     ]
    }
   ],
   "source": [
    "for i in range(2):\n",
    "    print('privet')\n",
    "    print('lol')"
   ]
  },
  {
   "cell_type": "code",
   "execution_count": 11,
   "id": "7ca0d35e",
   "metadata": {},
   "outputs": [
    {
     "name": "stdout",
     "output_type": "stream",
     "text": [
      "0\n",
      "2\n",
      "4\n",
      "6\n",
      "8\n"
     ]
    }
   ],
   "source": [
    "for i in range(10):\n",
    "    if i % 2 == 0:\n",
    "        print(i)"
   ]
  },
  {
   "cell_type": "code",
   "execution_count": 12,
   "id": "3be737d6",
   "metadata": {},
   "outputs": [
    {
     "name": "stdout",
     "output_type": "stream",
     "text": [
      "1\n",
      "3\n",
      "5\n",
      "7\n",
      "9\n"
     ]
    }
   ],
   "source": [
    "for i in range(10):\n",
    "    if i % 2 == 1:\n",
    "        print(i)"
   ]
  },
  {
   "cell_type": "code",
   "execution_count": 13,
   "id": "4550d485",
   "metadata": {},
   "outputs": [],
   "source": [
    "for i in range(10):\n",
    "    if i % 2 == 10:\n",
    "        print(i)"
   ]
  },
  {
   "cell_type": "code",
   "execution_count": 15,
   "id": "4bee23d8",
   "metadata": {},
   "outputs": [
    {
     "name": "stdout",
     "output_type": "stream",
     "text": [
      "парне 0\n",
      "непарте 1\n",
      "парне 2\n",
      "непарте 3\n",
      "парне 4\n",
      "непарте 5\n",
      "парне 6\n",
      "непарте 7\n",
      "парне 8\n",
      "непарте 9\n"
     ]
    }
   ],
   "source": [
    "for i in range(10):\n",
    "    if i % 2 == 1:\n",
    "        print('непарте', i)\n",
    "    else:\n",
    "        print('парне', i)"
   ]
  },
  {
   "cell_type": "code",
   "execution_count": 16,
   "id": "45961f50",
   "metadata": {},
   "outputs": [
    {
     "name": "stdout",
     "output_type": "stream",
     "text": [
      "мало 0\n",
      "мало 1\n",
      "мало 2\n",
      "мало 3\n",
      "мало 4\n",
      "мало 5\n",
      "мало 6\n",
      "мало 7\n",
      "мало 8\n",
      "мало 9\n"
     ]
    }
   ],
   "source": [
    "for i in range(10):\n",
    "    if i < 90:\n",
    "        print('мало', i)\n",
    "    else:\n",
    "        print('багато', i)"
   ]
  },
  {
   "cell_type": "code",
   "execution_count": 17,
   "id": "c7e5716a",
   "metadata": {},
   "outputs": [
    {
     "name": "stdout",
     "output_type": "stream",
     "text": [
      "мало 0\n",
      "мало 1\n",
      "мало 2\n",
      "мало 3\n",
      "мало 4\n",
      "багато 5\n",
      "багато 6\n",
      "багато 7\n",
      "багато 8\n",
      "багато 9\n"
     ]
    }
   ],
   "source": [
    "for i in range(10):\n",
    "    if i < 5:\n",
    "        print('мало', i)\n",
    "    else:\n",
    "        print('багато', i)"
   ]
  },
  {
   "cell_type": "code",
   "execution_count": 18,
   "id": "5c379461",
   "metadata": {},
   "outputs": [
    {
     "name": "stdout",
     "output_type": "stream",
     "text": [
      "0 0\n",
      "0 1\n",
      "0 2\n",
      "1 0\n",
      "1 1\n",
      "1 2\n",
      "2 0\n",
      "2 1\n",
      "2 2\n"
     ]
    }
   ],
   "source": [
    "for i in range(3):\n",
    "    for j in range(3):\n",
    "        print(i, j)"
   ]
  },
  {
   "cell_type": "code",
   "execution_count": 19,
   "id": "3c02638f",
   "metadata": {},
   "outputs": [
    {
     "name": "stdout",
     "output_type": "stream",
     "text": [
      "1\n",
      "2\n"
     ]
    }
   ],
   "source": [
    "print(1)\n",
    "print(2)"
   ]
  },
  {
   "cell_type": "code",
   "execution_count": 21,
   "id": "03b5761d",
   "metadata": {},
   "outputs": [
    {
     "name": "stdout",
     "output_type": "stream",
     "text": [
      "1 2 "
     ]
    }
   ],
   "source": [
    "print(1, end=' ')\n",
    "print(2, end=' ')"
   ]
  },
  {
   "cell_type": "code",
   "execution_count": 27,
   "id": "22161dea",
   "metadata": {},
   "outputs": [
    {
     "name": "stdout",
     "output_type": "stream",
     "text": [
      "0 1 2 3 4 кінець циклу\n",
      "0 1 2 3 4 кінець циклу\n",
      "0 1 2 3 4 кінець циклу\n",
      "0 1 2 3 4 кінець циклу\n",
      "0 1 2 3 4 кінець циклу\n",
      "0 1 2 3 4 кінець циклу\n",
      "0 1 2 3 4 кінець циклу\n",
      "0 1 2 3 4 кінець циклу\n",
      "0 1 2 3 4 кінець циклу\n",
      "0 1 2 3 4 кінець циклу\n"
     ]
    }
   ],
   "source": [
    "for i in range(10):\n",
    "    for j in range(5):\n",
    "        print(j, end=' ')\n",
    "    print('кінець циклу')"
   ]
  },
  {
   "cell_type": "code",
   "execution_count": 29,
   "id": "22629870",
   "metadata": {},
   "outputs": [
    {
     "name": "stdout",
     "output_type": "stream",
     "text": [
      "кінець циклу\n",
      "0 кінець циклу\n",
      "0 1 кінець циклу\n",
      "0 1 2 кінець циклу\n",
      "0 1 2 3 кінець циклу\n",
      "0 1 2 3 4 кінець циклу\n",
      "0 1 2 3 4 5 кінець циклу\n",
      "0 1 2 3 4 5 6 кінець циклу\n",
      "0 1 2 3 4 5 6 7 кінець циклу\n",
      "0 1 2 3 4 5 6 7 8 кінець циклу\n"
     ]
    }
   ],
   "source": [
    "for i in range(10):\n",
    "    for j in range(i):\n",
    "        print(j, end=' ')\n",
    "    print('кінець циклу')"
   ]
  },
  {
   "cell_type": "code",
   "execution_count": 32,
   "id": "4d44783d",
   "metadata": {},
   "outputs": [
    {
     "name": "stdout",
     "output_type": "stream",
     "text": [
      "0 1 2 3 4 5 6 7 8 9 кінець циклу\n"
     ]
    }
   ],
   "source": [
    "for j in range(10):\n",
    "    print(j, end=' ')\n",
    "print('кінець циклу')"
   ]
  },
  {
   "cell_type": "code",
   "execution_count": 35,
   "id": "9351ef21",
   "metadata": {},
   "outputs": [
    {
     "name": "stdout",
     "output_type": "stream",
     "text": [
      "кінець циклу\n",
      "0 кінець циклу\n",
      "0 1 кінець циклу\n",
      "0 1 2 кінець циклу\n",
      "0 1 2 3 кінець циклу\n"
     ]
    }
   ],
   "source": [
    "for i in range(5):\n",
    "    for j in range(10):\n",
    "        print(j, end=' ')\n",
    "    print('кінець циклу')"
   ]
  },
  {
   "cell_type": "code",
   "execution_count": 37,
   "id": "fc481780",
   "metadata": {},
   "outputs": [
    {
     "name": "stdout",
     "output_type": "stream",
     "text": [
      "0 1 2 3 4 кінець циклу\n",
      "0 1 2 3 4 5 6 7 8 9 кінець циклу\n"
     ]
    }
   ],
   "source": [
    "for i in range(5):\n",
    "    print(i, end=' ')\n",
    "print('кінець циклу')\n",
    "\n",
    "for i in range(10):\n",
    "    print(i, end=' ')\n",
    "print('кінець циклу')"
   ]
  },
  {
   "cell_type": "code",
   "execution_count": 38,
   "id": "bf0b6f58",
   "metadata": {},
   "outputs": [
    {
     "name": "stdout",
     "output_type": "stream",
     "text": [
      "0\n"
     ]
    }
   ],
   "source": [
    "for i in range(5):\n",
    "    print(i)\n",
    "    break  # зупинка циклу"
   ]
  },
  {
   "cell_type": "code",
   "execution_count": 40,
   "id": "7fe9eb02",
   "metadata": {},
   "outputs": [
    {
     "name": "stdout",
     "output_type": "stream",
     "text": [
      "0\n",
      "1\n",
      "2\n",
      "3\n"
     ]
    }
   ],
   "source": [
    "for i in range(5):\n",
    "    print(i)\n",
    "    if i > 2:\n",
    "        break  # зупинка циклу"
   ]
  },
  {
   "cell_type": "code",
   "execution_count": 41,
   "id": "d6cea540",
   "metadata": {},
   "outputs": [
    {
     "name": "stdout",
     "output_type": "stream",
     "text": [
      "0\n",
      "1\n",
      "3\n",
      "4\n"
     ]
    }
   ],
   "source": [
    "for i in range(5):\n",
    "    if i == 2:\n",
    "        continue # перейти до наступної ітерації\n",
    "    print(i)"
   ]
  },
  {
   "cell_type": "code",
   "execution_count": 42,
   "id": "084f97be",
   "metadata": {},
   "outputs": [
    {
     "name": "stdout",
     "output_type": "stream",
     "text": [
      "1\n",
      "3\n",
      "5\n",
      "7\n",
      "9\n"
     ]
    }
   ],
   "source": [
    "for i in range(10):\n",
    "    if i % 2 == 0:\n",
    "        continue # перейти до наступної ітерації\n",
    "    print(i)"
   ]
  },
  {
   "cell_type": "code",
   "execution_count": 43,
   "id": "75d4851d",
   "metadata": {},
   "outputs": [
    {
     "name": "stdout",
     "output_type": "stream",
     "text": [
      "1\n",
      "3\n",
      "5\n",
      "7\n",
      "9\n"
     ]
    }
   ],
   "source": [
    "for i in range(10):\n",
    "    if i % 2 == 0:\n",
    "        pass  # нічого не робити\n",
    "    else:\n",
    "        print(i)"
   ]
  },
  {
   "cell_type": "code",
   "execution_count": 45,
   "id": "b648eef5",
   "metadata": {},
   "outputs": [
    {
     "name": "stdout",
     "output_type": "stream",
     "text": [
      "1\n",
      "aaa\n",
      "3\n",
      "aaa\n",
      "5\n",
      "aaa\n",
      "7\n",
      "aaa\n",
      "9\n",
      "aaa\n"
     ]
    }
   ],
   "source": [
    "for i in range(10):\n",
    "    if i % 2 == 0:\n",
    "        continue # перейти до наступної ітерації\n",
    "    print(i)\n",
    "    print('aaa')"
   ]
  },
  {
   "cell_type": "code",
   "execution_count": 46,
   "id": "d2095468",
   "metadata": {},
   "outputs": [],
   "source": [
    "for i in range(10):\n",
    "    if True:\n",
    "        continue # перейти до наступної ітерації\n",
    "    print(i)\n",
    "    print('aaa')"
   ]
  },
  {
   "cell_type": "code",
   "execution_count": 47,
   "id": "3ea4bfaa",
   "metadata": {},
   "outputs": [
    {
     "name": "stdout",
     "output_type": "stream",
     "text": [
      "10\n",
      "9\n",
      "8\n",
      "7\n",
      "6\n",
      "5\n",
      "4\n",
      "3\n",
      "2\n"
     ]
    }
   ],
   "source": [
    "a = 10\n",
    "while a > 1:\n",
    "    print(a)\n",
    "    a -= 1"
   ]
  },
  {
   "cell_type": "code",
   "execution_count": 48,
   "id": "1e0dc01e",
   "metadata": {},
   "outputs": [
    {
     "name": "stdout",
     "output_type": "stream",
     "text": [
      "10\n",
      "9\n",
      "8\n",
      "7\n",
      "6\n",
      "5\n",
      "4\n",
      "3\n",
      "2\n"
     ]
    }
   ],
   "source": [
    "a = 10\n",
    "while True:\n",
    "    print(a)\n",
    "    a -= 1\n",
    "    if a <= 1:\n",
    "        break"
   ]
  },
  {
   "cell_type": "code",
   "execution_count": 49,
   "id": "a2bd00c0",
   "metadata": {},
   "outputs": [
    {
     "name": "stdout",
     "output_type": "stream",
     "text": [
      "1\n",
      "10\n",
      "100\n",
      "1\n",
      "1\n",
      "1\n",
      "1\n",
      "1\n",
      "1\n",
      "1\n",
      "1\n",
      "1\n",
      "1\n",
      "1\n",
      "1\n",
      "12\n",
      "\n",
      "summa 135\n"
     ]
    }
   ],
   "source": [
    "summa = 0\n",
    "while True:\n",
    "    a = input()\n",
    "    if a:\n",
    "        a = int(a)\n",
    "        summa += a\n",
    "    else:\n",
    "        break\n",
    "print('summa', summa)"
   ]
  },
  {
   "cell_type": "code",
   "execution_count": 50,
   "id": "e84eada3",
   "metadata": {},
   "outputs": [
    {
     "name": "stdout",
     "output_type": "stream",
     "text": [
      "1\n",
      "1\n",
      "1\n",
      "10\n",
      "\n",
      "summa 13\n"
     ]
    }
   ],
   "source": [
    "summa = 0\n",
    "while True:\n",
    "    a = input()\n",
    "    if a:\n",
    "        a = int(a)\n",
    "        summa += a\n",
    "        continue\n",
    "    break\n",
    "print('summa', summa)"
   ]
  },
  {
   "cell_type": "code",
   "execution_count": 54,
   "id": "7a178a69",
   "metadata": {},
   "outputs": [
    {
     "name": "stdout",
     "output_type": "stream",
     "text": [
      "4\n",
      "aaaa7\n",
      "aaaaaaa10\n",
      "aaaaaaaaaa1\n",
      "a\n",
      "summa 22\n"
     ]
    }
   ],
   "source": [
    "summa = 0\n",
    "while True:\n",
    "    a = input()\n",
    "    if a:\n",
    "        a = int(a)\n",
    "        summa += a\n",
    "        for i in range(a):\n",
    "            print('a', end='')\n",
    "        continue\n",
    "    break\n",
    "print('summa', summa)"
   ]
  }
 ],
 "metadata": {
  "kernelspec": {
   "display_name": "Python 3",
   "language": "python",
   "name": "python3"
  },
  "language_info": {
   "codemirror_mode": {
    "name": "ipython",
    "version": 3
   },
   "file_extension": ".py",
   "mimetype": "text/x-python",
   "name": "python",
   "nbconvert_exporter": "python",
   "pygments_lexer": "ipython3",
   "version": "3.8.12"
  }
 },
 "nbformat": 4,
 "nbformat_minor": 5
}
