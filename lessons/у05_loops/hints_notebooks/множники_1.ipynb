{
 "cells": [
  {
   "cell_type": "markdown",
   "id": "bcaad040",
   "metadata": {},
   "source": [
    "Вам необхідно перебрати усі можливі множники і для кожного множника якщо число на нього ділиться, то цей множник треба вивести на екран, а також розділити число на нього. Чому? Бо якщо ви не виконаєте цього розділення, то для числа яке ділиться на 2 і 3 ви потім встановите що воно ділиться ще і на 6, але 6 - це не наймений множник. І ділення числа на кожен множник що ви знайшли збереже вас від цієї ситуації.\n",
    "\n",
    "Також не забувайте що число може ділитися на той самий множник кілька разів."
   ]
  }
 ],
 "metadata": {
  "kernelspec": {
   "display_name": "Python 3",
   "language": "python",
   "name": "python3"
  },
  "language_info": {
   "codemirror_mode": {
    "name": "ipython",
    "version": 3
   },
   "file_extension": ".py",
   "mimetype": "text/x-python",
   "name": "python",
   "nbconvert_exporter": "python",
   "pygments_lexer": "ipython3",
   "version": "3.8.11"
  }
 },
 "nbformat": 4,
 "nbformat_minor": 5
}
