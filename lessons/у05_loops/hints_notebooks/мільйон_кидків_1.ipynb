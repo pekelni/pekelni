{
 "cells": [
  {
   "cell_type": "markdown",
   "id": "8ccf1360",
   "metadata": {},
   "source": [
    "Очевидно, що вам необхідний `for` цикл який ітерується мільйон разів. Також вам необхідні змінні які пам'ятають яка сторона випада під час попереднього кидку, яка поточна довжина одноманітної послідовності (наприклад 0 або 5), який кидок найкращої одноманітнох послідовності і яка найкраща довжина одноманітної послідовності.\n",
    "\n",
    "Кожен раз коли поточний кидок не співпадає з попереднім, довжина поточної одноманітної послідовності знов стає 1. Коли співпадає - то збільшується на 1."
   ]
  }
 ],
 "metadata": {
  "kernelspec": {
   "display_name": "Python 3",
   "language": "python",
   "name": "python3"
  },
  "language_info": {
   "codemirror_mode": {
    "name": "ipython",
    "version": 3
   },
   "file_extension": ".py",
   "mimetype": "text/x-python",
   "name": "python",
   "nbconvert_exporter": "python",
   "pygments_lexer": "ipython3",
   "version": "3.8.11"
  }
 },
 "nbformat": 4,
 "nbformat_minor": 5
}
