{
 "cells": [
  {
   "cell_type": "markdown",
   "id": "99fd0e64",
   "metadata": {},
   "source": [
    "Ось код який фільтрує деякі трійки, але не усі. Доробіть його і додайте код для переносу рядку після того як ви надрукували 10 чисел."
   ]
  },
  {
   "cell_type": "code",
   "execution_count": 2,
   "id": "17f8eb07",
   "metadata": {},
   "outputs": [
    {
     "name": "stdout",
     "output_type": "stream",
     "text": [
      "100 101 102 104 110 111 112 114 120 121 122 124 130 131 132 134 140 141 142 144 200 201 202 204 210 211 212 214 220 221 222 224 230 231 232 234 240 241 242 244 300 301 302 304 310 311 312 314 320 321 322 324 330 331 332 334 340 341 342 344 400 401 402 404 410 411 412 414 420 421 422 424 430 431 432 434 440 441 442 444 "
     ]
    }
   ],
   "source": [
    "for цифра_1 in range(1, 5):\n",
    "    for цифра_2 in range(5):\n",
    "        for цифра_3 in range(5):\n",
    "            if цифра_3 == 3:\n",
    "                continue\n",
    "            print(str(цифра_1) + str(цифра_2) + str(цифра_3), end=' ')"
   ]
  }
 ],
 "metadata": {
  "kernelspec": {
   "display_name": "Python 3",
   "language": "python",
   "name": "python3"
  },
  "language_info": {
   "codemirror_mode": {
    "name": "ipython",
    "version": 3
   },
   "file_extension": ".py",
   "mimetype": "text/x-python",
   "name": "python",
   "nbconvert_exporter": "python",
   "pygments_lexer": "ipython3",
   "version": "3.8.11"
  }
 },
 "nbformat": 4,
 "nbformat_minor": 5
}
