{
 "cells": [
  {
   "cell_type": "markdown",
   "id": "2ff9d1a3",
   "metadata": {},
   "source": [
    "Тут ви можете націло ділити число на 10 допоки від число \"нічого\" не залишиться (тільки 0). А діставати конкретну цифру можна по аналогії з попереднім рішенням."
   ]
  }
 ],
 "metadata": {
  "kernelspec": {
   "display_name": "Python 3",
   "language": "python",
   "name": "python3"
  },
  "language_info": {
   "codemirror_mode": {
    "name": "ipython",
    "version": 3
   },
   "file_extension": ".py",
   "mimetype": "text/x-python",
   "name": "python",
   "nbconvert_exporter": "python",
   "pygments_lexer": "ipython3",
   "version": "3.8.11"
  }
 },
 "nbformat": 4,
 "nbformat_minor": 5
}
