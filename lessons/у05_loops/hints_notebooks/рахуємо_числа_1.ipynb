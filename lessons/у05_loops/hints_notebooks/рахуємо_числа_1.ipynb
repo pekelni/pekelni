{
 "cells": [
  {
   "cell_type": "markdown",
   "id": "e3aada24",
   "metadata": {},
   "source": [
    "Тут вам необхідно створити кілька змінних для збереження лічильників, далі використати цикл `while` (тому що ми наперед не знаємо скільки ітерацій нам доведеться виконати). У кожній ітерації приймайте ввід від користувача, якщо нічого не було введено то цикл треба припинити. Далі конвертуєте ввід і змінюєте лічильники відповідно до умов задачі."
   ]
  }
 ],
 "metadata": {
  "kernelspec": {
   "display_name": "Python 3",
   "language": "python",
   "name": "python3"
  },
  "language_info": {
   "codemirror_mode": {
    "name": "ipython",
    "version": 3
   },
   "file_extension": ".py",
   "mimetype": "text/x-python",
   "name": "python",
   "nbconvert_exporter": "python",
   "pygments_lexer": "ipython3",
   "version": "3.8.11"
  }
 },
 "nbformat": 4,
 "nbformat_minor": 5
}
