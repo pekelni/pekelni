{
 "cells": [
  {
   "cell_type": "markdown",
   "id": "8c6b8edb",
   "metadata": {},
   "source": [
    "Перші 10 років вам необхідно просто підвищувати ціну відповідно до річного множника, а наступні 4 роки необхідно підвищувати ціну відповідно до множника, а також \"накопичувати\" оплату у окрему змінну."
   ]
  }
 ],
 "metadata": {
  "kernelspec": {
   "display_name": "Python 3",
   "language": "python",
   "name": "python3"
  },
  "language_info": {
   "codemirror_mode": {
    "name": "ipython",
    "version": 3
   },
   "file_extension": ".py",
   "mimetype": "text/x-python",
   "name": "python",
   "nbconvert_exporter": "python",
   "pygments_lexer": "ipython3",
   "version": "3.8.11"
  }
 },
 "nbformat": 4,
 "nbformat_minor": 5
}
