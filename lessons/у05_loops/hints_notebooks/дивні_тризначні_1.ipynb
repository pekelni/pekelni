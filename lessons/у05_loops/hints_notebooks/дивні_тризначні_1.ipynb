{
 "cells": [
  {
   "cell_type": "markdown",
   "id": "99fd0e64",
   "metadata": {},
   "source": [
    "Для того щоб перебрати усі підходящі тризначні числа вам необхідно задати три вкладені цикли `for` (тому що цикли тризначні). Подумайте які саме `range()` вам необхідно використати."
   ]
  }
 ],
 "metadata": {
  "kernelspec": {
   "display_name": "Python 3",
   "language": "python",
   "name": "python3"
  },
  "language_info": {
   "codemirror_mode": {
    "name": "ipython",
    "version": 3
   },
   "file_extension": ".py",
   "mimetype": "text/x-python",
   "name": "python",
   "nbconvert_exporter": "python",
   "pygments_lexer": "ipython3",
   "version": "3.8.11"
  }
 },
 "nbformat": 4,
 "nbformat_minor": 5
}
