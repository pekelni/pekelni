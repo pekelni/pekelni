{
 "cells": [
  {
   "cell_type": "markdown",
   "id": "3ac9fe12",
   "metadata": {},
   "source": [
    "У цій задачі замість того щоб одразу виводити множник якщо число на нього ділиться треба порахувати скільки разів число ділиться саме на цей множник. Тобто ви починаєте з нуля (припускаєте що число не ділиться на множник), а далі ділите і збільшуєте цей лічильник ділення (тобто степінь) допоки ділиться, лише потім виводите результат на екран разом із степінню."
   ]
  }
 ],
 "metadata": {
  "kernelspec": {
   "display_name": "Python 3",
   "language": "python",
   "name": "python3"
  },
  "language_info": {
   "codemirror_mode": {
    "name": "ipython",
    "version": 3
   },
   "file_extension": ".py",
   "mimetype": "text/x-python",
   "name": "python",
   "nbconvert_exporter": "python",
   "pygments_lexer": "ipython3",
   "version": "3.8.11"
  }
 },
 "nbformat": 4,
 "nbformat_minor": 5
}
