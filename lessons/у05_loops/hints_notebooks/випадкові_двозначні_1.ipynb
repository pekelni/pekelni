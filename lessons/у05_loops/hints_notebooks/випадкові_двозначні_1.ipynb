{
 "cells": [
  {
   "cell_type": "markdown",
   "id": "e24da347",
   "metadata": {},
   "source": [
    "Використайте `random.randint()` для генерації цифр числа. Пам'ятайте, що перша цифра не може бути нулем, а друга - може. Генеруйте другу цифру до тих пір поки вона буде не стане відрізнятися від першої."
   ]
  }
 ],
 "metadata": {
  "kernelspec": {
   "display_name": "Python 3",
   "language": "python",
   "name": "python3"
  },
  "language_info": {
   "codemirror_mode": {
    "name": "ipython",
    "version": 3
   },
   "file_extension": ".py",
   "mimetype": "text/x-python",
   "name": "python",
   "nbconvert_exporter": "python",
   "pygments_lexer": "ipython3",
   "version": "3.8.11"
  }
 },
 "nbformat": 4,
 "nbformat_minor": 5
}
