{
 "cells": [
  {
   "cell_type": "markdown",
   "id": "92413a0a",
   "metadata": {},
   "source": [
    "Тут вам необхідно використати два вкладених цикли `for`, але вони будуть робитися по різних `range()`, тому що ми виводимо результати у дві (а не одну) колонки."
   ]
  }
 ],
 "metadata": {
  "kernelspec": {
   "display_name": "Python 3",
   "language": "python",
   "name": "python3"
  },
  "language_info": {
   "codemirror_mode": {
    "name": "ipython",
    "version": 3
   },
   "file_extension": ".py",
   "mimetype": "text/x-python",
   "name": "python",
   "nbconvert_exporter": "python",
   "pygments_lexer": "ipython3",
   "version": "3.8.11"
  }
 },
 "nbformat": 4,
 "nbformat_minor": 5
}
