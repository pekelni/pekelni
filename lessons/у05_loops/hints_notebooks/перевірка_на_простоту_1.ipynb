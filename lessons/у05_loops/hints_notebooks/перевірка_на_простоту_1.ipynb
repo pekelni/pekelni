{
 "cells": [
  {
   "cell_type": "markdown",
   "id": "7da4de1d",
   "metadata": {},
   "source": [
    "Переберіть усі числа від 2 до поточного числа. Якщо введене число ділиться хоча б на одне із них, необхідно записати що цисло не є простим і зупинити цикл, вивести результат на екран."
   ]
  }
 ],
 "metadata": {
  "kernelspec": {
   "display_name": "Python 3",
   "language": "python",
   "name": "python3"
  },
  "language_info": {
   "codemirror_mode": {
    "name": "ipython",
    "version": 3
   },
   "file_extension": ".py",
   "mimetype": "text/x-python",
   "name": "python",
   "nbconvert_exporter": "python",
   "pygments_lexer": "ipython3",
   "version": "3.8.11"
  }
 },
 "nbformat": 4,
 "nbformat_minor": 5
}
