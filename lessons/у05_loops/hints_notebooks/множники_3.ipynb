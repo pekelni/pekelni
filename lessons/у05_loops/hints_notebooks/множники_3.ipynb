{
 "cells": [
  {
   "cell_type": "markdown",
   "id": "011a7c69",
   "metadata": {},
   "source": [
    "Тут я приводжу інший варіант рішення, де зовнішній цикл `for`, а внутрішній - `while`. Але він містить собі багу через яку програма працюватиме дуже повільно для великих чисел, наприклад для 13160772878743321944841. Спробуйте розібратися чому. Виправлення баги не складне, 2 рядки коду."
   ]
  },
  {
   "cell_type": "code",
   "execution_count": 666,
   "id": "98b6241b",
   "metadata": {},
   "outputs": [],
   "source": [
    "число = int(input('Введіть ціле додатнє число: '))\n",
    "рядок_з_множниками = ''\n",
    "for множник in range(2, число + 1):\n",
    "    while число % множник == 0:\n",
    "        число //= множник\n",
    "        рядок_з_множниками += str(множник) + ' '\n",
    "print(рядок_з_множниками)"
   ]
  }
 ],
 "metadata": {
  "kernelspec": {
   "display_name": "Python 3",
   "language": "python",
   "name": "python3"
  },
  "language_info": {
   "codemirror_mode": {
    "name": "ipython",
    "version": 3
   },
   "file_extension": ".py",
   "mimetype": "text/x-python",
   "name": "python",
   "nbconvert_exporter": "python",
   "pygments_lexer": "ipython3",
   "version": "3.8.11"
  }
 },
 "nbformat": 4,
 "nbformat_minor": 5
}
