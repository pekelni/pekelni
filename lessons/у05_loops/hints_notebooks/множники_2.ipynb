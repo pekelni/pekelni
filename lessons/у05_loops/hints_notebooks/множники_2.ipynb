{
 "cells": [
  {
   "cell_type": "markdown",
   "id": "b02ba0f2",
   "metadata": {},
   "source": [
    "Якщо ваше рішення дуже схоже на Рішення #1, а саме містить в собі зовнішній цикл `while` і внутрішній цикл `for`, то спробуйте імплементувати інший варіант рішення, де зовнішній цикл `for`, а внутрішній - `while`."
   ]
  }
 ],
 "metadata": {
  "kernelspec": {
   "display_name": "Python 3",
   "language": "python",
   "name": "python3"
  },
  "language_info": {
   "codemirror_mode": {
    "name": "ipython",
    "version": 3
   },
   "file_extension": ".py",
   "mimetype": "text/x-python",
   "name": "python",
   "nbconvert_exporter": "python",
   "pygments_lexer": "ipython3",
   "version": "3.8.11"
  }
 },
 "nbformat": 4,
 "nbformat_minor": 5
}
