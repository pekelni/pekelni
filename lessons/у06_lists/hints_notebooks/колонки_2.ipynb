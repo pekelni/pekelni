{
 "cells": [
  {
   "cell_type": "markdown",
   "id": "1547643a",
   "metadata": {},
   "source": [
    "Спершу визначаєте найбільшу висоту колонки.\n",
    "\n",
    "Далі вам необхідно буде вивести на екран рядки, кілкість рядків дорівнюватиме найбільшій висоті.\n",
    "\n",
    "У кожному рядку маєте опрацювати кожну колонку. Якщо колонка нижча за номер рядку, то значит вона не сягає поточного рівня і треба вивести \"пусте місте\", інакше - вивести значок.\n",
    "\n",
    "Не забудьте ітеруватися у правильному порядку."
   ]
  }
 ],
 "metadata": {
  "kernelspec": {
   "display_name": "Python 3",
   "language": "python",
   "name": "python3"
  },
  "language_info": {
   "codemirror_mode": {
    "name": "ipython",
    "version": 3
   },
   "file_extension": ".py",
   "mimetype": "text/x-python",
   "name": "python",
   "nbconvert_exporter": "python",
   "pygments_lexer": "ipython3",
   "version": "3.8.11"
  }
 },
 "nbformat": 4,
 "nbformat_minor": 5
}
