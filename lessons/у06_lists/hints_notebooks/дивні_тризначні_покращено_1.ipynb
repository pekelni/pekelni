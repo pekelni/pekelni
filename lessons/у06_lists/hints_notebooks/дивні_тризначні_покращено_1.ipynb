{
 "cells": [
  {
   "cell_type": "markdown",
   "id": "e43243e0",
   "metadata": {},
   "source": [
    "У попередній версії ми використовували `range()` для ітерації по цифрах і пропускали трійку. Тепер можна створити список допустимих цифр (без трійки) і таким чином спростити ітерацію (пропаде необхідність пропускати трійку). "
   ]
  }
 ],
 "metadata": {
  "kernelspec": {
   "display_name": "Python 3",
   "language": "python",
   "name": "python3"
  },
  "language_info": {
   "codemirror_mode": {
    "name": "ipython",
    "version": 3
   },
   "file_extension": ".py",
   "mimetype": "text/x-python",
   "name": "python",
   "nbconvert_exporter": "python",
   "pygments_lexer": "ipython3",
   "version": "3.8.11"
  }
 },
 "nbformat": 4,
 "nbformat_minor": 5
}
