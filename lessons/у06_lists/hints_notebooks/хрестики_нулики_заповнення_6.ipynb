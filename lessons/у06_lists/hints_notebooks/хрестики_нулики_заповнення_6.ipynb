{
 "cells": [
  {
   "cell_type": "markdown",
   "id": "3e991bda",
   "metadata": {},
   "source": [
    "У першому рішенні, яке я навів, наступний фрагмент коду є ключовим:"
   ]
  },
  {
   "cell_type": "code",
   "execution_count": null,
   "id": "34f7f598",
   "metadata": {},
   "outputs": [],
   "source": [
    "for номер_ходу in range(РОЗМІР_ПОЛЯ ** 2):\n",
    "    поточний_знак = ЗНАКИ[номер_ходу % 2]\n",
    "    while True:\n",
    "        рядок, колонка = random.randint(0, 2), random.randint(0, 2)\n",
    "        if not поле[рядок][колонка]:\n",
    "            поле[рядок][колонка] = поточний_знак\n",
    "            break"
   ]
  },
  {
   "cell_type": "markdown",
   "id": "7117c610",
   "metadata": {},
   "source": [
    "Тобто, коли ми доходимо до останнього ходу, ходу номер 8, ми будемо робити багато зайвих ітерацій, у середньому 8, бо ми чекатимемо допоки випадковим чином не згенеруємо координати ЄДИНОЇ вільної клітинки.\n",
    "\n",
    "У цьому випадку така ситуація не критична, але на більших задачах таке марнування ітерацій може призвести до значного сповільнення програми. Також такий код є дещо неінтуітивним, бо навіщо взагалі ми генеруємо координати клітинки коли знаємо що лише одна клітинка вільна?\n",
    "\n",
    "Спробуйте придумати таке рішення, у якому узагалі немає вкладеного цилку `while` (або `for`).\n",
    "\n",
    "Цикл, який виводить поле на екран, я тут не враховую. Його позбуватися немає необхідності."
   ]
  },
  {
   "cell_type": "code",
   "execution_count": null,
   "id": "caea962c",
   "metadata": {},
   "outputs": [],
   "source": [
    "    for рядок in поле:\n",
    "        for символ in рядок:\n",
    "            print(символ or '_', end=' ')\n",
    "        print()"
   ]
  }
 ],
 "metadata": {
  "kernelspec": {
   "display_name": "Python 3",
   "language": "python",
   "name": "python3"
  },
  "language_info": {
   "codemirror_mode": {
    "name": "ipython",
    "version": 3
   },
   "file_extension": ".py",
   "mimetype": "text/x-python",
   "name": "python",
   "nbconvert_exporter": "python",
   "pygments_lexer": "ipython3",
   "version": "3.8.11"
  }
 },
 "nbformat": 4,
 "nbformat_minor": 5
}
