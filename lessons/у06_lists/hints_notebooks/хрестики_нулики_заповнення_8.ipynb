{
 "cells": [
  {
   "cell_type": "markdown",
   "id": "3e991bda",
   "metadata": {},
   "source": [
    "Запишіть усі можливі координати клітинок у список і перемішайте його. Наприклад, початок списку може виглядати таким чином:"
   ]
  },
  {
   "cell_type": "code",
   "execution_count": null,
   "id": "4930bd44",
   "metadata": {},
   "outputs": [],
   "source": [
    "[(0, 0), (1, 2), (0, 1), (2, 2), (1, 0), ...]"
   ]
  },
  {
   "cell_type": "markdown",
   "id": "c869fb37",
   "metadata": {},
   "source": [
    "Кожен елемент - це координати клітинки."
   ]
  }
 ],
 "metadata": {
  "kernelspec": {
   "display_name": "Python 3",
   "language": "python",
   "name": "python3"
  },
  "language_info": {
   "codemirror_mode": {
    "name": "ipython",
    "version": 3
   },
   "file_extension": ".py",
   "mimetype": "text/x-python",
   "name": "python",
   "nbconvert_exporter": "python",
   "pygments_lexer": "ipython3",
   "version": "3.8.11"
  }
 },
 "nbformat": 4,
 "nbformat_minor": 5
}
