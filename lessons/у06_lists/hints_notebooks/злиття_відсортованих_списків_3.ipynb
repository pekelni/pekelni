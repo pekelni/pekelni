{
 "cells": [
  {
   "cell_type": "markdown",
   "id": "330ebafb",
   "metadata": {},
   "source": [
    "Не забудьте у кінці додати усі недодані елементи зі списку Б. Бо, пам'ятаєте, у середені внутрішнього циклу ми додаємо у результат тільки ті елементи списку Б які менші за поточний елементи списку А.\n",
    "\n",
    "Також у якості внутрішнього циклу я раджу використовувати `while` цикл, так виходить значно простіше."
   ]
  }
 ],
 "metadata": {
  "kernelspec": {
   "display_name": "Python 3",
   "language": "python",
   "name": "python3"
  },
  "language_info": {
   "codemirror_mode": {
    "name": "ipython",
    "version": 3
   },
   "file_extension": ".py",
   "mimetype": "text/x-python",
   "name": "python",
   "nbconvert_exporter": "python",
   "pygments_lexer": "ipython3",
   "version": "3.8.11"
  }
 },
 "nbformat": 4,
 "nbformat_minor": 5
}
