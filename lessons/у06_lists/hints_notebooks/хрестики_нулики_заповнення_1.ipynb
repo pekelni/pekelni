{
 "cells": [
  {
   "cell_type": "markdown",
   "id": "c00e6cc1",
   "metadata": {},
   "source": [
    "Не помиліться коли будете задавати змінну яка представлятиме собою поле для гри. Пам'ятайте, що списки можна модифікувати і що на один і той же список можуть посилатися багато змінних."
   ]
  }
 ],
 "metadata": {
  "kernelspec": {
   "display_name": "Python 3",
   "language": "python",
   "name": "python3"
  },
  "language_info": {
   "codemirror_mode": {
    "name": "ipython",
    "version": 3
   },
   "file_extension": ".py",
   "mimetype": "text/x-python",
   "name": "python",
   "nbconvert_exporter": "python",
   "pygments_lexer": "ipython3",
   "version": "3.8.11"
  }
 },
 "nbformat": 4,
 "nbformat_minor": 5
}
