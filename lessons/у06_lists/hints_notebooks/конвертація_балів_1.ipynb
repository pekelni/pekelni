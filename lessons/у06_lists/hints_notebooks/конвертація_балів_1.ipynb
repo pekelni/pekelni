{
 "cells": [
  {
   "cell_type": "markdown",
   "id": "eabb21c8",
   "metadata": {},
   "source": [
    "Спробуйте і оцінки (A, B, C, ...) і їх \"межі\" (10, 20, 30, 40) зберегти у 2 окремі списки і працювати зі списками і циклами."
   ]
  }
 ],
 "metadata": {
  "kernelspec": {
   "display_name": "Python 3",
   "language": "python",
   "name": "python3"
  },
  "language_info": {
   "codemirror_mode": {
    "name": "ipython",
    "version": 3
   },
   "file_extension": ".py",
   "mimetype": "text/x-python",
   "name": "python",
   "nbconvert_exporter": "python",
   "pygments_lexer": "ipython3",
   "version": "3.8.11"
  }
 },
 "nbformat": 4,
 "nbformat_minor": 5
}
