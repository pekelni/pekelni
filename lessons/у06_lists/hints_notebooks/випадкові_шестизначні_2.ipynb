{
 "cells": [
  {
   "cell_type": "markdown",
   "id": "ad32f36b",
   "metadata": {},
   "source": [
    "Пам'ятайте, що число не може починатися з нуля, але узагалі нуль має використовуватися при генерації."
   ]
  }
 ],
 "metadata": {
  "kernelspec": {
   "display_name": "Python 3",
   "language": "python",
   "name": "python3"
  },
  "language_info": {
   "codemirror_mode": {
    "name": "ipython",
    "version": 3
   },
   "file_extension": ".py",
   "mimetype": "text/x-python",
   "name": "python",
   "nbconvert_exporter": "python",
   "pygments_lexer": "ipython3",
   "version": "3.8.11"
  }
 },
 "nbformat": 4,
 "nbformat_minor": 5
}
