{
 "cells": [
  {
   "cell_type": "markdown",
   "id": "3e991bda",
   "metadata": {},
   "source": [
    "Ви вже бачили розв'язок задачі. Подумайте і потім перевірте чому поле не можна задати наступним чином:"
   ]
  },
  {
   "cell_type": "code",
   "execution_count": null,
   "id": "ac972ee3",
   "metadata": {},
   "outputs": [],
   "source": [
    "РОЗМІР_ПОЛЯ = 3\n",
    "поле = [[None] * РОЗМІР_ПОЛЯ] * РОЗМІР_ПОЛЯ"
   ]
  }
 ],
 "metadata": {
  "kernelspec": {
   "display_name": "Python 3",
   "language": "python",
   "name": "python3"
  },
  "language_info": {
   "codemirror_mode": {
    "name": "ipython",
    "version": 3
   },
   "file_extension": ".py",
   "mimetype": "text/x-python",
   "name": "python",
   "nbconvert_exporter": "python",
   "pygments_lexer": "ipython3",
   "version": "3.8.11"
  }
 },
 "nbformat": 4,
 "nbformat_minor": 5
}
