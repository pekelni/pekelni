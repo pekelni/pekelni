{
 "cells": [
  {
   "cell_type": "markdown",
   "id": "3ef1ab38",
   "metadata": {},
   "source": [
    "Один із варіантів рішення - випадковим чином генерувати позиції ферзів на дошці і далі перевіряти чи є такий випадковий варінт розташування рішенням задачі. Але є проблема: таких випадкових позицій дуже і дуже багато, тому їх треба генерувати спеціальним чином, а не абсолютно випадковим.\n",
    "\n",
    "Запевняю вас, код для генерації випадкових позицій нескладний."
   ]
  }
 ],
 "metadata": {
  "kernelspec": {
   "display_name": "Python 3",
   "language": "python",
   "name": "python3"
  },
  "language_info": {
   "codemirror_mode": {
    "name": "ipython",
    "version": 3
   },
   "file_extension": ".py",
   "mimetype": "text/x-python",
   "name": "python",
   "nbconvert_exporter": "python",
   "pygments_lexer": "ipython3",
   "version": "3.8.11"
  }
 },
 "nbformat": 4,
 "nbformat_minor": 5
}
