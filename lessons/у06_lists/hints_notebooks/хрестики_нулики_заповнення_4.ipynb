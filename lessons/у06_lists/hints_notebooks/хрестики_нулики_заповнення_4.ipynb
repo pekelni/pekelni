{
 "cells": [
  {
   "cell_type": "code",
   "execution_count": null,
   "id": "bb6b06d3",
   "metadata": {},
   "outputs": [],
   "source": [
    "import random\n",
    "\n",
    "РОЗМІР_ПОЛЯ = 3\n",
    "ЗНАКИ = ('X', '0')\n",
    "поле = [\n",
    "    [None, None, None],\n",
    "    [None, None, None],\n",
    "    [None, None, None],\n",
    "]\n",
    "\n",
    "for номер_ходу in range(РОЗМІР_ПОЛЯ ** 2):\n",
    "    поточний_знак = ЗНАКИ[номер_ходу % 2]\n",
    "    ??? :\n",
    "        рядок, колонка = random.randint(0, ???), ???\n",
    "        if ???:\n",
    "            поле[рядок][колонка] = поточний_знак\n",
    "            # тут break чи continue\n",
    "\n",
    "    for рядок in поле:\n",
    "        for символ in рядок:\n",
    "            print(символ or '_', end=' ')\n",
    "        print()\n",
    "    print()"
   ]
  }
 ],
 "metadata": {
  "kernelspec": {
   "display_name": "Python 3",
   "language": "python",
   "name": "python3"
  },
  "language_info": {
   "codemirror_mode": {
    "name": "ipython",
    "version": 3
   },
   "file_extension": ".py",
   "mimetype": "text/x-python",
   "name": "python",
   "nbconvert_exporter": "python",
   "pygments_lexer": "ipython3",
   "version": "3.8.11"
  }
 },
 "nbformat": 4,
 "nbformat_minor": 5
}
