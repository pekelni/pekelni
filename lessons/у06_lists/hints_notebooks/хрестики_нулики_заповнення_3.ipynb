{
 "cells": [
  {
   "cell_type": "markdown",
   "id": "3e991bda",
   "metadata": {},
   "source": [
    "Приводжу фрагмент коду який частково виконує задачу."
   ]
  },
  {
   "cell_type": "code",
   "execution_count": 1,
   "id": "d0e6573c",
   "metadata": {},
   "outputs": [
    {
     "name": "stdout",
     "output_type": "stream",
     "text": [
      "X 0 X 0 X 0 X 0 X "
     ]
    }
   ],
   "source": [
    "import random\n",
    "\n",
    "РОЗМІР_ПОЛЯ = 3\n",
    "ЗНАКИ = ('X', '0')\n",
    "поле = [\n",
    "    [None, None, None],\n",
    "    [None, None, None],\n",
    "    [None, None, None],\n",
    "]\n",
    "\n",
    "for номер_ходу in range(РОЗМІР_ПОЛЯ ** 2):\n",
    "    поточний_знак = ЗНАКИ[номер_ходу % 2]\n",
    "    print(поточний_знак, end=' ')\n",
    "    # виберіть і заповніть випадкову клітинку\n",
    "    # виведіть на екран ігрове поле"
   ]
  }
 ],
 "metadata": {
  "kernelspec": {
   "display_name": "Python 3",
   "language": "python",
   "name": "python3"
  },
  "language_info": {
   "codemirror_mode": {
    "name": "ipython",
    "version": 3
   },
   "file_extension": ".py",
   "mimetype": "text/x-python",
   "name": "python",
   "nbconvert_exporter": "python",
   "pygments_lexer": "ipython3",
   "version": "3.8.11"
  }
 },
 "nbformat": 4,
 "nbformat_minor": 5
}
