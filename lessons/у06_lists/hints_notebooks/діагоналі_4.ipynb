{
 "cells": [
  {
   "cell_type": "markdown",
   "id": "ee56f25f",
   "metadata": {},
   "source": [
    "Я для рішення цієї задачі обрав наступний підхід: на кожній ітерації я створюю пусту дошку 8 на 8 (тобто двовимірний список, тобто список з однаковими списками всередні), далі я ітеруюсь по клітинках діагоналі, при чому роблю це не самим ефективним методом, просте простим і прямолінійним, помічаю клітинки діагоналі \"позначкою\" `True`. Далі, у межах цієї ітерації я знов пробігаюся по усім клітинкам дошки і тільки тоді виводжу дошку на екран, заміняючи `False` на пусте місце, а `True` - на літеру \"D\"."
   ]
  }
 ],
 "metadata": {
  "kernelspec": {
   "display_name": "Python 3",
   "language": "python",
   "name": "python3"
  },
  "language_info": {
   "codemirror_mode": {
    "name": "ipython",
    "version": 3
   },
   "file_extension": ".py",
   "mimetype": "text/x-python",
   "name": "python",
   "nbconvert_exporter": "python",
   "pygments_lexer": "ipython3",
   "version": "3.8.11"
  }
 },
 "nbformat": 4,
 "nbformat_minor": 5
}
