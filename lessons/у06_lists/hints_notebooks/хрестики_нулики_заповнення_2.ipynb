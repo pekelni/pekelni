{
 "cells": [
  {
   "cell_type": "markdown",
   "id": "393e9c16",
   "metadata": {},
   "source": [
    "На верхньому рівні використайте цикл for, тому що у цій задачі ми наперед знаємо скільки ходів буде зроблено. Усередені циклу вибирайте координати клітинки (номер рядку і колонки) випадковим чином допоки не виявиться що згенерована клітинка НЕ зайнята. Заповніть цю клітинку поточним знаком. Поточний знак залежить від номеру ходу: нульовий хід - хрестик, перший - нулик, другий - хрестик і так далі. Після кожного ходу виведіть на екран ігрове поле."
   ]
  }
 ],
 "metadata": {
  "kernelspec": {
   "display_name": "Python 3",
   "language": "python",
   "name": "python3"
  },
  "language_info": {
   "codemirror_mode": {
    "name": "ipython",
    "version": 3
   },
   "file_extension": ".py",
   "mimetype": "text/x-python",
   "name": "python",
   "nbconvert_exporter": "python",
   "pygments_lexer": "ipython3",
   "version": "3.8.11"
  }
 },
 "nbformat": 4,
 "nbformat_minor": 5
}
