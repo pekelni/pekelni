{
 "cells": [
  {
   "cell_type": "markdown",
   "id": "bef65b31",
   "metadata": {},
   "source": [
    "Спробуйте і оцінки (A, B, C, ...) і їх \"межі\" (10, 20, 30, 40) зберегти у 2 окремі списки і працювати зі списками і циклами. Наприклад:"
   ]
  },
  {
   "cell_type": "code",
   "execution_count": 1,
   "id": "8a8e43ab",
   "metadata": {},
   "outputs": [],
   "source": [
    "НИЖНІ_МЕЖІ = [10, 20, 30, 40]\n",
    "ОЦІНКИ = ['A', 'B', 'C', 'D']"
   ]
  },
  {
   "cell_type": "markdown",
   "id": "58412151",
   "metadata": {},
   "source": [
    "Оцінка `'F'` може бути окремим випадком поза списками."
   ]
  }
 ],
 "metadata": {
  "kernelspec": {
   "display_name": "Python 3",
   "language": "python",
   "name": "python3"
  },
  "language_info": {
   "codemirror_mode": {
    "name": "ipython",
    "version": 3
   },
   "file_extension": ".py",
   "mimetype": "text/x-python",
   "name": "python",
   "nbconvert_exporter": "python",
   "pygments_lexer": "ipython3",
   "version": "3.8.11"
  }
 },
 "nbformat": 4,
 "nbformat_minor": 5
}
