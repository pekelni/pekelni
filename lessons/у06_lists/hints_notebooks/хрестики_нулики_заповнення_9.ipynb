{
 "cells": [
  {
   "cell_type": "markdown",
   "id": "3e991bda",
   "metadata": {},
   "source": [
    "Запишіть усі можливі координати клітинок у список і перемішайте його. Наприклад, початок списку може виглядати таким чином:"
   ]
  },
  {
   "cell_type": "code",
   "execution_count": null,
   "id": "394f3111",
   "metadata": {},
   "outputs": [],
   "source": [
    "[(0, 0), (1, 2), (0, 1), (2, 2), (1, 0), ...]"
   ]
  },
  {
   "cell_type": "markdown",
   "id": "69b4a00f",
   "metadata": {},
   "source": [
    "Кожен елемент - це координати клітинки."
   ]
  },
  {
   "cell_type": "markdown",
   "id": "eab96362",
   "metadata": {},
   "source": [
    "Тут секрет підходу у тому що ми не будемо обирати хід випадковим чином кожного разу, натомість ми у самому початку задаємо усю послідовність ходів випадковим чином. Таке рішення не дуже підійде для повноцінної гри комп'ютера проти гравця бо ми не знаємо ходів гравця наперед, але тут це доречно.\n",
    "\n",
    "Таким чином, нам не треба буде підбирати наступний хід випадковим чином коли на ігровому полі залишилася лише одна вільна клітинка, бо нам буде доступною уся послідовність ходів."
   ]
  }
 ],
 "metadata": {
  "kernelspec": {
   "display_name": "Python 3",
   "language": "python",
   "name": "python3"
  },
  "language_info": {
   "codemirror_mode": {
    "name": "ipython",
    "version": 3
   },
   "file_extension": ".py",
   "mimetype": "text/x-python",
   "name": "python",
   "nbconvert_exporter": "python",
   "pygments_lexer": "ipython3",
   "version": "3.8.11"
  }
 },
 "nbformat": 4,
 "nbformat_minor": 5
}
