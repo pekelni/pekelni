{
 "cells": [
  {
   "cell_type": "markdown",
   "id": "f4825f15",
   "metadata": {},
   "source": [
    "Тут я задаю фрагмент коду який конвертує рядки у пари списків. Вам же необхідно написати алгоритм злиття."
   ]
  },
  {
   "cell_type": "code",
   "execution_count": 1,
   "id": "7ce25d95",
   "metadata": {},
   "outputs": [
    {
     "name": "stdout",
     "output_type": "stream",
     "text": [
      "0 1 2 3, 4 5 6 -> [0, 1, 2, 3, 4, 5, 6]\n",
      "1 1 3 5, 2 4 6 -> [1, 1, 3, 5, 2, 4, 6]\n",
      "2 4 6, 1 3 5 6 7 -> [2, 4, 6, 1, 3, 5, 6, 7]\n",
      "2 4 66, 1 3 66 66 -> [2, 4, 66, 1, 3, 66, 66]\n",
      "6 66 666, 1 1 1 2 -> [6, 66, 666, 1, 1, 1, 2]\n",
      "3 10 11 18, 1 8 10 11 13 23 -> [3, 10, 11, 18, 1, 8, 10, 11, 13, 23]\n"
     ]
    }
   ],
   "source": [
    "СПИСКИ_ЯК_РЯДКИ = [\n",
    "    '0 1 2 3, 4 5 6',\n",
    "    '1 1 3 5, 2 4 6',\n",
    "    '2 4 6, 1 3 5 6 7',\n",
    "    '2 4 66, 1 3 66 66',\n",
    "    '6 66 666, 1 1 1 2',\n",
    "    '3 10 11 18, 1 8 10 11 13 23'\n",
    "]\n",
    "\n",
    "for список_як_рядок in СПИСКИ_ЯК_РЯДКИ:\n",
    "    список_А, список_Б = список_як_рядок.split(',')\n",
    "    список_А = список_А.split()\n",
    "    список_Б = список_Б.split()\n",
    "    for список in [список_А, список_Б]:\n",
    "        for j in range(len(список)):\n",
    "            список[j] = int(список[j])\n",
    "\n",
    "    результат = список_А + список_Б\n",
    "    # ???\n",
    "    print(f'{список_як_рядок} -> {результат}')"
   ]
  }
 ],
 "metadata": {
  "kernelspec": {
   "display_name": "Python 3",
   "language": "python",
   "name": "python3"
  },
  "language_info": {
   "codemirror_mode": {
    "name": "ipython",
    "version": 3
   },
   "file_extension": ".py",
   "mimetype": "text/x-python",
   "name": "python",
   "nbconvert_exporter": "python",
   "pygments_lexer": "ipython3",
   "version": "3.8.11"
  }
 },
 "nbformat": 4,
 "nbformat_minor": 5
}
