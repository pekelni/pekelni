{
 "cells": [
  {
   "cell_type": "markdown",
   "id": "d639ae70",
   "metadata": {},
   "source": [
    "Тут вам стане у нагоді оператор `in`, щоб перевіряти чи вже зустрічається згенерована цифра у числі."
   ]
  }
 ],
 "metadata": {
  "kernelspec": {
   "display_name": "Python 3",
   "language": "python",
   "name": "python3"
  },
  "language_info": {
   "codemirror_mode": {
    "name": "ipython",
    "version": 3
   },
   "file_extension": ".py",
   "mimetype": "text/x-python",
   "name": "python",
   "nbconvert_exporter": "python",
   "pygments_lexer": "ipython3",
   "version": "3.8.11"
  }
 },
 "nbformat": 4,
 "nbformat_minor": 5
}
