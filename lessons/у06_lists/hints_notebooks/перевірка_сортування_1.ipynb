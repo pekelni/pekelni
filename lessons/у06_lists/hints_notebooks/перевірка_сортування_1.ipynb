{
 "cells": [
  {
   "cell_type": "markdown",
   "id": "9b2fa335",
   "metadata": {},
   "source": [
    "Спершу зконвертуйте поточний рядок із шаблону у список з числами. Далі ітеруйтеся по всіх індексах списку і порівнюйте значення кожних двох сусідніх індексів (наприклад, 0 і 1, 1 і 2, 2 і 3, і тд) і якщо вони у неправильному порядку то збережіть факт невідсортованності у змінну (`відсортований`) і зупиніть цикл, виведіть результат на екран."
   ]
  }
 ],
 "metadata": {
  "kernelspec": {
   "display_name": "Python 3",
   "language": "python",
   "name": "python3"
  },
  "language_info": {
   "codemirror_mode": {
    "name": "ipython",
    "version": 3
   },
   "file_extension": ".py",
   "mimetype": "text/x-python",
   "name": "python",
   "nbconvert_exporter": "python",
   "pygments_lexer": "ipython3",
   "version": "3.8.11"
  }
 },
 "nbformat": 4,
 "nbformat_minor": 5
}
