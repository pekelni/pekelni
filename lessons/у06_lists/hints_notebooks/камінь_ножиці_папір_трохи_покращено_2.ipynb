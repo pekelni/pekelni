{
 "cells": [
  {
   "cell_type": "markdown",
   "id": "a5a1af88",
   "metadata": {},
   "source": [
    "Я пропоную скоротити наступний фрагмент коду. Можете помітити тут повторення? Ми кілька разів повторюємо `переможець = 'людина'`, хоча це можна написати один раз всередені одного `if` чи `elif`."
   ]
  },
  {
   "cell_type": "code",
   "execution_count": null,
   "id": "2134ee32",
   "metadata": {},
   "outputs": [],
   "source": [
    "if людина == машини:\n",
    "    переможець = 'ніхто'\n",
    "elif людина == КАМІНЬ and машини == НОЖИЦІ:\n",
    "    переможець = 'людина'\n",
    "elif людина == НОЖИЦІ and машини == ПАПІР:\n",
    "    переможець = 'людина'\n",
    "elif людина == ПАПІР and машини == КАМІНЬ:\n",
    "    переможець = 'людина'\n",
    "else:\n",
    "    переможець = 'машини'"
   ]
  }
 ],
 "metadata": {
  "kernelspec": {
   "display_name": "Python 3",
   "language": "python",
   "name": "python3"
  },
  "language_info": {
   "codemirror_mode": {
    "name": "ipython",
    "version": 3
   },
   "file_extension": ".py",
   "mimetype": "text/x-python",
   "name": "python",
   "nbconvert_exporter": "python",
   "pygments_lexer": "ipython3",
   "version": "3.8.11"
  }
 },
 "nbformat": 4,
 "nbformat_minor": 5
}
