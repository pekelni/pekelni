{
 "cells": [
  {
   "cell_type": "markdown",
   "id": "9d6660ec",
   "metadata": {},
   "source": [
    "Формули:  \n",
    "- `i + j == ПАРАМЕТР_ДІАГОНАЛІ`, `ПАРАМЕТР_ДІАГОНАЛІ` має бути постійним для кожної конкретної діагоналі. Усього є 15 діагоналей такого типу, тобто `ПАРАМЕТР_ДІАГОНАЛІ` буде приймайти усі можливі значення від `0` до `16` (не включно)\n",
    "- другу формулу спробуйте додумати самі"
   ]
  }
 ],
 "metadata": {
  "kernelspec": {
   "display_name": "Python 3",
   "language": "python",
   "name": "python3"
  },
  "language_info": {
   "codemirror_mode": {
    "name": "ipython",
    "version": 3
   },
   "file_extension": ".py",
   "mimetype": "text/x-python",
   "name": "python",
   "nbconvert_exporter": "python",
   "pygments_lexer": "ipython3",
   "version": "3.8.11"
  }
 },
 "nbformat": 4,
 "nbformat_minor": 5
}
