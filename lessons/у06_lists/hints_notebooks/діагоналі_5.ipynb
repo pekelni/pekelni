{
 "cells": [
  {
   "cell_type": "markdown",
   "id": "4a6d5630",
   "metadata": {},
   "source": [
    "Високорівневий заблон програми де ви маєте заповнити деталі."
   ]
  },
  {
   "cell_type": "code",
   "execution_count": null,
   "id": "db9be5af",
   "metadata": {},
   "outputs": [],
   "source": [
    "РОЗМІР_ДОШКИ = 8\n",
    "\n",
    "ПУСТИЙ_РЯДОК = list()\n",
    "# заповніть пустий рядок. Що там має бути?\n",
    "\n",
    "for різниця in range(1 - РОЗМІР_ДОШКИ, РОЗМІР_ДОШКИ):\n",
    "    print()\n",
    "    дошка = list()\n",
    "    for i in range(РОЗМІР_ДОШКИ):\n",
    "        дошка.append(list(ПУСТИЙ_РЯДОК))\n",
    "\n",
    "    for i in range(РОЗМІР_ДОШКИ):\n",
    "        for j in range(РОЗМІР_ДОШКИ):\n",
    "            # у яких саме випадках необдіхно змінити значення для i j?\n",
    "            дошка[i][j] = ?\n",
    "\n",
    "    # виведіть дошку на екран\n",
    "\n",
    "for сума in range(2 * РОЗМІР_ДОШКИ - 1):\n",
    "    print()\n",
    "    дошка = list()\n",
    "    for i in range(РОЗМІР_ДОШКИ):\n",
    "        дошка.append(list(ПУСТИЙ_РЯДОК))\n",
    "\n",
    "    for i in range(РОЗМІР_ДОШКИ):\n",
    "        for j in range(РОЗМІР_ДОШКИ):\n",
    "            # у яких саме випадках необдіхно змінити значення для i j?\n",
    "            дошка[i][j] = ?\n",
    "\n",
    "    # виведіть дошку на екран"
   ]
  }
 ],
 "metadata": {
  "kernelspec": {
   "display_name": "Python 3",
   "language": "python",
   "name": "python3"
  },
  "language_info": {
   "codemirror_mode": {
    "name": "ipython",
    "version": 3
   },
   "file_extension": ".py",
   "mimetype": "text/x-python",
   "name": "python",
   "nbconvert_exporter": "python",
   "pygments_lexer": "ipython3",
   "version": "3.8.11"
  }
 },
 "nbformat": 4,
 "nbformat_minor": 5
}
