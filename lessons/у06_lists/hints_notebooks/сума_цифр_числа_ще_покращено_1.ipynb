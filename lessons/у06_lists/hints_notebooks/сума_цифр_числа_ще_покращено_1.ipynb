{
 "cells": [
  {
   "cell_type": "markdown",
   "id": "c492567a",
   "metadata": {},
   "source": [
    "Ви можете ітеруватися по рядку з числом, перебираючи кожен символ, конвертувати кожен символ у число і збирати суму в окремій змінній."
   ]
  }
 ],
 "metadata": {
  "kernelspec": {
   "display_name": "Python 3",
   "language": "python",
   "name": "python3"
  },
  "language_info": {
   "codemirror_mode": {
    "name": "ipython",
    "version": 3
   },
   "file_extension": ".py",
   "mimetype": "text/x-python",
   "name": "python",
   "nbconvert_exporter": "python",
   "pygments_lexer": "ipython3",
   "version": "3.8.11"
  }
 },
 "nbformat": 4,
 "nbformat_minor": 5
}
