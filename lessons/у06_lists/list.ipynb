{
 "cells": [
  {
   "cell_type": "markdown",
   "id": "2ae0d123",
   "metadata": {},
   "source": [
    "1. str.split()\n",
    "2. iteration through chars in a string and through elements in a list\n",
    "3. print(a, end=' ', sep='',)"
   ]
  },
  {
   "cell_type": "code",
   "execution_count": 5,
   "id": "a1afa387",
   "metadata": {},
   "outputs": [
    {
     "name": "stdout",
     "output_type": "stream",
     "text": [
      "1\n",
      "[1, 2, 3]\n"
     ]
    }
   ],
   "source": [
    "a = 1\n",
    "print(1)\n",
    "a = [1, 2, 3]\n",
    "print(a)"
   ]
  },
  {
   "cell_type": "code",
   "execution_count": 12,
   "id": "e57c7660",
   "metadata": {},
   "outputs": [
    {
     "name": "stdout",
     "output_type": "stream",
     "text": [
      "1\n",
      "10\n",
      "100\n",
      "lol\n",
      "100.4\n"
     ]
    }
   ],
   "source": [
    "a = [1, 10, 100, 'lol', 100.400]\n",
    "for i in a:\n",
    "    print(i)"
   ]
  },
  {
   "cell_type": "code",
   "execution_count": 14,
   "id": "84bb0b93",
   "metadata": {},
   "outputs": [
    {
     "name": "stdout",
     "output_type": "stream",
     "text": [
      "range(0, 10)\n",
      "[0, 1, 2, 3, 4, 5, 6, 7, 8, 9]\n",
      "<class 'range'>\n",
      "<class 'list'>\n"
     ]
    }
   ],
   "source": [
    "print(range(10))\n",
    "print(list(range(10)))\n",
    "\n",
    "print(type(range(10)))\n",
    "print(type(list(range(10))))"
   ]
  },
  {
   "cell_type": "code",
   "execution_count": 16,
   "id": "3a81b804",
   "metadata": {},
   "outputs": [
    {
     "name": "stdout",
     "output_type": "stream",
     "text": [
      "1\n",
      "1\n"
     ]
    }
   ],
   "source": [
    "spisok = list(range(10))\n",
    "ran = range(10)\n",
    "\n",
    "print(spisok[1])\n",
    "print(ran[1])"
   ]
  },
  {
   "cell_type": "code",
   "execution_count": 17,
   "id": "08271c78",
   "metadata": {},
   "outputs": [
    {
     "name": "stdout",
     "output_type": "stream",
     "text": [
      "hello\n",
      "1\n"
     ]
    }
   ],
   "source": [
    "a = ['hello', 1, 2, 'whats up']\n",
    "print(a[0])\n",
    "print(a[1])"
   ]
  },
  {
   "cell_type": "code",
   "execution_count": 17,
   "id": "7e513663",
   "metadata": {},
   "outputs": [
    {
     "name": "stdout",
     "output_type": "stream",
     "text": [
      "hello\n",
      "1\n"
     ]
    }
   ],
   "source": [
    "a = [[], [], [[1]], [12, 3, 4]]\n",
    "print(a[0])\n",
    "print(a[1])"
   ]
  },
  {
   "cell_type": "code",
   "execution_count": 18,
   "id": "31881bd7",
   "metadata": {},
   "outputs": [
    {
     "name": "stdout",
     "output_type": "stream",
     "text": [
      "[[None, None, None], [None, None, None], [None, None, None]]\n"
     ]
    }
   ],
   "source": [
    "pole = [\n",
    "    [None, None, None,],\n",
    "    [None, None, None,],\n",
    "    [None, None, None,],\n",
    "]\n",
    "print(pole)"
   ]
  },
  {
   "cell_type": "code",
   "execution_count": 19,
   "id": "5c627560",
   "metadata": {},
   "outputs": [
    {
     "name": "stdout",
     "output_type": "stream",
     "text": [
      "fadsfsdf2222\n"
     ]
    }
   ],
   "source": [
    "s = 'fadsfsdf'\\\n",
    "    '2222'\n",
    "print(s)"
   ]
  },
  {
   "cell_type": "code",
   "execution_count": 23,
   "id": "dcbde96a",
   "metadata": {},
   "outputs": [
    {
     "name": "stdout",
     "output_type": "stream",
     "text": [
      "kkkk\n",
      "fasdf\n",
      "blah\n",
      "                      blah \n",
      "                      hello\n",
      "    wahtsup\n",
      "\n"
     ]
    }
   ],
   "source": [
    "pole = '''kkkk\n",
    "fasdf\n",
    "blah\n",
    "                      blah \n",
    "                      hello\n",
    "    wahtsup\n",
    "'''\n",
    "print(pole)"
   ]
  },
  {
   "cell_type": "code",
   "execution_count": 29,
   "id": "e0b16960",
   "metadata": {},
   "outputs": [
    {
     "name": "stdout",
     "output_type": "stream",
     "text": [
      "None\n"
     ]
    }
   ],
   "source": [
    "pole = [\n",
    "    [None, 'X', None,],\n",
    "    [None, None, None,],\n",
    "    ['X', None, 'O',],\n",
    "]\n",
    "print(pole[2][1])"
   ]
  },
  {
   "cell_type": "code",
   "execution_count": 31,
   "id": "a94814bc",
   "metadata": {},
   "outputs": [
    {
     "name": "stdout",
     "output_type": "stream",
     "text": [
      "[5, 6, 7, 8, 9, 10, 11, 12, 13, 14]\n",
      "[6, 7, 8, 9]\n"
     ]
    }
   ],
   "source": [
    "a = list(range(5, 15))\n",
    "print(a)\n",
    "print(a[1:5])"
   ]
  },
  {
   "cell_type": "code",
   "execution_count": 34,
   "id": "7c911c1a",
   "metadata": {},
   "outputs": [
    {
     "name": "stdout",
     "output_type": "stream",
     "text": [
      "[5, 6, 7, 8, 9, 10, 11, 12, 13, 14]\n",
      "[11, 10, 9, 8, 7, 6]\n",
      "[]\n"
     ]
    }
   ],
   "source": [
    "a = list(range(5, 15))\n",
    "print(a)\n",
    "print(a[6:0:-1])\n",
    "print(a[6:0:])"
   ]
  },
  {
   "cell_type": "code",
   "execution_count": 38,
   "id": "7a6e087c",
   "metadata": {},
   "outputs": [
    {
     "name": "stdout",
     "output_type": "stream",
     "text": [
      "[0, 7, 14, 21, 28, 35, 42, 49]\n"
     ]
    }
   ],
   "source": [
    "a = list(range(100))\n",
    "# print(a)\n",
    "print(a[:50:7])"
   ]
  },
  {
   "cell_type": "code",
   "execution_count": 50,
   "id": "09083416",
   "metadata": {},
   "outputs": [
    {
     "name": "stdout",
     "output_type": "stream",
     "text": [
      "[17, 12, 30, 47, 49, 27, 44, 25, 35, 19, 3, 15, 48, 33, 38, 14, 46, 45, 5, 41, 42, 16, 7, 21, 10, 18, 36, 29, 43, 28, 8, 1, 40, 9, 20, 24, 37, 11, 0, 2, 23, 13, 22, 26, 39, 31, 6, 4, 34, 32]\n",
      "47 49 44 35 48 33 38 46 45 41 42 36 43 40 37 39 31 34 32 "
     ]
    }
   ],
   "source": [
    "import random\n",
    "\n",
    "a = list(range(50))\n",
    "random.shuffle(a)\n",
    "print(a)\n",
    "\n",
    "for i in a:\n",
    "    if i > 30:\n",
    "        print(i, end=' ')"
   ]
  },
  {
   "cell_type": "code",
   "execution_count": 55,
   "id": "9f2a14c6",
   "metadata": {},
   "outputs": [
    {
     "name": "stdout",
     "output_type": "stream",
     "text": [
      "[0, 1, 2, 3, 4, 5, 6, 7, 8, 9]\n",
      "[0, 1, 2, 100500, 4, 5, 6, 7, 8, 9]\n",
      "[0, 1, 2, 201000, 4, 5, 6, 7, 8, 9]\n",
      "1\n",
      "3\n"
     ]
    }
   ],
   "source": [
    "a = list(range(10))\n",
    "print(a)\n",
    "a[3] = 100500\n",
    "print(a)\n",
    "a[3] += 100500\n",
    "print(a)\n",
    "\n",
    "a, b = 1, 3\n",
    "print(a)\n",
    "print(b)"
   ]
  },
  {
   "cell_type": "code",
   "execution_count": 56,
   "id": "f9ba905b",
   "metadata": {},
   "outputs": [
    {
     "name": "stdout",
     "output_type": "stream",
     "text": [
      "3\n"
     ]
    }
   ],
   "source": [
    "a = [1, 2, 3]\n",
    "a, b, c = a\n",
    "print(c)"
   ]
  },
  {
   "cell_type": "code",
   "execution_count": 57,
   "id": "d084de92",
   "metadata": {},
   "outputs": [
    {
     "ename": "ValueError",
     "evalue": "too many values to unpack (expected 3)",
     "output_type": "error",
     "traceback": [
      "\u001b[0;31m---------------------------------------------------------------------------\u001b[0m",
      "\u001b[0;31mValueError\u001b[0m                                Traceback (most recent call last)",
      "\u001b[0;32m<ipython-input-57-0a7e801f190b>\u001b[0m in \u001b[0;36m<module>\u001b[0;34m\u001b[0m\n\u001b[1;32m      1\u001b[0m \u001b[0ma\u001b[0m \u001b[0;34m=\u001b[0m \u001b[0;34m[\u001b[0m\u001b[0;36m1\u001b[0m\u001b[0;34m,\u001b[0m \u001b[0;36m2\u001b[0m\u001b[0;34m,\u001b[0m \u001b[0;36m3\u001b[0m\u001b[0;34m,\u001b[0m \u001b[0;36m4\u001b[0m\u001b[0;34m]\u001b[0m\u001b[0;34m\u001b[0m\u001b[0;34m\u001b[0m\u001b[0m\n\u001b[0;32m----> 2\u001b[0;31m \u001b[0ma\u001b[0m\u001b[0;34m,\u001b[0m \u001b[0mb\u001b[0m\u001b[0;34m,\u001b[0m \u001b[0mc\u001b[0m \u001b[0;34m=\u001b[0m \u001b[0ma\u001b[0m\u001b[0;34m\u001b[0m\u001b[0;34m\u001b[0m\u001b[0m\n\u001b[0m\u001b[1;32m      3\u001b[0m \u001b[0mprint\u001b[0m\u001b[0;34m(\u001b[0m\u001b[0mc\u001b[0m\u001b[0;34m)\u001b[0m\u001b[0;34m\u001b[0m\u001b[0;34m\u001b[0m\u001b[0m\n",
      "\u001b[0;31mValueError\u001b[0m: too many values to unpack (expected 3)"
     ]
    }
   ],
   "source": [
    "a = [1, 2, 3, 4]\n",
    "a, b, c = a\n",
    "print(c)"
   ]
  },
  {
   "cell_type": "code",
   "execution_count": 58,
   "id": "1245cef4",
   "metadata": {},
   "outputs": [
    {
     "name": "stdout",
     "output_type": "stream",
     "text": [
      "1\n"
     ]
    }
   ],
   "source": [
    "a = 1\n",
    "b = a\n",
    "a = 10\n",
    "print(b)"
   ]
  },
  {
   "cell_type": "code",
   "execution_count": 59,
   "id": "43007d4d",
   "metadata": {},
   "outputs": [
    {
     "name": "stdout",
     "output_type": "stream",
     "text": [
      "[1, 10, 3]\n"
     ]
    }
   ],
   "source": [
    "a = [1, 2, 3]\n",
    "b = a\n",
    "a[1] = 10\n",
    "print(b)"
   ]
  },
  {
   "cell_type": "code",
   "execution_count": 61,
   "id": "52d2424b",
   "metadata": {},
   "outputs": [
    {
     "name": "stdout",
     "output_type": "stream",
     "text": [
      "[1, 2, 3] <class 'list'>\n"
     ]
    }
   ],
   "source": [
    "a = [1, 2, 3]\n",
    "b = list(a)\n",
    "a[1] = 10\n",
    "print(b, type(b))"
   ]
  },
  {
   "cell_type": "code",
   "execution_count": 64,
   "id": "5860fe1c",
   "metadata": {},
   "outputs": [
    {
     "name": "stdout",
     "output_type": "stream",
     "text": [
      "[1, 2, 3] <class 'list'>\n"
     ]
    }
   ],
   "source": [
    "a = [1, 2, 3]\n",
    "b = a[:]\n",
    "a[1] = 10\n",
    "print(b, type(b))"
   ]
  },
  {
   "cell_type": "code",
   "execution_count": 74,
   "id": "fbc94e49",
   "metadata": {},
   "outputs": [
    {
     "name": "stdout",
     "output_type": "stream",
     "text": [
      "100 4 9\n"
     ]
    }
   ],
   "source": [
    "a = [1, 2, 3, 100]\n",
    "print(a[-1], len(a), len('asdfsadfa'))"
   ]
  },
  {
   "cell_type": "code",
   "execution_count": 75,
   "id": "7216a9dd",
   "metadata": {},
   "outputs": [
    {
     "name": "stdout",
     "output_type": "stream",
     "text": [
      "lo moth\n"
     ]
    }
   ],
   "source": [
    "a = 'hello motherfucker'\n",
    "print(a[3:10])"
   ]
  },
  {
   "cell_type": "code",
   "execution_count": 77,
   "id": "c8f33b47",
   "metadata": {},
   "outputs": [
    {
     "name": "stdout",
     "output_type": "stream",
     "text": [
      "ehtom o\n"
     ]
    }
   ],
   "source": [
    "a = 'hello motherfucker'\n",
    "print(a[10:3:-1])"
   ]
  },
  {
   "cell_type": "code",
   "execution_count": 79,
   "id": "52fb2063",
   "metadata": {},
   "outputs": [
    {
     "name": "stdout",
     "output_type": "stream",
     "text": [
      "[1, 2, 3, 4]\n"
     ]
    }
   ],
   "source": [
    "a = [1, 2]\n",
    "b = a\n",
    "a += [3, 4]\n",
    "print(b)"
   ]
  },
  {
   "cell_type": "code",
   "execution_count": 80,
   "id": "bc04aef0",
   "metadata": {},
   "outputs": [
    {
     "name": "stdout",
     "output_type": "stream",
     "text": [
      "12\n"
     ]
    }
   ],
   "source": [
    "a = '12'\n",
    "b = a\n",
    "a += '34'\n",
    "print(b)"
   ]
  },
  {
   "cell_type": "code",
   "execution_count": 81,
   "id": "01d0da6b",
   "metadata": {},
   "outputs": [
    {
     "name": "stdout",
     "output_type": "stream",
     "text": [
      "1 <class 'str'>\n"
     ]
    }
   ],
   "source": [
    "a = '12'\n",
    "print(a[0], type(a[0]))"
   ]
  },
  {
   "cell_type": "code",
   "execution_count": 82,
   "id": "38ebd17c",
   "metadata": {},
   "outputs": [
    {
     "name": "stdout",
     "output_type": "stream",
     "text": [
      "1 <class 'int'>\n"
     ]
    }
   ],
   "source": [
    "a = [1, 2]\n",
    "print(a[0], type(a[0]))"
   ]
  },
  {
   "cell_type": "code",
   "execution_count": 83,
   "id": "055eb0b7",
   "metadata": {},
   "outputs": [
    {
     "name": "stdout",
     "output_type": "stream",
     "text": [
      "[1, 2, 3, 4, 5, 6]\n"
     ]
    }
   ],
   "source": [
    "a = [1, 2]\n",
    "a += [3,4,5,6]\n",
    "print(a)"
   ]
  },
  {
   "cell_type": "code",
   "execution_count": 91,
   "id": "4b95cf64",
   "metadata": {},
   "outputs": [
    {
     "name": "stdout",
     "output_type": "stream",
     "text": [
      "4\n",
      "5\n",
      "15\n",
      "[1, 2, 100500, 6, [0, 0, 0, 1, 1, 1, 1, 1, 1, 1, 1, 1, 1, 1, 1, 1], 1, 1, 1, 2, 2, 2, 2, 2, 2, 2]\n"
     ]
    }
   ],
   "source": [
    "a = [1, 2]\n",
    "b = a\n",
    "a.append(100500)\n",
    "a.append(6)\n",
    "print(len(a))\n",
    "a.append([0, 0, 0, 1,1,1,1,1,1,1,1,1,1,1,1,1])\n",
    "print(len(a))\n",
    "a.extend([1, 1, 1, 2,2,2,2,2,2,2,])\n",
    "print(len(a))\n",
    "print(b)"
   ]
  },
  {
   "cell_type": "code",
   "execution_count": 93,
   "id": "2cbdc93d",
   "metadata": {},
   "outputs": [
    {
     "name": "stdout",
     "output_type": "stream",
     "text": [
      "['a', 'b', 'c', 'd', 'e', 'f']\n",
      "['a', 'b', 'c', 'd', 'e', 'f']\n"
     ]
    }
   ],
   "source": [
    "a = list('abcdef')\n",
    "print(a)\n",
    "print(str(a))"
   ]
  },
  {
   "cell_type": "code",
   "execution_count": 96,
   "id": "add27484",
   "metadata": {},
   "outputs": [
    {
     "name": "stdout",
     "output_type": "stream",
     "text": [
      "True True False\n"
     ]
    }
   ],
   "source": [
    "a = list(range(100))\n",
    "print(10 in a, 90 in a, -1 in a)"
   ]
  },
  {
   "cell_type": "code",
   "execution_count": 99,
   "id": "74e01fbd",
   "metadata": {},
   "outputs": [
    {
     "name": "stdout",
     "output_type": "stream",
     "text": [
      "True True\n"
     ]
    }
   ],
   "source": [
    "a = list(range(100)) + ['ab', 'cd', 'a']\n",
    "print(1 in a, 'c' in a[-2])"
   ]
  },
  {
   "cell_type": "code",
   "execution_count": 100,
   "id": "74e800e9",
   "metadata": {},
   "outputs": [
    {
     "name": "stdout",
     "output_type": "stream",
     "text": [
      "False\n",
      "True\n"
     ]
    }
   ],
   "source": [
    "print([1,2] in [1,2])\n",
    "print('12' in '12')"
   ]
  },
  {
   "cell_type": "code",
   "execution_count": 102,
   "id": "d1dee3c4",
   "metadata": {},
   "outputs": [
    {
     "name": "stdout",
     "output_type": "stream",
     "text": [
      "False\n",
      "True\n",
      "True\n"
     ]
    }
   ],
   "source": [
    "print([1,2] in [1,2,3])\n",
    "print('12' in '123')\n",
    "print([1,2] in [1,2,3,[1,2]])"
   ]
  },
  {
   "cell_type": "code",
   "execution_count": 103,
   "id": "74b20636",
   "metadata": {},
   "outputs": [
    {
     "name": "stdout",
     "output_type": "stream",
     "text": [
      "True\n"
     ]
    }
   ],
   "source": [
    "print('hell' in 'hello')"
   ]
  },
  {
   "cell_type": "code",
   "execution_count": 105,
   "id": "56bd3608",
   "metadata": {},
   "outputs": [
    {
     "name": "stdout",
     "output_type": "stream",
     "text": [
      "0 1\n",
      "1 82\n",
      "2 83\n",
      "3 84\n",
      "4 5\n"
     ]
    }
   ],
   "source": [
    "a = [1, 82, 83, 84, 5]\n",
    "for i in range(len(a)):\n",
    "    print(i, a[i])"
   ]
  }
 ],
 "metadata": {
  "kernelspec": {
   "display_name": "Python 3",
   "language": "python",
   "name": "python3"
  },
  "language_info": {
   "codemirror_mode": {
    "name": "ipython",
    "version": 3
   },
   "file_extension": ".py",
   "mimetype": "text/x-python",
   "name": "python",
   "nbconvert_exporter": "python",
   "pygments_lexer": "ipython3",
   "version": "3.8.12"
  }
 },
 "nbformat": 4,
 "nbformat_minor": 5
}
