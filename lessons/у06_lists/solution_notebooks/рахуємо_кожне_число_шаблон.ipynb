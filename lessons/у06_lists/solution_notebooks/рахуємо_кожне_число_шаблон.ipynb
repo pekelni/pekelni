{
    "cells": [
        {
            "cell_type": "code",
            "execution_count": 666,
            "metadata": {},
            "outputs": [],
            "source": [
                "НАЙБІЛЬШЕ_ЧИСЛО = 100\n",
                "списки_чисел = [\n",
                "    '0 100 100 88 2 2 2 22 31 48 59',\n",
                "    '66 66 66',\n",
                "    '1 2 3 66 66 66 77 77 77 51 51 51 1 2 3 12 3',\n",
                "    '1 1 1 91 91 91 2 2 2 2 2 2 2 2 2 2 2 2 77 47 31',\n",
                "    '1 1 1 91 91 91 2 2 2 2 2 2 2 2 2 2 2 2 77 47 31 18 18 18 18 18 18 18 18',\n",
                "]\n",
                "\n",
                "for числа in списки_чисел:\n",
                "    print(f'числа: {числа}')\n",
                "    # порахуйте і виведіть лічильник для кожного числа"
            ]
        }
    ],
    "metadata": {
        "kernelspec": {
            "display_name": "Python 3",
            "language": "python",
            "name": "python3"
        },
        "language_info": {
            "codemirror_mode": {
                "name": "ipython",
                "version": 3
            },
            "file_extension": ".py",
            "mimetype": "text/x-python",
            "name": "python",
            "nbconvert_exporter": "python",
            "pygments_lexer": "ipython3",
            "version": "3.8.11"
        }
    },
    "nbformat": 4,
    "nbformat_minor": 5
}