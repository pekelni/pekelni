{
    "cells": [
        {
            "cell_type": "code",
            "execution_count": 666,
            "metadata": {},
            "outputs": [],
            "source": [
                "import random\n",
                "\n",
                "поле = ['X'] * 5 + ['0'] * 4\n",
                "random.shuffle(поле)\n",
                "for i in range(len(поле)):\n",
                "    print(поле[i], end=' ')\n",
                "    if i % 3 == 2:\n",
                "        print()"
            ]
        }
    ],
    "metadata": {
        "kernelspec": {
            "display_name": "Python 3",
            "language": "python",
            "name": "python3"
        },
        "language_info": {
            "codemirror_mode": {
                "name": "ipython",
                "version": 3
            },
            "file_extension": ".py",
            "mimetype": "text/x-python",
            "name": "python",
            "nbconvert_exporter": "python",
            "pygments_lexer": "ipython3",
            "version": "3.8.11"
        }
    },
    "nbformat": 4,
    "nbformat_minor": 5
}