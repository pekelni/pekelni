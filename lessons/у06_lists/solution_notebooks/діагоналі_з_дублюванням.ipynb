{
    "cells": [
        {
            "cell_type": "code",
            "execution_count": 666,
            "metadata": {},
            "outputs": [],
            "source": [
                "РОЗМІР_ДОШКИ = 8\n",
                "\n",
                "ПУСТИЙ_РЯДОК = list()\n",
                "for i in range(РОЗМІР_ДОШКИ):\n",
                "    ПУСТИЙ_РЯДОК.append(False)\n",
                "\n",
                "for різниця in range(1 - РОЗМІР_ДОШКИ, РОЗМІР_ДОШКИ):\n",
                "    print()\n",
                "    дошка = list()\n",
                "    for i in range(РОЗМІР_ДОШКИ):\n",
                "        дошка.append(list(ПУСТИЙ_РЯДОК))\n",
                "\n",
                "    for i in range(РОЗМІР_ДОШКИ):\n",
                "        for j in range(РОЗМІР_ДОШКИ):\n",
                "            if i - j == різниця:\n",
                "                дошка[i][j] = True\n",
                "\n",
                "    for рядок in дошка:\n",
                "        print(end='|')\n",
                "        for клітина in рядок:\n",
                "            символ = 'D' if клітина else ' '\n",
                "            print(символ, end='|')\n",
                "        print()\n",
                "\n",
                "for сума in range(2 * РОЗМІР_ДОШКИ - 1):\n",
                "    print()\n",
                "    дошка = list()\n",
                "    for i in range(РОЗМІР_ДОШКИ):\n",
                "        дошка.append(list(ПУСТИЙ_РЯДОК))\n",
                "\n",
                "    for i in range(РОЗМІР_ДОШКИ):\n",
                "        for j in range(РОЗМІР_ДОШКИ):\n",
                "            if i + j == сума:\n",
                "                дошка[i][j] = True\n",
                "\n",
                "    for рядок in дошка:\n",
                "        print(end='|')\n",
                "        for клітина in рядок:\n",
                "            символ = 'D' if клітина else ' '\n",
                "            print(символ, end='|')\n",
                "        print()"
            ]
        }
    ],
    "metadata": {
        "kernelspec": {
            "display_name": "Python 3",
            "language": "python",
            "name": "python3"
        },
        "language_info": {
            "codemirror_mode": {
                "name": "ipython",
                "version": 3
            },
            "file_extension": ".py",
            "mimetype": "text/x-python",
            "name": "python",
            "nbconvert_exporter": "python",
            "pygments_lexer": "ipython3",
            "version": "3.8.11"
        }
    },
    "nbformat": 4,
    "nbformat_minor": 5
}