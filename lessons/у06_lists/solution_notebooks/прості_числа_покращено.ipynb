{
    "cells": [
        {
            "cell_type": "code",
            "execution_count": 666,
            "metadata": {},
            "outputs": [],
            "source": [
                "import time\n",
                "\n",
                "прості_числа = list()\n",
                "\n",
                "start = time.time()\n",
                "for число in range(2, 20_000):\n",
                "    просте = True\n",
                "    for дільник in прості_числа:\n",
                "        if число % дільник == 0:\n",
                "            просте = False\n",
                "            break\n",
                "    if not просте:\n",
                "        continue\n",
                "    прості_числа.append(число)\n",
                "    if len(прості_числа) % 200 == 0:\n",
                "        print(число, end=' ')\n",
                "\n",
                "тривалість = time.time() - start\n",
                "print(f'\\nПошук простих чисел зайняв {round(тривалість, 2)} секунд')"
            ]
        }
    ],
    "metadata": {
        "kernelspec": {
            "display_name": "Python 3",
            "language": "python",
            "name": "python3"
        },
        "language_info": {
            "codemirror_mode": {
                "name": "ipython",
                "version": 3
            },
            "file_extension": ".py",
            "mimetype": "text/x-python",
            "name": "python",
            "nbconvert_exporter": "python",
            "pygments_lexer": "ipython3",
            "version": "3.8.11"
        }
    },
    "nbformat": 4,
    "nbformat_minor": 5
}