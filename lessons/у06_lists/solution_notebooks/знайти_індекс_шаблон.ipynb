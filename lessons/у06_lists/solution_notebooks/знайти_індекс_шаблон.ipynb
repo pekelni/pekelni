{
    "cells": [
        {
            "cell_type": "code",
            "execution_count": 666,
            "metadata": {},
            "outputs": [],
            "source": [
                "import random\n",
                "\n",
                "random.seed(1234)\n",
                "\n",
                "випадкові_списки = list()\n",
                "for _ in range(10):\n",
                "    випадкові_списки.append(list())\n",
                "    for i in range(random.randint(6, 20)):\n",
                "        випадкові_списки[-1].append(random.randint(1, 16))\n",
                "\n",
                "for список_чисел in випадкові_списки:\n",
                "    індекс_першого_найбільшого = -1\n",
                "    # напишіть тут код який буде правильно присвоювати значення у змінну індекс_першого_найбільшого\n",
                "    print(f'індекс={індекс_першого_найбільшого}, значення={список_чисел[індекс_першого_найбільшого]}, список={список_чисел}')"
            ]
        }
    ],
    "metadata": {
        "kernelspec": {
            "display_name": "Python 3",
            "language": "python",
            "name": "python3"
        },
        "language_info": {
            "codemirror_mode": {
                "name": "ipython",
                "version": 3
            },
            "file_extension": ".py",
            "mimetype": "text/x-python",
            "name": "python",
            "nbconvert_exporter": "python",
            "pygments_lexer": "ipython3",
            "version": "3.8.11"
        }
    },
    "nbformat": 4,
    "nbformat_minor": 5
}