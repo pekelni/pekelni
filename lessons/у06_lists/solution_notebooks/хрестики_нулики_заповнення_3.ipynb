{
    "cells": [
        {
            "cell_type": "code",
            "execution_count": 666,
            "metadata": {},
            "outputs": [],
            "source": [
                "import itertools\n",
                "import random\n",
                "\n",
                "РОЗМІР_ПОЛЯ = 3\n",
                "ЗНАКИ = ('X', '0')\n",
                "поле = [[None for _ in range(РОЗМІР_ПОЛЯ)] for _ in range(РОЗМІР_ПОЛЯ)]\n",
                "координати_клітинок = list(itertools.product(range(РОЗМІР_ПОЛЯ), range(РОЗМІР_ПОЛЯ)))\n",
                "random.shuffle(координати_клітинок)\n",
                "\n",
                "for номер_ходу, (рядок, колонка) in enumerate(координати_клітинок):\n",
                "    поле[рядок][колонка] = ЗНАКИ[номер_ходу % 2]\n",
                "    for рядок in поле:\n",
                "        print(' '.join(символ or '_' for символ in рядок))\n",
                "    print()"
            ]
        }
    ],
    "metadata": {
        "kernelspec": {
            "display_name": "Python 3",
            "language": "python",
            "name": "python3"
        },
        "language_info": {
            "codemirror_mode": {
                "name": "ipython",
                "version": 3
            },
            "file_extension": ".py",
            "mimetype": "text/x-python",
            "name": "python",
            "nbconvert_exporter": "python",
            "pygments_lexer": "ipython3",
            "version": "3.8.11"
        }
    },
    "nbformat": 4,
    "nbformat_minor": 5
}