{
    "cells": [
        {
            "cell_type": "code",
            "execution_count": 666,
            "metadata": {},
            "outputs": [],
            "source": [
                "НИЖНІ_МЕЖІ = [10, 20, 30, 40]\n",
                "ОЦІНКИ = ['A', 'B', 'C', 'D']\n",
                "бали = input('Введіть бали, розділені пробілом: ')\n",
                "бали = бали.split()\n",
                "\n",
                "if бали:\n",
                "    кращий_бал = None\n",
                "    for індекс_балу in range(len(бали)):\n",
                "        бали[індекс_балу] = int(бали[індекс_балу])\n",
                "        if not кращий_бал or бали[індекс_балу] > кращий_бал:\n",
                "            кращий_бал = бали[індекс_балу]\n",
                "\n",
                "    for індекс_балу in range(len(бали)):\n",
                "        оцінка = 'F'\n",
                "        for індекс_оцінки in range(len(НИЖНІ_МЕЖІ)):\n",
                "            if бали[індекс_балу] >= кращий_бал - НИЖНІ_МЕЖІ[індекс_оцінки]:\n",
                "                оцінка = ОЦІНКИ[індекс_оцінки]\n",
                "                break\n",
                "        print(f'У студента #{індекс_балу} {бали[індекс_балу]} балів, а оцінка - {оцінка}')"
            ]
        }
    ],
    "metadata": {
        "kernelspec": {
            "display_name": "Python 3",
            "language": "python",
            "name": "python3"
        },
        "language_info": {
            "codemirror_mode": {
                "name": "ipython",
                "version": 3
            },
            "file_extension": ".py",
            "mimetype": "text/x-python",
            "name": "python",
            "nbconvert_exporter": "python",
            "pygments_lexer": "ipython3",
            "version": "3.8.11"
        }
    },
    "nbformat": 4,
    "nbformat_minor": 5
}