{
    "cells": [
        {
            "cell_type": "code",
            "execution_count": 666,
            "metadata": {},
            "outputs": [],
            "source": [
                "import random\n",
                "\n",
                "КАМІНЬ, НОЖИЦІ, ПАПІР = 3, 2, 1\n",
                "ПЕРШИЙ_ПЕРЕМАГАЄ = ((КАМІНЬ, НОЖИЦІ), (НОЖИЦІ, ПАПІР), (ПАПІР, КАМІНЬ))\n",
                "\n",
                "людина = int(input('Введіть камінь (3), ножиці (2) або папір (1): '))\n",
                "машини = random.randint(1, 3)\n",
                "\n",
                "if людина == машини:\n",
                "    переможець = 'ніхто'\n",
                "elif (людина, машини) in ПЕРШИЙ_ПЕРЕМАГАЄ:\n",
                "    переможець = 'людина'\n",
                "else:\n",
                "    переможець = 'машини'\n",
                "\n",
                "if машини == КАМІНЬ:\n",
                "    машини = 'камінь'\n",
                "elif машини == НОЖИЦІ:\n",
                "    машини = 'ножиці'\n",
                "else:\n",
                "    машини = 'папір'\n",
                "\n",
                "print('Машини зробили ставку на ' + машини)\n",
                "\n",
                "if переможець == 'людина':\n",
                "    print('Ви перемогли, підступні плани машин не увінчалися успіхом, але не варто розслаблятися.')\n",
                "elif переможець == 'машини':\n",
                "    print('Ви програли. Термінатор вже виїхав.')\n",
                "else:\n",
                "    print('Сили людей и машин виявилися рівними цього разу.')"
            ]
        }
    ],
    "metadata": {
        "kernelspec": {
            "display_name": "Python 3",
            "language": "python",
            "name": "python3"
        },
        "language_info": {
            "codemirror_mode": {
                "name": "ipython",
                "version": 3
            },
            "file_extension": ".py",
            "mimetype": "text/x-python",
            "name": "python",
            "nbconvert_exporter": "python",
            "pygments_lexer": "ipython3",
            "version": "3.8.11"
        }
    },
    "nbformat": 4,
    "nbformat_minor": 5
}