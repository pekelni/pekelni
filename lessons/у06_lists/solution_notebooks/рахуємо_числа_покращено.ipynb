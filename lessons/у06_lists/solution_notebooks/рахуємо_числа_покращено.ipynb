{
    "cells": [
        {
            "cell_type": "code",
            "execution_count": 666,
            "metadata": {},
            "outputs": [],
            "source": [
                "сумма = 0\n",
                "лічильник_додатніх = 0\n",
                "лічильник_відємних = 0\n",
                "лічильник_усіх = 0\n",
                "\n",
                "числа = input('Введіть усі числа, розділені пробілами: ')\n",
                "числа = числа.split()\n",
                "for число in числа:\n",
                "    число = int(число)\n",
                "    if число > 0:\n",
                "        лічильник_додатніх += 1\n",
                "    elif число < 0:\n",
                "        лічильник_відємних += 1\n",
                "    лічильник_усіх += 1\n",
                "    сумма += число\n",
                "\n",
                "if лічильник_усіх:\n",
                "    середнє = round(сумма / лічильник_усіх, 2)\n",
                "else:\n",
                "    середнє = 'не визначено'\n",
                "print('Додатніх чисел: ' + str(лічильник_додатніх) + \"; від'ємних чисел: \" + str(лічильник_відємних))\n",
                "print('Сума усіх чисел: ' + str(сумма) + '; середнє значення: ' + str(середнє))"
            ]
        }
    ],
    "metadata": {
        "kernelspec": {
            "display_name": "Python 3",
            "language": "python",
            "name": "python3"
        },
        "language_info": {
            "codemirror_mode": {
                "name": "ipython",
                "version": 3
            },
            "file_extension": ".py",
            "mimetype": "text/x-python",
            "name": "python",
            "nbconvert_exporter": "python",
            "pygments_lexer": "ipython3",
            "version": "3.8.11"
        }
    },
    "nbformat": 4,
    "nbformat_minor": 5
}