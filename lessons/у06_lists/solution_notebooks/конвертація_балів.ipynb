{
    "cells": [
        {
            "cell_type": "code",
            "execution_count": 666,
            "metadata": {},
            "outputs": [],
            "source": [
                "бали = input('Введіть бали, розділені пробілом: ')\n",
                "бали = бали.split()\n",
                "if бали:\n",
                "    кращий_бал = None\n",
                "    for i in range(len(бали)):\n",
                "        бали[i] = int(бали[i])\n",
                "        if not кращий_бал or бали[i] > кращий_бал:\n",
                "            кращий_бал = бали[i]\n",
                "\n",
                "    for i in range(len(бали)):\n",
                "        if бали[i] >= кращий_бал - 10:\n",
                "            оцінка = 'A'\n",
                "        elif бали[i] >= кращий_бал - 20:\n",
                "            оцінка = 'B'\n",
                "        elif бали[i] >= кращий_бал - 30:\n",
                "            оцінка = 'C'\n",
                "        elif бали[i] >= кращий_бал - 40:\n",
                "            оцінка = 'D'\n",
                "        else:\n",
                "            оцінка = 'F'\n",
                "        print(f'У студента #{i} {бали[i]} балів, а оцінка - {оцінка}')"
            ]
        }
    ],
    "metadata": {
        "kernelspec": {
            "display_name": "Python 3",
            "language": "python",
            "name": "python3"
        },
        "language_info": {
            "codemirror_mode": {
                "name": "ipython",
                "version": 3
            },
            "file_extension": ".py",
            "mimetype": "text/x-python",
            "name": "python",
            "nbconvert_exporter": "python",
            "pygments_lexer": "ipython3",
            "version": "3.8.11"
        }
    },
    "nbformat": 4,
    "nbformat_minor": 5
}