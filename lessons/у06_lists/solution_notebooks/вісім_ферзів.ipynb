{
    "cells": [
        {
            "cell_type": "code",
            "execution_count": 666,
            "metadata": {},
            "outputs": [],
            "source": [
                "import random\n",
                "\n",
                "РОЗМІР_ДОШКИ = 8\n",
                "дошка = list()\n",
                "ПУСТИЙ_РЯДОК = list()\n",
                "for j in range(РОЗМІР_ДОШКИ):\n",
                "    ПУСТИЙ_РЯДОК.append(False)\n",
                "for i in range(РОЗМІР_ДОШКИ):\n",
                "    рядок = list(ПУСТИЙ_РЯДОК)\n",
                "    рядок[i] = True\n",
                "    дошка.append(рядок)\n",
                "\n",
                "лічильник_спроб = 0\n",
                "while True:\n",
                "    random.shuffle(дошка)\n",
                "    лічильник_спроб += 1\n",
                "\n",
                "    рішення_знайдене = True\n",
                "    for сума in range(РОЗМІР_ДОШКИ * 2 - 1):\n",
                "        ферзів_на_діагоналі = 0\n",
                "        for i in range(РОЗМІР_ДОШКИ):\n",
                "            for j in range(РОЗМІР_ДОШКИ):\n",
                "                if i + j == сума:\n",
                "                    ферзів_на_діагоналі += дошка[i][j]\n",
                "        if ферзів_на_діагоналі > 1:\n",
                "            рішення_знайдене = False\n",
                "\n",
                "    for різниця in range(1 - РОЗМІР_ДОШКИ, РОЗМІР_ДОШКИ):\n",
                "        ферзів_на_діагоналі = 0\n",
                "        for i in range(РОЗМІР_ДОШКИ):\n",
                "            for j in range(РОЗМІР_ДОШКИ):\n",
                "                if i - j == різниця:\n",
                "                    ферзів_на_діагоналі += дошка[i][j]\n",
                "        if ферзів_на_діагоналі > 1:\n",
                "            рішення_знайдене = False\n",
                "\n",
                "    if рішення_знайдене:\n",
                "        break\n",
                "\n",
                "print(f'Пошук зайняв {лічильник_спроб} спроб')\n",
                "for рядок in дошка:\n",
                "    print(end='|')\n",
                "    for клітина in рядок:\n",
                "        символ = 'Q' if клітина else ' '\n",
                "        print(символ, end='|')\n",
                "    print()"
            ]
        }
    ],
    "metadata": {
        "kernelspec": {
            "display_name": "Python 3",
            "language": "python",
            "name": "python3"
        },
        "language_info": {
            "codemirror_mode": {
                "name": "ipython",
                "version": 3
            },
            "file_extension": ".py",
            "mimetype": "text/x-python",
            "name": "python",
            "nbconvert_exporter": "python",
            "pygments_lexer": "ipython3",
            "version": "3.8.11"
        }
    },
    "nbformat": 4,
    "nbformat_minor": 5
}