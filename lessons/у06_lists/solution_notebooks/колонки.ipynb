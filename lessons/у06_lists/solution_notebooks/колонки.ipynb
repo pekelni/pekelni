{
    "cells": [
        {
            "cell_type": "code",
            "execution_count": 666,
            "metadata": {},
            "outputs": [],
            "source": [
                "print('Введіть висоти колонок:')\n",
                "колонки = input()\n",
                "колонки = колонки.split()\n",
                "for i in range(len(колонки)):\n",
                "    колонки[i] = int(колонки[i])\n",
                "\n",
                "найбільша_висота = 0\n",
                "for висота in колонки:\n",
                "    if висота > найбільша_висота:\n",
                "        найбільша_висота = висота\n",
                "\n",
                "for поточна_висота in range(найбільша_висота, 0, -1):\n",
                "    for висота_колонки in колонки:\n",
                "        if висота_колонки >= поточна_висота:\n",
                "            print('$ ', end='')\n",
                "        else:\n",
                "            print('  ', end='')\n",
                "    print()"
            ]
        }
    ],
    "metadata": {
        "kernelspec": {
            "display_name": "Python 3",
            "language": "python",
            "name": "python3"
        },
        "language_info": {
            "codemirror_mode": {
                "name": "ipython",
                "version": 3
            },
            "file_extension": ".py",
            "mimetype": "text/x-python",
            "name": "python",
            "nbconvert_exporter": "python",
            "pygments_lexer": "ipython3",
            "version": "3.8.11"
        }
    },
    "nbformat": 4,
    "nbformat_minor": 5
}