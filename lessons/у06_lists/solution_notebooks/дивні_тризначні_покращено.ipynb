{
    "cells": [
        {
            "cell_type": "code",
            "execution_count": 666,
            "metadata": {},
            "outputs": [],
            "source": [
                "лічильник = 0\n",
                "ДОПУСТИМІ_ЦИФРИ = [0, 1, 2, 4]\n",
                "for цифра_1 in ДОПУСТИМІ_ЦИФРИ[1:]:\n",
                "    for цифра_2 in ДОПУСТИМІ_ЦИФРИ:\n",
                "        for цифра_3 in ДОПУСТИМІ_ЦИФРИ:\n",
                "            лічильник += 1\n",
                "            print(цифра_1, цифра_2, цифра_3, sep='', end=' ')\n",
                "            if лічильник >= 10:\n",
                "                лічильник = 0\n",
                "                print()"
            ]
        }
    ],
    "metadata": {
        "kernelspec": {
            "display_name": "Python 3",
            "language": "python",
            "name": "python3"
        },
        "language_info": {
            "codemirror_mode": {
                "name": "ipython",
                "version": 3
            },
            "file_extension": ".py",
            "mimetype": "text/x-python",
            "name": "python",
            "nbconvert_exporter": "python",
            "pygments_lexer": "ipython3",
            "version": "3.8.11"
        }
    },
    "nbformat": 4,
    "nbformat_minor": 5
}