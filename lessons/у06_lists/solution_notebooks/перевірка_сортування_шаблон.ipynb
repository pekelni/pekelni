{
    "cells": [
        {
            "cell_type": "code",
            "execution_count": 666,
            "metadata": {},
            "outputs": [],
            "source": [
                "import random\n",
                "\n",
                "random.seed(1234)\n",
                "\n",
                "випадкові_списки = [\n",
                "    '1 2 3 4 5 666 666',\n",
                "    '1 2 3 2 1',\n",
                "    '-1 1 2 -3',\n",
                "    '-1234.99 8 9 10 100500 666666',\n",
                "]\n",
                "\n",
                "\n",
                "for список_як_рядок in випадкові_списки:\n",
                "    відсортований = True\n",
                "    # напишіть код який перевіряє відсортованість\n",
                "    print(f'Відсортований: {відсортований}, список: {список_як_рядок}')"
            ]
        }
    ],
    "metadata": {
        "kernelspec": {
            "display_name": "Python 3",
            "language": "python",
            "name": "python3"
        },
        "language_info": {
            "codemirror_mode": {
                "name": "ipython",
                "version": 3
            },
            "file_extension": ".py",
            "mimetype": "text/x-python",
            "name": "python",
            "nbconvert_exporter": "python",
            "pygments_lexer": "ipython3",
            "version": "3.8.11"
        }
    },
    "nbformat": 4,
    "nbformat_minor": 5
}