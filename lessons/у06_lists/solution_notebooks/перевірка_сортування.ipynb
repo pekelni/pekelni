{
    "cells": [
        {
            "cell_type": "code",
            "execution_count": 666,
            "metadata": {},
            "outputs": [],
            "source": [
                "import random\n",
                "\n",
                "random.seed(1234)\n",
                "\n",
                "випадкові_списки = [\n",
                "    '1 2 3 4 5 666 666',\n",
                "    '1 2 3 2 1',\n",
                "    '-1 1 2 -3',\n",
                "    '-1234.99 8 9 10 100500 666666',\n",
                "]\n",
                "\n",
                "\n",
                "for список_як_рядок in випадкові_списки:\n",
                "    список = список_як_рядок.split()\n",
                "    for i in range(len(список)):\n",
                "        список[i] = float(список[i])\n",
                "    відсортований = True\n",
                "    for i in range(1, len(список)):\n",
                "        if список[i - 1] > список[i]:\n",
                "            відсортований = False\n",
                "            break\n",
                "    print(f'Відсортований: {відсортований}, список: {список_як_рядок}')"
            ]
        }
    ],
    "metadata": {
        "kernelspec": {
            "display_name": "Python 3",
            "language": "python",
            "name": "python3"
        },
        "language_info": {
            "codemirror_mode": {
                "name": "ipython",
                "version": 3
            },
            "file_extension": ".py",
            "mimetype": "text/x-python",
            "name": "python",
            "nbconvert_exporter": "python",
            "pygments_lexer": "ipython3",
            "version": "3.8.11"
        }
    },
    "nbformat": 4,
    "nbformat_minor": 5
}