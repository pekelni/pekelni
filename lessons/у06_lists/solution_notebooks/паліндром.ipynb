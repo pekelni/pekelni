{
    "cells": [
        {
            "cell_type": "code",
            "execution_count": 666,
            "metadata": {},
            "outputs": [],
            "source": [
                "рядки = [\n",
                "    'абвба', 'абввба', '123421', '78a87', 'дамблдор', '6666', '77777', 'FuFuF' * 10\n",
                "]\n",
                "\n",
                "for рядок in рядки:\n",
                "    паліндром = True\n",
                "    for i in range(len(рядок) // 2):\n",
                "        if рядок[i] != рядок[- i - 1]:\n",
                "            паліндром = False\n",
                "            break\n",
                "    результат = '' if паліндром else 'не '\n",
                "    print(f'{рядок}: {результат}паліндром')"
            ]
        }
    ],
    "metadata": {
        "kernelspec": {
            "display_name": "Python 3",
            "language": "python",
            "name": "python3"
        },
        "language_info": {
            "codemirror_mode": {
                "name": "ipython",
                "version": 3
            },
            "file_extension": ".py",
            "mimetype": "text/x-python",
            "name": "python",
            "nbconvert_exporter": "python",
            "pygments_lexer": "ipython3",
            "version": "3.8.11"
        }
    },
    "nbformat": 4,
    "nbformat_minor": 5
}