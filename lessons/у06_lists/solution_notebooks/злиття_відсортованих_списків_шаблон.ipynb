{
    "cells": [
        {
            "cell_type": "code",
            "execution_count": 666,
            "metadata": {},
            "outputs": [],
            "source": [
                "СПИСКИ_ЯК_РЯДКИ = [\n",
                "    '0 1 2 3, 4 5 6',\n",
                "    '1 1 3 5, 2 4 6',\n",
                "    '2 4 6, 1 3 5 6 7',\n",
                "    '2 4 66, 1 3 66 66',\n",
                "    '6 66 666, 1 1 1 2',\n",
                "    '3 10 11 18, 1 8 10 11 13 23'\n",
                "]\n",
                "\n",
                "for список_як_рядок in СПИСКИ_ЯК_РЯДКИ:\n",
                "    результат = list()\n",
                "    # проведіть конвертацію і злиття списків\n",
                "    print(f'{список_як_рядок} -> {результат}')"
            ]
        }
    ],
    "metadata": {
        "kernelspec": {
            "display_name": "Python 3",
            "language": "python",
            "name": "python3"
        },
        "language_info": {
            "codemirror_mode": {
                "name": "ipython",
                "version": 3
            },
            "file_extension": ".py",
            "mimetype": "text/x-python",
            "name": "python",
            "nbconvert_exporter": "python",
            "pygments_lexer": "ipython3",
            "version": "3.8.11"
        }
    },
    "nbformat": 4,
    "nbformat_minor": 5
}