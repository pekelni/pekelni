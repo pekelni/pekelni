{
    "cells": [
        {
            "cell_type": "code",
            "execution_count": 666,
            "metadata": {},
            "outputs": [],
            "source": [
                "РОЗМІР_ДОШКИ = 8\n",
                "\n",
                "МЕТА_ПАРАМЕТРИ = (\n",
                "    ('різниця', range(1 - РОЗМІР_ДОШКИ, РОЗМІР_ДОШКИ)),\n",
                "    ('сума', range(2 * РОЗМІР_ДОШКИ - 1)),\n",
                ")\n",
                "\n",
                "for тип_діагоналі, діапазон in МЕТА_ПАРАМЕТРИ:\n",
                "    for параметр_діагоналі in діапазон:\n",
                "        print()\n",
                "        for i in range(РОЗМІР_ДОШКИ):\n",
                "            print(end='|')\n",
                "            for j in range(РОЗМІР_ДОШКИ):\n",
                "                символ = ' '\n",
                "                if тип_діагоналі == 'сума':\n",
                "                    if i + j == параметр_діагоналі:\n",
                "                        символ = 'D'\n",
                "                elif тип_діагоналі == 'різниця':\n",
                "                    if i - j == параметр_діагоналі:\n",
                "                        символ = 'D'\n",
                "                print(символ, end='|')\n",
                "            print()"
            ]
        }
    ],
    "metadata": {
        "kernelspec": {
            "display_name": "Python 3",
            "language": "python",
            "name": "python3"
        },
        "language_info": {
            "codemirror_mode": {
                "name": "ipython",
                "version": 3
            },
            "file_extension": ".py",
            "mimetype": "text/x-python",
            "name": "python",
            "nbconvert_exporter": "python",
            "pygments_lexer": "ipython3",
            "version": "3.8.11"
        }
    },
    "nbformat": 4,
    "nbformat_minor": 5
}