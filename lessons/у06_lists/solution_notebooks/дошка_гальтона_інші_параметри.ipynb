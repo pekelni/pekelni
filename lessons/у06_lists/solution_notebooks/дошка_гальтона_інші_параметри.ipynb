{
    "cells": [
        {
            "cell_type": "code",
            "execution_count": 666,
            "metadata": {},
            "outputs": [],
            "source": [
                "import random\n",
                "\n",
                "КІЛЬКІСТЬ_СЛОТІВ = 25\n",
                "КІЛЬКІСТЬ_КУЛЬОК = 666\n",
                "кількість_рядів_цвяхів = КІЛЬКІСТЬ_СЛОТІВ - 1\n",
                "\n",
                "слоти = [0] * КІЛЬКІСТЬ_СЛОТІВ\n",
                "for i in range(КІЛЬКІСТЬ_КУЛЬОК):\n",
                "    номер_слоту = кількість_рядів_цвяхів / 2\n",
                "    for j in range(кількість_рядів_цвяхів):\n",
                "        номер_слоту += random.choice([-0.5, 0.5])\n",
                "    слоти[int(номер_слоту)] += 1\n",
                "\n",
                "for слот in слоти:\n",
                "    print('|' + '*' * слот)"
            ]
        }
    ],
    "metadata": {
        "kernelspec": {
            "display_name": "Python 3",
            "language": "python",
            "name": "python3"
        },
        "language_info": {
            "codemirror_mode": {
                "name": "ipython",
                "version": 3
            },
            "file_extension": ".py",
            "mimetype": "text/x-python",
            "name": "python",
            "nbconvert_exporter": "python",
            "pygments_lexer": "ipython3",
            "version": "3.8.11"
        }
    },
    "nbformat": 4,
    "nbformat_minor": 5
}