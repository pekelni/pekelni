{
    "cells": [
        {
            "cell_type": "code",
            "execution_count": 666,
            "metadata": {},
            "outputs": [],
            "source": [
                "import random\n",
                "\n",
                "РОЗМІР_ДОШКИ = 8\n",
                "дошка = list()\n",
                "ПУСТИЙ_РЯДОК = list()\n",
                "for j in range(РОЗМІР_ДОШКИ):\n",
                "    ПУСТИЙ_РЯДОК.append(False)\n",
                "for i in range(РОЗМІР_ДОШКИ):\n",
                "    рядок = list(ПУСТИЙ_РЯДОК)\n",
                "    рядок[i] = True\n",
                "    дошка.append(рядок)\n",
                "\n",
                "лічильник_спроб = 0\n",
                "рішення_знайдене = False\n",
                "while not рішення_знайдене:\n",
                "    random.shuffle(дошка)\n",
                "    лічильник_спроб += 1\n",
                "    МЕТА_ПАРАМЕТРИ = (\n",
                "        ('різниця', range(1 - РОЗМІР_ДОШКИ, РОЗМІР_ДОШКИ)),\n",
                "        ('сума', range(2 * РОЗМІР_ДОШКИ - 1)),\n",
                "    )\n",
                "    рішення_знайдене = True\n",
                "    for тип_діагоналі, діапазон in МЕТА_ПАРАМЕТРИ:\n",
                "        for параметр_діагоналі in діапазон:\n",
                "            ферзів_на_діагоналі = 0\n",
                "            for i in range(РОЗМІР_ДОШКИ):\n",
                "                for j in range(РОЗМІР_ДОШКИ):\n",
                "                    if тип_діагоналі == 'сума':\n",
                "                        if i + j == параметр_діагоналі:\n",
                "                            ферзів_на_діагоналі += дошка[i][j]\n",
                "                    elif тип_діагоналі == 'різниця':\n",
                "                        if i - j == параметр_діагоналі:\n",
                "                            ферзів_на_діагоналі += дошка[i][j]\n",
                "            if ферзів_на_діагоналі > 1:\n",
                "                рішення_знайдене = False\n",
                "\n",
                "print(f'Пошук зайняв {лічильник_спроб} спроб')\n",
                "for рядок in дошка:\n",
                "    print(end='|')\n",
                "    for клітина in рядок:\n",
                "        символ = 'Q' if клітина else ' '\n",
                "        print(символ, end='|')\n",
                "    print()"
            ]
        }
    ],
    "metadata": {
        "kernelspec": {
            "display_name": "Python 3",
            "language": "python",
            "name": "python3"
        },
        "language_info": {
            "codemirror_mode": {
                "name": "ipython",
                "version": 3
            },
            "file_extension": ".py",
            "mimetype": "text/x-python",
            "name": "python",
            "nbconvert_exporter": "python",
            "pygments_lexer": "ipython3",
            "version": "3.8.11"
        }
    },
    "nbformat": 4,
    "nbformat_minor": 5
}