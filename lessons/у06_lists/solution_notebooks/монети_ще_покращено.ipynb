{
    "cells": [
        {
            "cell_type": "code",
            "execution_count": 666,
            "metadata": {},
            "outputs": [],
            "source": [
                "НОМІНАЛИ = [50, 25, 10, 5, 1]\n",
                "сума = int(input('Введіть суму: '))\n",
                "\n",
                "if сума <= 0:\n",
                "    print('Сума має бути більшою за нуль')\n",
                "else:\n",
                "    for поточний_номінал in НОМІНАЛИ:\n",
                "        кількість_монет_поточного_номіналу = сума // поточний_номінал\n",
                "        сума %= поточний_номінал\n",
                "        if кількість_монет_поточного_номіналу:\n",
                "            print(f'Монет по {поточний_номінал} копійок: {кількість_монет_поточного_номіналу}')"
            ]
        }
    ],
    "metadata": {
        "kernelspec": {
            "display_name": "Python 3",
            "language": "python",
            "name": "python3"
        },
        "language_info": {
            "codemirror_mode": {
                "name": "ipython",
                "version": 3
            },
            "file_extension": ".py",
            "mimetype": "text/x-python",
            "name": "python",
            "nbconvert_exporter": "python",
            "pygments_lexer": "ipython3",
            "version": "3.8.11"
        }
    },
    "nbformat": 4,
    "nbformat_minor": 5
}